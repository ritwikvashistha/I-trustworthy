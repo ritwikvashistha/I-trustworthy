{
  "nbformat": 4,
  "nbformat_minor": 0,
  "metadata": {
    "colab": {
      "provenance": [],
      "toc_visible": true
    },
    "kernelspec": {
      "name": "python3",
      "display_name": "Python 3"
    },
    "language_info": {
      "name": "python"
    }
  },
  "cells": [
    {
      "cell_type": "code",
      "source": [
        "import numpy as np\n",
        "import pandas as pd\n",
        "import matplotlib.pyplot as plt\n",
        "from sklearn.model_selection import train_test_split, GridSearchCV, RandomizedSearchCV\n",
        "from pmc import MultiCalibrator, Auditor\n",
        "from KiTE.metrics import ELCE2\n",
        "from sklearn.linear_model import LogisticRegression\n",
        "from sklearn.ensemble import RandomForestClassifier"
      ],
      "metadata": {
        "id": "pCaO4F01CAQm"
      },
      "execution_count": null,
      "outputs": []
    },
    {
      "cell_type": "code",
      "source": [
        "!pip install git+https://github.com/A-Good-System-for-Smart-Cities/KiTE-utils.git"
      ],
      "metadata": {
        "id": "1eTOBfNoVoRu"
      },
      "execution_count": null,
      "outputs": []
    },
    {
      "cell_type": "code",
      "source": [
        "!pip install git+https://github.com/cavalab/pmcboost"
      ],
      "metadata": {
        "colab": {
          "base_uri": "https://localhost:8080/"
        },
        "id": "Vy-tn5U1VTsH",
        "outputId": "a6b7531b-4927-4781-ef8a-a6208b639a07"
      },
      "execution_count": null,
      "outputs": [
        {
          "output_type": "stream",
          "name": "stdout",
          "text": [
            "Collecting git+https://github.com/cavalab/pmcboost\n",
            "  Cloning https://github.com/cavalab/pmcboost to /tmp/pip-req-build-f7di5ftl\n",
            "  Running command git clone --filter=blob:none --quiet https://github.com/cavalab/pmcboost /tmp/pip-req-build-f7di5ftl\n",
            "  Resolved https://github.com/cavalab/pmcboost to commit 599b7f9792bc475d2cf803e455b9a5564670f625\n",
            "  Preparing metadata (setup.py) ... \u001b[?25l\u001b[?25hdone\n",
            "Building wheels for collected packages: pmcboost\n",
            "  Building wheel for pmcboost (setup.py) ... \u001b[?25l\u001b[?25hdone\n",
            "  Created wheel for pmcboost: filename=pmcboost-0.2-py3-none-any.whl size=11300 sha256=668b0d49c9c5d73c4ad42bc768858ff2cc2737be1a7da763bd6a841c875596f1\n",
            "  Stored in directory: /tmp/pip-ephem-wheel-cache-rmg50bz_/wheels/25/41/7c/b5555e09d1079cf56e3d7975cae0bb3a5e664dfe26342b2538\n",
            "Successfully built pmcboost\n",
            "Installing collected packages: pmcboost\n",
            "Successfully installed pmcboost-0.2\n"
          ]
        }
      ]
    },
    {
      "cell_type": "markdown",
      "source": [
        "# Importing Data"
      ],
      "metadata": {
        "id": "UARIhNv3TI6u"
      }
    },
    {
      "cell_type": "code",
      "source": [
        "df = pd.read_csv('https://raw.githubusercontent.com/afarahi/Scientific-Machine-Learning/main/AHS_2019_Cleaned.CSV').drop('Unnamed: 0', axis=1)\n",
        "df.head()"
      ],
      "metadata": {
        "colab": {
          "base_uri": "https://localhost:8080/",
          "height": 206
        },
        "id": "JQ4UFrspC415",
        "outputId": "9314b2e0-51ac-4a37-baa4-fd6e9c3065d6"
      },
      "execution_count": null,
      "outputs": [
        {
          "output_type": "execute_result",
          "data": {
            "text/plain": [
              "   BLACK  HHSEX  METRO  HHGRAD  HHMAR  HHCITSHP  HHAGE  NUMPEOPLE     HINCP  \\\n",
              "0    0.0      1    1.0      44      1         1     52          3  5.409933   \n",
              "1    0.0      2    1.0      44      4         1     80          2  5.303196   \n",
              "2    0.0      1    1.0      47      1         1     72          2  4.825426   \n",
              "3    1.0      2    1.0      40      6         1     60          1  4.544068   \n",
              "4    0.0      2    1.0      39      3         1     80          2  4.309630   \n",
              "\n",
              "   DIVISION  OWNER  \n",
              "0         5    1.0  \n",
              "1         1    1.0  \n",
              "2         7    1.0  \n",
              "3         4    0.0  \n",
              "4         4    0.0  "
            ],
            "text/html": [
              "<div>\n",
              "<style scoped>\n",
              "    .dataframe tbody tr th:only-of-type {\n",
              "        vertical-align: middle;\n",
              "    }\n",
              "\n",
              "    .dataframe tbody tr th {\n",
              "        vertical-align: top;\n",
              "    }\n",
              "\n",
              "    .dataframe thead th {\n",
              "        text-align: right;\n",
              "    }\n",
              "</style>\n",
              "<table border=\"1\" class=\"dataframe\">\n",
              "  <thead>\n",
              "    <tr style=\"text-align: right;\">\n",
              "      <th></th>\n",
              "      <th>BLACK</th>\n",
              "      <th>HHSEX</th>\n",
              "      <th>METRO</th>\n",
              "      <th>HHGRAD</th>\n",
              "      <th>HHMAR</th>\n",
              "      <th>HHCITSHP</th>\n",
              "      <th>HHAGE</th>\n",
              "      <th>NUMPEOPLE</th>\n",
              "      <th>HINCP</th>\n",
              "      <th>DIVISION</th>\n",
              "      <th>OWNER</th>\n",
              "    </tr>\n",
              "  </thead>\n",
              "  <tbody>\n",
              "    <tr>\n",
              "      <th>0</th>\n",
              "      <td>0.0</td>\n",
              "      <td>1</td>\n",
              "      <td>1.0</td>\n",
              "      <td>44</td>\n",
              "      <td>1</td>\n",
              "      <td>1</td>\n",
              "      <td>52</td>\n",
              "      <td>3</td>\n",
              "      <td>5.409933</td>\n",
              "      <td>5</td>\n",
              "      <td>1.0</td>\n",
              "    </tr>\n",
              "    <tr>\n",
              "      <th>1</th>\n",
              "      <td>0.0</td>\n",
              "      <td>2</td>\n",
              "      <td>1.0</td>\n",
              "      <td>44</td>\n",
              "      <td>4</td>\n",
              "      <td>1</td>\n",
              "      <td>80</td>\n",
              "      <td>2</td>\n",
              "      <td>5.303196</td>\n",
              "      <td>1</td>\n",
              "      <td>1.0</td>\n",
              "    </tr>\n",
              "    <tr>\n",
              "      <th>2</th>\n",
              "      <td>0.0</td>\n",
              "      <td>1</td>\n",
              "      <td>1.0</td>\n",
              "      <td>47</td>\n",
              "      <td>1</td>\n",
              "      <td>1</td>\n",
              "      <td>72</td>\n",
              "      <td>2</td>\n",
              "      <td>4.825426</td>\n",
              "      <td>7</td>\n",
              "      <td>1.0</td>\n",
              "    </tr>\n",
              "    <tr>\n",
              "      <th>3</th>\n",
              "      <td>1.0</td>\n",
              "      <td>2</td>\n",
              "      <td>1.0</td>\n",
              "      <td>40</td>\n",
              "      <td>6</td>\n",
              "      <td>1</td>\n",
              "      <td>60</td>\n",
              "      <td>1</td>\n",
              "      <td>4.544068</td>\n",
              "      <td>4</td>\n",
              "      <td>0.0</td>\n",
              "    </tr>\n",
              "    <tr>\n",
              "      <th>4</th>\n",
              "      <td>0.0</td>\n",
              "      <td>2</td>\n",
              "      <td>1.0</td>\n",
              "      <td>39</td>\n",
              "      <td>3</td>\n",
              "      <td>1</td>\n",
              "      <td>80</td>\n",
              "      <td>2</td>\n",
              "      <td>4.309630</td>\n",
              "      <td>4</td>\n",
              "      <td>0.0</td>\n",
              "    </tr>\n",
              "  </tbody>\n",
              "</table>\n",
              "</div>"
            ]
          },
          "metadata": {},
          "execution_count": 3
        }
      ]
    },
    {
      "cell_type": "code",
      "source": [
        "# convert category dtype to numeric\n",
        "df['OWNER']=df['OWNER'].astype('int64')"
      ],
      "metadata": {
        "id": "6hUrSmEFWuZY"
      },
      "execution_count": null,
      "outputs": []
    },
    {
      "cell_type": "code",
      "source": [
        "df['OWNER']=df['OWNER'].astype('category')\n",
        "features = ['BLACK', 'HHSEX', 'METRO', 'HHGRAD', 'HHMAR', 'HHCITSHP', 'HHAGE', 'NUMPEOPLE', 'HINCP', 'DIVISION']\n",
        "dependent_var = ['OWNER']\n",
        "\n",
        "X = df[features]\n",
        "y = df[dependent_var]\n",
        "\n",
        "X_train, X_test, y_train, y_test = train_test_split(X, y, test_size=0.25,random_state=1090)\n",
        "condition_test=X_test.index"
      ],
      "metadata": {
        "id": "DIFN6KtrDJB0"
      },
      "execution_count": null,
      "outputs": []
    },
    {
      "cell_type": "markdown",
      "source": [
        "# Multicalibration with Random Forest classifier\n"
      ],
      "metadata": {
        "id": "RBeQj8XqC03S"
      }
    },
    {
      "cell_type": "markdown",
      "source": [
        "## Before Multicalibration"
      ],
      "metadata": {
        "id": "HOr-sL0sTs5Z"
      }
    },
    {
      "cell_type": "code",
      "source": [
        "#obtain predicted probabilities for random forest classifier using estimator\n",
        "estimator = RandomForestClassifier()\n",
        "estimator.fit(X_train, y_train)\n",
        "y_pred_probs_rf = estimator.predict_proba(X_test)[:,1]"
      ],
      "metadata": {
        "colab": {
          "base_uri": "https://localhost:8080/"
        },
        "id": "voCP-vWz-p3Y",
        "outputId": "2be4d3a4-6f21-4fda-9d0e-29cee2098f7b"
      },
      "execution_count": null,
      "outputs": [
        {
          "output_type": "stream",
          "name": "stderr",
          "text": [
            "/var/folders/cm/3djk6lh16jx8s5wnl01pttbw0000gn/T/ipykernel_69544/3773694305.py:3: DataConversionWarning: A column-vector y was passed when a 1d array was expected. Please change the shape of y to (n_samples,), for example using ravel().\n",
            "  estimator.fit(X_train, y_train)\n"
          ]
        }
      ]
    },
    {
      "cell_type": "code",
      "source": [
        "result_rf=ELCE2(np.array(df[['HINCP','BLACK']])[condition_test],  np.array(df['OWNER'][condition_test]) ,y_pred_probs_rf, kernel_function=\"rbf\", prob_kernel_width=0.1, iterations=500, use_diffusion_distance=False, verbose=True,random_state=None, n_jobs=1,gamma=25)"
      ],
      "metadata": {
        "colab": {
          "base_uri": "https://localhost:8080/"
        },
        "id": "NsBMpTj7_HwJ",
        "outputId": "6dab0d3c-9e4c-4748-da7c-1ba0f323c9cd"
      },
      "execution_count": null,
      "outputs": [
        {
          "output_type": "stream",
          "name": "stderr",
          "text": [
            "INFO:root:test value = 0.0009471596890898169\n",
            "INFO:root:Computing the null distribution.\n",
            "INFO:root:p-value < 0.002 \t (resolution : 0.002)\n"
          ]
        }
      ]
    },
    {
      "cell_type": "markdown",
      "source": [
        "## After Multicalibration"
      ],
      "metadata": {
        "id": "bmeKOyMqTrCt"
      }
    },
    {
      "cell_type": "code",
      "source": [
        "estimator = RandomForestClassifier()\n",
        "est = MultiCalibrator(\n",
        "        estimator = estimator,\n",
        "        auditor_type = Auditor(groups=['HINCP','BLACK'],metric=\"MC\")\n",
        "        )\n",
        "\n",
        "    # train\n",
        "est.fit(X_train, y_train.squeeze())\n",
        "p= est.predict_proba(X_test)[:,1]"
      ],
      "metadata": {
        "id": "DRDV2a-oVExV",
        "colab": {
          "base_uri": "https://localhost:8080/"
        },
        "outputId": "2d3f6624-bd0a-4f2c-daba-3bd8d9f4028a"
      },
      "execution_count": null,
      "outputs": [
        {
          "output_type": "stream",
          "name": "stderr",
          "text": [
            "INFO:pmc.auditor:self.bins_: [0.  0.1 0.2 0.3 0.4 0.5 0.6 0.7 0.8 0.9 1. ]\n",
            "INFO:pmc.auditor:group size limit: 182\n",
            "INFO:pmc.auditor:category size limit: 0\n",
            "WARNING:pmc.multicalibrator:max_iters was reached before alpha termination criterion was satisfied.\n"
          ]
        }
      ]
    },
    {
      "cell_type": "code",
      "source": [
        "from sklearn.calibration import calibration_curve\n",
        "\n",
        "def plot_calibration_curve(y_true, y_prob, n_bins=10):\n",
        "    prob_true, prob_pred = calibration_curve(y_true, y_prob, n_bins=n_bins)\n",
        "    plt.plot(prob_pred, prob_true, marker='o')\n",
        "    plt.plot([0, 1], [0, 1], linestyle='--')\n",
        "    plt.xlabel('Mean predicted probability')\n",
        "    plt.ylabel('Fraction of positives')\n",
        "    plt.title('Calibration curve')\n",
        "\n",
        "# Plot calibration curves\n",
        "import matplotlib.pyplot as plt\n",
        "\n",
        "plt.figure(figsize=(10, 5))\n",
        "\n",
        "plt.subplot(1, 2, 1)\n",
        "plot_calibration_curve(y_test, y_pred_probs_rf)\n",
        "plt.title('Original Calibration')\n",
        "\n",
        "plt.subplot(1, 2, 2)\n",
        "plot_calibration_curve(y_test, p)\n",
        "plt.title('Recalibrated Calibration')\n",
        "\n",
        "plt.tight_layout()\n",
        "plt.show()"
      ],
      "metadata": {
        "colab": {
          "base_uri": "https://localhost:8080/",
          "height": 488
        },
        "id": "4rOTgWHh3BN3",
        "outputId": "be8bc9d6-fbbc-4562-b4f1-bb142cc1f596"
      },
      "execution_count": null,
      "outputs": [
        {
          "output_type": "display_data",
          "data": {
            "text/plain": [
              "<Figure size 1000x500 with 2 Axes>"
            ],
            "image/png": "[encoded data removed]"
          },
          "metadata": {}
        }
      ]
    },
    {
      "cell_type": "code",
      "source": [
        "result_rf_mc=ELCE2(np.array(df[['HINCP','BLACK']])[condition_test],  np.array(df['OWNER'][condition_test]) ,p, kernel_function=\"rbf\", prob_kernel_width=0.2, iterations=500, use_diffusion_distance=False, verbose=True,random_state=None, n_jobs=1,gamma=25)"
      ],
      "metadata": {
        "colab": {
          "base_uri": "https://localhost:8080/"
        },
        "id": "whEZb1i3mNKn",
        "outputId": "9f49093e-1c73-46cf-a1bf-2ebae25ed800"
      },
      "execution_count": null,
      "outputs": [
        {
          "output_type": "stream",
          "name": "stderr",
          "text": [
            "INFO:root:test value = 0.0002449920507892157\n",
            "INFO:root:Computing the null distribution.\n",
            "INFO:root:p-value < 0.002 \t (resolution : 0.002)\n"
          ]
        }
      ]
    },
    {
      "cell_type": "markdown",
      "source": [
        "## After PMC"
      ],
      "metadata": {
        "id": "GkX9autpP2aw"
      }
    },
    {
      "cell_type": "code",
      "source": [
        "estimator = RandomForestClassifier()\n",
        "est = MultiCalibrator(estimator = estimator, auditor_type = Auditor(groups=['HINCP','BLACK'],metric=\"PMC\"))\n",
        "\n",
        "# train\n",
        "est.fit(X_train, y_train.squeeze())\n",
        "p= est.predict_proba(X_test)[:,1]"
      ],
      "metadata": {
        "id": "o9U-0xGBf7zN"
      },
      "execution_count": null,
      "outputs": []
    },
    {
      "cell_type": "code",
      "source": [
        "result_rf_pmc=ELCE2(np.array(df[['HINCP','BLACK']])[condition_test],  np.array(df['OWNER'][condition_test]) ,p, kernel_function=\"rbf\", prob_kernel_width=0.2, iterations=500, use_diffusion_distance=False, verbose=True,random_state=None, n_jobs=1,gamma=25)"
      ],
      "metadata": {
        "colab": {
          "base_uri": "https://localhost:8080/"
        },
        "id": "F0Gb0AUwgASw",
        "outputId": "38cd2ff3-a89b-47dc-f4c2-ba33b899b39e"
      },
      "execution_count": null,
      "outputs": [
        {
          "output_type": "stream",
          "name": "stderr",
          "text": [
            "INFO:root:test value = 0.0001924607070262316\n",
            "INFO:root:Computing the null distribution.\n",
            "INFO:root:p-value ~= 0.008 \t (resolution : 0.002)\n"
          ]
        }
      ]
    },
    {
      "cell_type": "markdown",
      "source": [
        "# Multicalibration with Logistic Regression\n"
      ],
      "metadata": {
        "id": "P4sI5LVc-gbX"
      }
    },
    {
      "cell_type": "markdown",
      "source": [
        "## Before Multicalibration"
      ],
      "metadata": {
        "id": "yz1-_mypTpQ2"
      }
    },
    {
      "cell_type": "code",
      "source": [
        "estimator = LogisticRegression()\n",
        "estimator.fit(X_train, y_train)\n",
        "y_pred_probs_lr = estimator.predict_proba(X_test)[:,1]"
      ],
      "metadata": {
        "colab": {
          "base_uri": "https://localhost:8080/"
        },
        "id": "XlMnkcm2-kwS",
        "outputId": "74424e22-b18e-4091-8647-00d48d1da264"
      },
      "execution_count": null,
      "outputs": [
        {
          "output_type": "stream",
          "name": "stderr",
          "text": [
            "/Users/ritwikvashistha/anaconda3/envs/fernando/lib/python3.10/site-packages/sklearn/utils/validation.py:1183: DataConversionWarning: A column-vector y was passed when a 1d array was expected. Please change the shape of y to (n_samples, ), for example using ravel().\n",
            "  y = column_or_1d(y, warn=True)\n",
            "/Users/ritwikvashistha/anaconda3/envs/fernando/lib/python3.10/site-packages/sklearn/linear_model/_logistic.py:460: ConvergenceWarning: lbfgs failed to converge (status=1):\n",
            "STOP: TOTAL NO. of ITERATIONS REACHED LIMIT.\n",
            "\n",
            "Increase the number of iterations (max_iter) or scale the data as shown in:\n",
            "    https://scikit-learn.org/stable/modules/preprocessing.html\n",
            "Please also refer to the documentation for alternative solver options:\n",
            "    https://scikit-learn.org/stable/modules/linear_model.html#logistic-regression\n",
            "  n_iter_i = _check_optimize_result(\n"
          ]
        }
      ]
    },
    {
      "cell_type": "code",
      "source": [
        "result_lr=ELCE2(np.array(df[['HINCP','BLACK']])[condition_test],  np.array(df['OWNER'][condition_test]) ,y_pred_probs_lr, kernel_function=\"rbf\", prob_kernel_width=0.1, iterations=500, use_diffusion_distance=False, verbose=True,random_state=None, n_jobs=1)"
      ],
      "metadata": {
        "colab": {
          "base_uri": "https://localhost:8080/"
        },
        "id": "78izvppCR6KR",
        "outputId": "03575110-42b0-41f7-82d7-d5359b590d95"
      },
      "execution_count": null,
      "outputs": [
        {
          "output_type": "stream",
          "name": "stderr",
          "text": [
            "INFO:root:test value = 0.0003035953989023645\n",
            "INFO:root:Computing the null distribution.\n",
            "INFO:root:p-value < 0.002 \t (resolution : 0.002)\n"
          ]
        }
      ]
    },
    {
      "cell_type": "markdown",
      "source": [
        "## Post Multicalibration"
      ],
      "metadata": {
        "id": "f_o8SvZ6TnMJ"
      }
    },
    {
      "cell_type": "code",
      "source": [
        "estimator = LogisticRegression()\n",
        "est = MultiCalibrator(\n",
        "      estimator = estimator,\n",
        "      auditor_type = Auditor(groups=['HINCP','BLACK'],metric=\"MC\")\n",
        "      )\n",
        "\n",
        "  # train\n",
        "est.fit(X_train,y_train.squeeze())\n",
        "est.predict_proba(X_test)\n",
        "p= est.predict_proba(X_test)[:,1]"
      ],
      "metadata": {
        "id": "Vckq1ieIR-s2"
      },
      "execution_count": null,
      "outputs": []
    },
    {
      "cell_type": "code",
      "source": [
        "result_lr_mc=ELCE2(np.array(X_test[['HINCP','BLACK']]),  np.array(df['OWNER'][condition_test]) ,p, kernel_function=\"rbf\", prob_kernel_width=0.1, iterations=500, use_diffusion_distance=False, verbose=True,random_state=None, n_jobs=1,gamma=25)"
      ],
      "metadata": {
        "colab": {
          "base_uri": "https://localhost:8080/"
        },
        "id": "aNFniSjiSFrx",
        "outputId": "7fddfc8c-a069-410d-aa1c-04c6853b2ed5"
      },
      "execution_count": null,
      "outputs": [
        {
          "output_type": "stream",
          "name": "stderr",
          "text": [
            "INFO:root:test value = 0.0013788949340563649\n",
            "INFO:root:Computing the null distribution.\n",
            "INFO:root:p-value < 0.002 \t (resolution : 0.002)\n"
          ]
        }
      ]
    },
    {
      "cell_type": "markdown",
      "source": [
        "## After PMC"
      ],
      "metadata": {
        "id": "iPt0Dtkl6XYU"
      }
    },
    {
      "cell_type": "code",
      "source": [
        "estimator = LogisticRegression()\n",
        "est = MultiCalibrator(estimator = estimator, auditor_type = Auditor(groups=['HINCP','BLACK'],metric=\"PMC\"))\n",
        "\n",
        "# train\n",
        "est.fit(X_train, y_train.squeeze())\n",
        "p= est.predict_proba(X_test)[:,1]"
      ],
      "metadata": {
        "id": "mPJKm8eB6XYV"
      },
      "execution_count": null,
      "outputs": []
    },
    {
      "cell_type": "code",
      "source": [
        "result_lr_pmc=ELCE2(np.array(df[['HINCP','BLACK']])[condition_test],  np.array(df['OWNER'][condition_test]) ,p, kernel_function=\"rbf\", prob_kernel_width=0.2, iterations=500, use_diffusion_distance=False, verbose=True,random_state=None, n_jobs=1,gamma=25)"
      ],
      "metadata": {
        "colab": {
          "base_uri": "https://localhost:8080/"
        },
        "outputId": "94c87789-a3fd-49e5-dbf4-35bbee5ee9bd",
        "id": "Mo1k_jFc6XYV"
      },
      "execution_count": null,
      "outputs": [
        {
          "output_type": "stream",
          "name": "stderr",
          "text": [
            "INFO:root:test value = 0.0012959109323378481\n",
            "INFO:root:Computing the null distribution.\n",
            "INFO:root:p-value < 0.002 \t (resolution : 0.002)\n"
          ]
        }
      ]
    },
    {
      "cell_type": "markdown",
      "source": [
        "# Multicalibration with Constant classifier"
      ],
      "metadata": {
        "id": "Gc47Sbl7RVtE"
      }
    },
    {
      "cell_type": "markdown",
      "source": [
        "## Before Multicalibration"
      ],
      "metadata": {
        "id": "CvDf6Tt-TdAK"
      }
    },
    {
      "cell_type": "code",
      "source": [
        "from sklearn.dummy import DummyClassifier\n",
        "estimator = DummyClassifier(strategy='prior')\n",
        "estimator.fit(X_train, y_train)\n",
        "y_pred_probs_dc = estimator.predict_proba(X_test)[:,1]"
      ],
      "metadata": {
        "id": "0z42_B3BSYb0"
      },
      "execution_count": null,
      "outputs": []
    },
    {
      "cell_type": "code",
      "source": [
        "condition_test=X_test.index\n",
        "result_constant=ELCE2(np.array(df[['HINCP','BLACK']])[condition_test],  np.array(df['OWNER'][condition_test]) ,y_pred_probs_dc, kernel_function=\"rbf\", prob_kernel_width=0.1, iterations=500, use_diffusion_distance=False, verbose=True,random_state=None, n_jobs=1)"
      ],
      "metadata": {
        "colab": {
          "base_uri": "https://localhost:8080/"
        },
        "id": "7J4dD84WSjMb",
        "outputId": "0c86c9b0-1bd7-4eb8-86c7-e1578d72bf01"
      },
      "execution_count": null,
      "outputs": [
        {
          "output_type": "stream",
          "name": "stderr",
          "text": [
            "INFO:root:test value = 0.0028152461208286444\n",
            "INFO:root:Computing the null distribution.\n",
            "INFO:root:p-value < 0.002 \t (resolution : 0.002)\n"
          ]
        }
      ]
    },
    {
      "cell_type": "markdown",
      "source": [
        "## After Multicalibration"
      ],
      "metadata": {
        "id": "-B1BwA4LTjUc"
      }
    },
    {
      "cell_type": "code",
      "source": [
        "estimator = DummyClassifier(strategy='prior')\n",
        "\n",
        "est = MultiCalibrator(\n",
        "      estimator = estimator,\n",
        "      auditor_type = Auditor(groups=['HINCP','BLACK'],metric=\"MC\")\n",
        "      )\n",
        "\n",
        "# train\n",
        "est.fit(X_train,y_train.squeeze())\n",
        "p=est.predict_proba(X_test)[:,1]"
      ],
      "metadata": {
        "id": "q4lBbVdvUXXR"
      },
      "execution_count": null,
      "outputs": []
    },
    {
      "cell_type": "code",
      "source": [
        "result_constant_mc=ELCE2(np.array(df[['HINCP','BLACK']])[condition_test],  np.array(df['OWNER'][condition_test]) ,p, kernel_function=\"rbf\", prob_kernel_width=0.7, iterations=500, use_diffusion_distance=False, verbose=True,random_state=None, n_jobs=1)"
      ],
      "metadata": {
        "colab": {
          "base_uri": "https://localhost:8080/"
        },
        "id": "4qQSWuP1U9Dm",
        "outputId": "0217b689-6839-4e39-9a87-22ed29713842"
      },
      "execution_count": null,
      "outputs": [
        {
          "output_type": "stream",
          "name": "stderr",
          "text": [
            "INFO:root:test value = 0.0016783577373652096\n",
            "INFO:root:Computing the null distribution.\n",
            "INFO:root:p-value < 0.002 \t (resolution : 0.002)\n"
          ]
        }
      ]
    },
    {
      "cell_type": "markdown",
      "source": [
        "## After PMC"
      ],
      "metadata": {
        "id": "U57jffAL6Y70"
      }
    },
    {
      "cell_type": "code",
      "source": [
        "estimator = DummyClassifier(strategy='prior')\n",
        "est = MultiCalibrator(estimator = estimator, auditor_type = Auditor(groups=['HINCP','BLACK'],metric=\"PMC\"))\n",
        "\n",
        "# train\n",
        "est.fit(X_train, y_train.squeeze())\n",
        "p= est.predict_proba(X_test)[:,1]"
      ],
      "metadata": {
        "id": "uNE6uhyS6Y76"
      },
      "execution_count": null,
      "outputs": []
    },
    {
      "cell_type": "code",
      "source": [
        "result_constant_pmc=ELCE2(np.array(df[['HINCP','BLACK']])[condition_test],  np.array(df['OWNER'][condition_test]) ,p, kernel_function=\"rbf\", prob_kernel_width=0.2, iterations=500, use_diffusion_distance=False, verbose=True,random_state=None, n_jobs=1,gamma=25)"
      ],
      "metadata": {
        "colab": {
          "base_uri": "https://localhost:8080/"
        },
        "outputId": "b96aa715-c068-4258-dc5d-422a3eee6402",
        "id": "w9MboG9O6Y76"
      },
      "execution_count": null,
      "outputs": [
        {
          "output_type": "stream",
          "name": "stderr",
          "text": [
            "INFO:root:test value = 0.008403606374076063\n",
            "INFO:root:Computing the null distribution.\n",
            "INFO:root:p-value < 0.002 \t (resolution : 0.002)\n"
          ]
        }
      ]
    },
    {
      "cell_type": "code",
      "source": [
        "rf_model = RandomForestClassifier(random_state=1090)\n",
        "rf_model.fit(X_train, y_train.values.ravel())"
      ],
      "metadata": {
        "colab": {
          "base_uri": "https://localhost:8080/",
          "height": 75
        },
        "id": "Gt7PxTTKgaDK",
        "outputId": "0f2ec460-407d-438c-8d36-95b84e7222c0"
      },
      "execution_count": null,
      "outputs": [
        {
          "output_type": "execute_result",
          "data": {
            "text/plain": [
              "RandomForestClassifier(random_state=1090)"
            ],
            "text/html": [
              "<style>#sk-container-id-1 {color: black;background-color: white;}#sk-container-id-1 pre{padding: 0;}#sk-container-id-1 div.sk-toggleable {background-color: white;}#sk-container-id-1 label.sk-toggleable__label {cursor: pointer;display: block;width: 100%;margin-bottom: 0;padding: 0.3em;box-sizing: border-box;text-align: center;}#sk-container-id-1 label.sk-toggleable__label-arrow:before {content: \"▸\";float: left;margin-right: 0.25em;color: #696969;}#sk-container-id-1 label.sk-toggleable__label-arrow:hover:before {color: black;}#sk-container-id-1 div.sk-estimator:hover label.sk-toggleable__label-arrow:before {color: black;}#sk-container-id-1 div.sk-toggleable__content {max-height: 0;max-width: 0;overflow: hidden;text-align: left;background-color: #f0f8ff;}#sk-container-id-1 div.sk-toggleable__content pre {margin: 0.2em;color: black;border-radius: 0.25em;background-color: #f0f8ff;}#sk-container-id-1 input.sk-toggleable__control:checked~div.sk-toggleable__content {max-height: 200px;max-width: 100%;overflow: auto;}#sk-container-id-1 input.sk-toggleable__control:checked~label.sk-toggleable__label-arrow:before {content: \"▾\";}#sk-container-id-1 div.sk-estimator input.sk-toggleable__control:checked~label.sk-toggleable__label {background-color: #d4ebff;}#sk-container-id-1 div.sk-label input.sk-toggleable__control:checked~label.sk-toggleable__label {background-color: #d4ebff;}#sk-container-id-1 input.sk-hidden--visually {border: 0;clip: rect(1px 1px 1px 1px);clip: rect(1px, 1px, 1px, 1px);height: 1px;margin: -1px;overflow: hidden;padding: 0;position: absolute;width: 1px;}#sk-container-id-1 div.sk-estimator {font-family: monospace;background-color: #f0f8ff;border: 1px dotted black;border-radius: 0.25em;box-sizing: border-box;margin-bottom: 0.5em;}#sk-container-id-1 div.sk-estimator:hover {background-color: #d4ebff;}#sk-container-id-1 div.sk-parallel-item::after {content: \"\";width: 100%;border-bottom: 1px solid gray;flex-grow: 1;}#sk-container-id-1 div.sk-label:hover label.sk-toggleable__label {background-color: #d4ebff;}#sk-container-id-1 div.sk-serial::before {content: \"\";position: absolute;border-left: 1px solid gray;box-sizing: border-box;top: 0;bottom: 0;left: 50%;z-index: 0;}#sk-container-id-1 div.sk-serial {display: flex;flex-direction: column;align-items: center;background-color: white;padding-right: 0.2em;padding-left: 0.2em;position: relative;}#sk-container-id-1 div.sk-item {position: relative;z-index: 1;}#sk-container-id-1 div.sk-parallel {display: flex;align-items: stretch;justify-content: center;background-color: white;position: relative;}#sk-container-id-1 div.sk-item::before, #sk-container-id-1 div.sk-parallel-item::before {content: \"\";position: absolute;border-left: 1px solid gray;box-sizing: border-box;top: 0;bottom: 0;left: 50%;z-index: -1;}#sk-container-id-1 div.sk-parallel-item {display: flex;flex-direction: column;z-index: 1;position: relative;background-color: white;}#sk-container-id-1 div.sk-parallel-item:first-child::after {align-self: flex-end;width: 50%;}#sk-container-id-1 div.sk-parallel-item:last-child::after {align-self: flex-start;width: 50%;}#sk-container-id-1 div.sk-parallel-item:only-child::after {width: 0;}#sk-container-id-1 div.sk-dashed-wrapped {border: 1px dashed gray;margin: 0 0.4em 0.5em 0.4em;box-sizing: border-box;padding-bottom: 0.4em;background-color: white;}#sk-container-id-1 div.sk-label label {font-family: monospace;font-weight: bold;display: inline-block;line-height: 1.2em;}#sk-container-id-1 div.sk-label-container {text-align: center;}#sk-container-id-1 div.sk-container {/* jupyter's `normalize.less` sets `[hidden] { display: none; }` but bootstrap.min.css set `[hidden] { display: none !important; }` so we also need the `!important` here to be able to override the default hidden behavior on the sphinx rendered scikit-learn.org. See: https://github.com/scikit-learn/scikit-learn/issues/21755 */display: inline-block !important;position: relative;}#sk-container-id-1 div.sk-text-repr-fallback {display: none;}</style><div id=\"sk-container-id-1\" class=\"sk-top-container\"><div class=\"sk-text-repr-fallback\"><pre>RandomForestClassifier(random_state=1090)</pre><b>In a Jupyter environment, please rerun this cell to show the HTML representation or trust the notebook. <br />On GitHub, the HTML representation is unable to render, please try loading this page with nbviewer.org.</b></div><div class=\"sk-container\" hidden><div class=\"sk-item\"><div class=\"sk-estimator sk-toggleable\"><input class=\"sk-toggleable__control sk-hidden--visually\" id=\"sk-estimator-id-1\" type=\"checkbox\" checked><label for=\"sk-estimator-id-1\" class=\"sk-toggleable__label sk-toggleable__label-arrow\">RandomForestClassifier</label><div class=\"sk-toggleable__content\"><pre>RandomForestClassifier(random_state=1090)</pre></div></div></div></div></div>"
            ]
          },
          "metadata": {},
          "execution_count": 6
        }
      ]
    }
  ]
}