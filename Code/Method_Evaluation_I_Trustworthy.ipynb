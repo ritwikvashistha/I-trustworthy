{
  "nbformat": 4,
  "nbformat_minor": 0,
  "metadata": {
    "colab": {
      "provenance": [],
      "toc_visible": true
    },
    "kernelspec": {
      "name": "python3",
      "display_name": "Python 3"
    },
    "language_info": {
      "name": "python"
    }
  },
  "cells": [
    {
      "cell_type": "markdown",
      "source": [
        "# LoRE"
      ],
      "metadata": {
        "id": "rzt7fIYuRCxD"
      }
    },
    {
      "cell_type": "code",
      "execution_count": null,
      "metadata": {
        "id": "7G1HpmKeAPq2"
      },
      "outputs": [],
      "source": [
        "import numpy as np\n",
        "import pandas as pd\n",
        "from sklearn.model_selection import train_test_split\n",
        "from sklearn.ensemble import RandomForestClassifier\n",
        "from sklearn.calibration import calibration_curve\n",
        "from sklearn.metrics import brier_score_loss\n",
        "import matplotlib.pyplot as plt\n",
        "\n"
      ]
    },
    {
      "cell_type": "code",
      "source": [
        "# LoRe recalibration function\n",
        "    # Compute kernel weights\n",
        "def kernel_function(x1, x2, gamma):\n",
        "      return np.exp(-np.linalg.norm(x1 - x2, ord=1) / (2 * gamma))\n",
        "\n",
        "def lore_recalibrate(x, calibration_data, calibration_labels, gamma, num_bins=15):\n",
        "    # Extract features (in this case, just 'HINCP' and 'BLACK')\n",
        "    x_features = x.values\n",
        "    calib_features = calibration_data.values\n",
        "\n",
        "    # Compute confidences for calibration data\n",
        "    confidences = rf_model.predict_proba(calibration_data)[:, 1]  # Assuming binary classification\n",
        "\n",
        "    # Bin the confidences\n",
        "    bins = np.linspace(0, 1, num_bins + 1)\n",
        "    bin_indices = np.digitize(confidences, bins) - 1\n",
        "\n",
        "    # Find samples in the same bin as x\n",
        "    x_confidence = rf_model.predict_proba(x.values.reshape(1, -1))[0, 1]\n",
        "    x_bin = np.digitize(x_confidence, bins) - 1\n",
        "    same_bin_indices = np.where(bin_indices == x_bin)[0]\n",
        "\n",
        "    distances = np.sum(np.abs(x_features - calib_features[same_bin_indices]), axis=1)\n",
        "    kernel_weights = np.exp(-distances / (2 * gamma))\n",
        "\n",
        "    #kernel_weights = [kernel_function(x_features, calibration_data.iloc[i][['X1', 'X2']].values, gamma)\n",
        "    #                for i in same_bin_indices]\n",
        "\n",
        "    y_calib_array = np.array(calibration_labels).flatten()\n",
        "    y_pred1 = rf_model.predict(calibration_data.iloc[same_bin_indices,:])\n",
        "    comparison_result = y_calib_array[same_bin_indices] == y_pred1.flatten()\n",
        "    recalibrated_confidence = np.sum(kernel_weights*comparison_result)/np.sum(kernel_weights)\n",
        "\n",
        "    return recalibrated_confidence"
      ],
      "metadata": {
        "id": "uSmxFgIKAopa"
      },
      "execution_count": null,
      "outputs": []
    },
    {
      "cell_type": "code",
      "source": [
        "def evaluate_calibration(y_true, y_prob):\n",
        "    prob_true, prob_pred = calibration_curve(y_true, y_prob, n_bins=10)\n",
        "    brier = brier_score_loss(y_true, y_prob)\n",
        "    return brier, prob_true, prob_pred"
      ],
      "metadata": {
        "id": "4j1-hN-KuiCx"
      },
      "execution_count": null,
      "outputs": []
    },
    {
      "cell_type": "code",
      "source": [
        "def lore_recalibrate(x, calibration_data, calibration_labels, gamma, num_bins=15, epsilon=1e-8):\n",
        "    x_features = x[['X1', 'X2']].values.reshape(1, -1)\n",
        "    calib_features = calibration_data[['X1', 'X2']].values\n",
        "\n",
        "    confidences = rf_model.predict_proba(calibration_data)[:, 1]\n",
        "\n",
        "    bins = np.linspace(0, 1, num_bins + 1)\n",
        "    bin_indices = np.digitize(confidences, bins) - 1\n",
        "\n",
        "    x_confidence = rf_model.predict_proba(x.values.reshape(1, -1))[0, 1]\n",
        "    x_bin = np.digitize(x_confidence, bins) - 1\n",
        "    same_bin_mask = bin_indices == x_bin\n",
        "\n",
        "    if not np.any(same_bin_mask):\n",
        "        return x_confidence\n",
        "\n",
        "    distances = np.sum(np.abs(x_features - calib_features[same_bin_mask]), axis=1)\n",
        "    kernel_weights = np.exp(-distances / (2 * gamma))\n",
        "\n",
        "    if np.all(kernel_weights < epsilon):\n",
        "        return x_confidence\n",
        "\n",
        "    calib_predictions = rf_model.predict(calibration_data[same_bin_mask])\n",
        "    weighted_accuracy = np.sum(kernel_weights * (calib_predictions == calibration_labels[same_bin_mask].values))\n",
        "\n",
        "    recalibrated_confidence = weighted_accuracy / (np.sum(kernel_weights) + epsilon)\n",
        "\n",
        "    return recalibrated_confidence"
      ],
      "metadata": {
        "id": "UCb-d_G8C3PV"
      },
      "execution_count": null,
      "outputs": []
    },
    {
      "cell_type": "code",
      "source": [
        "# Generate simulated data\n",
        "np.random.seed(1090)\n",
        "n_samples = 5000\n",
        "\n",
        "# Generate features\n",
        "x1 = np.random.normal(0, 1, n_samples)  # Continuous variable 1\n",
        "x2 = np.random.normal(0, 1, n_samples)  # Continuous variable 2\n",
        "x3 = np.random.binomial(1, 0.5, n_samples)  # Discrete variable (0 or 1)\n",
        "\n",
        "# Generate target variable\n",
        "y_prob = 1 / (1 + np.exp(-(x1 + x2 + 2*x3 - 0.5)))\n",
        "y = np.random.binomial(1, y_prob)\n",
        "\n",
        "# Create DataFrame\n",
        "df = pd.DataFrame({\n",
        "    'X1': x1,\n",
        "    'X2': x2,\n",
        "    'X3': x3,\n",
        "    'Y': y\n",
        "})\n",
        "\n",
        "# Split the data\n",
        "features = ['X1', 'X2', 'X3']\n",
        "X = df[features]\n",
        "y = df['Y']\n",
        "\n",
        "X_train, X_test, y_train, y_test = train_test_split(X, y, test_size=0.3, random_state=1090)\n",
        "X_val, X_test, y_val, y_test = train_test_split(X_test, y_test, test_size=0.5, random_state=1090)\n",
        "\n",
        "# Train Random Forest\n",
        "rf_model = RandomForestClassifier(random_state=1090)\n",
        "rf_model.fit(X_train, y_train)\n"
      ],
      "metadata": {
        "colab": {
          "base_uri": "https://localhost:8080/",
          "height": 75
        },
        "id": "FO3uI0WgAmt5",
        "outputId": "abdfab42-2541-4f20-a1e3-3c0247b98d0d"
      },
      "execution_count": null,
      "outputs": [
        {
          "output_type": "execute_result",
          "data": {
            "text/plain": [
              "RandomForestClassifier(random_state=1090)"
            ],
            "text/html": [
              "<style>#sk-container-id-2 {color: black;background-color: white;}#sk-container-id-2 pre{padding: 0;}#sk-container-id-2 div.sk-toggleable {background-color: white;}#sk-container-id-2 label.sk-toggleable__label {cursor: pointer;display: block;width: 100%;margin-bottom: 0;padding: 0.3em;box-sizing: border-box;text-align: center;}#sk-container-id-2 label.sk-toggleable__label-arrow:before {content: \"▸\";float: left;margin-right: 0.25em;color: #696969;}#sk-container-id-2 label.sk-toggleable__label-arrow:hover:before {color: black;}#sk-container-id-2 div.sk-estimator:hover label.sk-toggleable__label-arrow:before {color: black;}#sk-container-id-2 div.sk-toggleable__content {max-height: 0;max-width: 0;overflow: hidden;text-align: left;background-color: #f0f8ff;}#sk-container-id-2 div.sk-toggleable__content pre {margin: 0.2em;color: black;border-radius: 0.25em;background-color: #f0f8ff;}#sk-container-id-2 input.sk-toggleable__control:checked~div.sk-toggleable__content {max-height: 200px;max-width: 100%;overflow: auto;}#sk-container-id-2 input.sk-toggleable__control:checked~label.sk-toggleable__label-arrow:before {content: \"▾\";}#sk-container-id-2 div.sk-estimator input.sk-toggleable__control:checked~label.sk-toggleable__label {background-color: #d4ebff;}#sk-container-id-2 div.sk-label input.sk-toggleable__control:checked~label.sk-toggleable__label {background-color: #d4ebff;}#sk-container-id-2 input.sk-hidden--visually {border: 0;clip: rect(1px 1px 1px 1px);clip: rect(1px, 1px, 1px, 1px);height: 1px;margin: -1px;overflow: hidden;padding: 0;position: absolute;width: 1px;}#sk-container-id-2 div.sk-estimator {font-family: monospace;background-color: #f0f8ff;border: 1px dotted black;border-radius: 0.25em;box-sizing: border-box;margin-bottom: 0.5em;}#sk-container-id-2 div.sk-estimator:hover {background-color: #d4ebff;}#sk-container-id-2 div.sk-parallel-item::after {content: \"\";width: 100%;border-bottom: 1px solid gray;flex-grow: 1;}#sk-container-id-2 div.sk-label:hover label.sk-toggleable__label {background-color: #d4ebff;}#sk-container-id-2 div.sk-serial::before {content: \"\";position: absolute;border-left: 1px solid gray;box-sizing: border-box;top: 0;bottom: 0;left: 50%;z-index: 0;}#sk-container-id-2 div.sk-serial {display: flex;flex-direction: column;align-items: center;background-color: white;padding-right: 0.2em;padding-left: 0.2em;position: relative;}#sk-container-id-2 div.sk-item {position: relative;z-index: 1;}#sk-container-id-2 div.sk-parallel {display: flex;align-items: stretch;justify-content: center;background-color: white;position: relative;}#sk-container-id-2 div.sk-item::before, #sk-container-id-2 div.sk-parallel-item::before {content: \"\";position: absolute;border-left: 1px solid gray;box-sizing: border-box;top: 0;bottom: 0;left: 50%;z-index: -1;}#sk-container-id-2 div.sk-parallel-item {display: flex;flex-direction: column;z-index: 1;position: relative;background-color: white;}#sk-container-id-2 div.sk-parallel-item:first-child::after {align-self: flex-end;width: 50%;}#sk-container-id-2 div.sk-parallel-item:last-child::after {align-self: flex-start;width: 50%;}#sk-container-id-2 div.sk-parallel-item:only-child::after {width: 0;}#sk-container-id-2 div.sk-dashed-wrapped {border: 1px dashed gray;margin: 0 0.4em 0.5em 0.4em;box-sizing: border-box;padding-bottom: 0.4em;background-color: white;}#sk-container-id-2 div.sk-label label {font-family: monospace;font-weight: bold;display: inline-block;line-height: 1.2em;}#sk-container-id-2 div.sk-label-container {text-align: center;}#sk-container-id-2 div.sk-container {/* jupyter's `normalize.less` sets `[hidden] { display: none; }` but bootstrap.min.css set `[hidden] { display: none !important; }` so we also need the `!important` here to be able to override the default hidden behavior on the sphinx rendered scikit-learn.org. See: https://github.com/scikit-learn/scikit-learn/issues/21755 */display: inline-block !important;position: relative;}#sk-container-id-2 div.sk-text-repr-fallback {display: none;}</style><div id=\"sk-container-id-2\" class=\"sk-top-container\"><div class=\"sk-text-repr-fallback\"><pre>RandomForestClassifier(random_state=1090)</pre><b>In a Jupyter environment, please rerun this cell to show the HTML representation or trust the notebook. <br />On GitHub, the HTML representation is unable to render, please try loading this page with nbviewer.org.</b></div><div class=\"sk-container\" hidden><div class=\"sk-item\"><div class=\"sk-estimator sk-toggleable\"><input class=\"sk-toggleable__control sk-hidden--visually\" id=\"sk-estimator-id-2\" type=\"checkbox\" checked><label for=\"sk-estimator-id-2\" class=\"sk-toggleable__label sk-toggleable__label-arrow\">RandomForestClassifier</label><div class=\"sk-toggleable__content\"><pre>RandomForestClassifier(random_state=1090)</pre></div></div></div></div></div>"
            ]
          },
          "metadata": {},
          "execution_count": 228
        }
      ]
    },
    {
      "cell_type": "code",
      "source": [
        "recalibrated_confidences = np.array([lore_recalibrate(row, X_val, y_val, 25)\n",
        "                                     for _, row in X_test.iterrows()])"
      ],
      "metadata": {
        "id": "GMVckkNoA5hA"
      },
      "execution_count": null,
      "outputs": []
    },
    {
      "cell_type": "code",
      "source": [
        "recalibrated_confidences"
      ],
      "metadata": {
        "id": "KblVZPVGfyVL"
      },
      "execution_count": null,
      "outputs": []
    },
    {
      "cell_type": "code",
      "source": [
        "original_confidences = rf_model.predict_proba(X_test)[:, 1]"
      ],
      "metadata": {
        "id": "oMlMIeqPBMx3"
      },
      "execution_count": null,
      "outputs": []
    },
    {
      "cell_type": "code",
      "source": [
        "def plot_calibration_curve(y_true, y_prob, n_bins=10):\n",
        "    prob_true, prob_pred = calibration_curve(y_true, y_prob, n_bins=n_bins)\n",
        "    plt.plot(prob_pred, prob_true, marker='o')\n",
        "    plt.plot([0, 1], [0, 1], linestyle='--')\n",
        "    plt.xlabel('Mean predicted probability')\n",
        "    plt.ylabel('Fraction of positives')\n",
        "\n",
        "plt.figure(figsize=(10, 5))\n",
        "\n",
        "plt.subplot(1, 2, 1)\n",
        "plot_calibration_curve(y_test, original_confidences)\n",
        "plt.title('Original Calibration')\n",
        "\n",
        "plt.subplot(1, 2, 2)\n",
        "plot_calibration_curve(y_test, recalibrated_confidences)\n",
        "plt.title('Recalibrated Calibration')\n",
        "\n",
        "plt.tight_layout()\n",
        "plt.show()"
      ],
      "metadata": {
        "colab": {
          "base_uri": "https://localhost:8080/",
          "height": 488
        },
        "id": "4vrzGfZvBQ24",
        "outputId": "acc87ade-f211-4d56-fc08-1e3b5d20fb26"
      },
      "execution_count": null,
      "outputs": [
        {
          "output_type": "display_data",
          "data": {
            "text/plain": [
              "<Figure size 1000x500 with 2 Axes>"
            ],
            "image/png": "[encoded data removed]"
          },
          "metadata": {}
        }
      ]
    },
    {
      "cell_type": "code",
      "source": [
        "# prompt: get brier score using recalibrated_confidences and original\n",
        "\n",
        "# Brier score for original and recalibrated confidences\n",
        "brier_original = brier_score_loss(y_test, original_confidences)\n",
        "brier_recalibrated = brier_score_loss(y_test, recalibrated_confidences)\n",
        "\n",
        "print(\"Brier score (original):\", brier_original)\n",
        "print(\"Brier score (recalibrated):\", brier_recalibrated)\n"
      ],
      "metadata": {
        "colab": {
          "base_uri": "https://localhost:8080/"
        },
        "id": "tqSKZUOHf5zI",
        "outputId": "ee680e02-913a-4bd5-a63a-339873b34543"
      },
      "execution_count": null,
      "outputs": [
        {
          "output_type": "stream",
          "name": "stdout",
          "text": [
            "Brier score (original): 0.18969253333333333\n",
            "Brier score (recalibrated): 0.25801685770860944\n"
          ]
        }
      ]
    },
    {
      "cell_type": "markdown",
      "source": [
        "# Trainable Kernel Calibration Metrics"
      ],
      "metadata": {
        "id": "AtfibEYZRHpP"
      }
    },
    {
      "cell_type": "code",
      "source": [
        "import torch\n",
        "import torch.nn as nn\n",
        "import torch.optim as optim\n",
        "from torch.utils.data import TensorDataset, DataLoader\n",
        "import numpy as np\n",
        "import matplotlib.pyplot as plt\n",
        "\n",
        "# Import the original classes from your losses.py file\n",
        "from src.metrics.losses import ClassificationKernelLoss, ClassificationMixedLoss,ECEKDEMixedLoss, MMCEMixedLoss\n",
        "\n",
        "# Define a simple model\n",
        "class SimpleModel(nn.Module):\n",
        "    def __init__(self, input_dim):\n",
        "        super().__init__()\n",
        "        self.fc = nn.Sequential(\n",
        "            nn.Linear(input_dim, 20),\n",
        "            nn.ReLU(),\n",
        "            nn.Linear(20, 2)\n",
        "        )\n",
        "        self.output_size = 2  # Required for ClassificationKernelLoss\n",
        "\n",
        "    def forward(self, x):\n",
        "        return self.fc(x)\n",
        "\n",
        "class LogisticRegressionNN(nn.Module):\n",
        "    def __init__(self, input_dim):\n",
        "        super().__init__()\n",
        "        self.linear = nn.Linear(input_dim, 2)\n",
        "        self.output_size = 2  # Required for ClassificationKernelLoss\n",
        "\n",
        "    def forward(self, x):\n",
        "        return self.linear(x)\n",
        "\n",
        "# Training function\n",
        "def train_model(model, loss_fn, optimizer, num_epochs=100):\n",
        "    for epoch in range(num_epochs):\n",
        "        for batch in train_loader:\n",
        "            inputs, targets = batch\n",
        "            optimizer.zero_grad()\n",
        "            outputs = model(inputs)\n",
        "            loss = loss_fn(inputs, targets, outputs)\n",
        "            loss.backward()\n",
        "            optimizer.step()\n",
        "\n",
        "        if (epoch + 1) % 10 == 0:\n",
        "            print(f\"Epoch {epoch+1}, Loss: {loss.item():.4f}\")\n"
      ],
      "metadata": {
        "id": "MKPLYVaifFp7"
      },
      "execution_count": null,
      "outputs": []
    },
    {
      "cell_type": "code",
      "source": [
        "df = pd.read_csv('https://raw.githubusercontent.com/afarahi/Scientific-Machine-Learning/main/AHS_2019_Cleaned.CSV').drop('Unnamed: 0', axis=1)\n",
        "df.head()"
      ],
      "metadata": {
        "colab": {
          "base_uri": "https://localhost:8080/",
          "height": 206
        },
        "id": "VvzSSwQOtS7Q",
        "outputId": "afc7438f-79ff-43e9-ae42-1d8a1e4e5a6c"
      },
      "execution_count": null,
      "outputs": [
        {
          "output_type": "execute_result",
          "data": {
            "text/plain": [
              "   BLACK  HHSEX  METRO  HHGRAD  HHMAR  HHCITSHP  HHAGE  NUMPEOPLE     HINCP  \\\n",
              "0    0.0      1    1.0      44      1         1     52          3  5.409933   \n",
              "1    0.0      2    1.0      44      4         1     80          2  5.303196   \n",
              "2    0.0      1    1.0      47      1         1     72          2  4.825426   \n",
              "3    1.0      2    1.0      40      6         1     60          1  4.544068   \n",
              "4    0.0      2    1.0      39      3         1     80          2  4.309630   \n",
              "\n",
              "   DIVISION  OWNER  \n",
              "0         5    1.0  \n",
              "1         1    1.0  \n",
              "2         7    1.0  \n",
              "3         4    0.0  \n",
              "4         4    0.0  "
            ],
            "text/html": [
              "<div>\n",
              "<style scoped>\n",
              "    .dataframe tbody tr th:only-of-type {\n",
              "        vertical-align: middle;\n",
              "    }\n",
              "\n",
              "    .dataframe tbody tr th {\n",
              "        vertical-align: top;\n",
              "    }\n",
              "\n",
              "    .dataframe thead th {\n",
              "        text-align: right;\n",
              "    }\n",
              "</style>\n",
              "<table border=\"1\" class=\"dataframe\">\n",
              "  <thead>\n",
              "    <tr style=\"text-align: right;\">\n",
              "      <th></th>\n",
              "      <th>BLACK</th>\n",
              "      <th>HHSEX</th>\n",
              "      <th>METRO</th>\n",
              "      <th>HHGRAD</th>\n",
              "      <th>HHMAR</th>\n",
              "      <th>HHCITSHP</th>\n",
              "      <th>HHAGE</th>\n",
              "      <th>NUMPEOPLE</th>\n",
              "      <th>HINCP</th>\n",
              "      <th>DIVISION</th>\n",
              "      <th>OWNER</th>\n",
              "    </tr>\n",
              "  </thead>\n",
              "  <tbody>\n",
              "    <tr>\n",
              "      <th>0</th>\n",
              "      <td>0.0</td>\n",
              "      <td>1</td>\n",
              "      <td>1.0</td>\n",
              "      <td>44</td>\n",
              "      <td>1</td>\n",
              "      <td>1</td>\n",
              "      <td>52</td>\n",
              "      <td>3</td>\n",
              "      <td>5.409933</td>\n",
              "      <td>5</td>\n",
              "      <td>1.0</td>\n",
              "    </tr>\n",
              "    <tr>\n",
              "      <th>1</th>\n",
              "      <td>0.0</td>\n",
              "      <td>2</td>\n",
              "      <td>1.0</td>\n",
              "      <td>44</td>\n",
              "      <td>4</td>\n",
              "      <td>1</td>\n",
              "      <td>80</td>\n",
              "      <td>2</td>\n",
              "      <td>5.303196</td>\n",
              "      <td>1</td>\n",
              "      <td>1.0</td>\n",
              "    </tr>\n",
              "    <tr>\n",
              "      <th>2</th>\n",
              "      <td>0.0</td>\n",
              "      <td>1</td>\n",
              "      <td>1.0</td>\n",
              "      <td>47</td>\n",
              "      <td>1</td>\n",
              "      <td>1</td>\n",
              "      <td>72</td>\n",
              "      <td>2</td>\n",
              "      <td>4.825426</td>\n",
              "      <td>7</td>\n",
              "      <td>1.0</td>\n",
              "    </tr>\n",
              "    <tr>\n",
              "      <th>3</th>\n",
              "      <td>1.0</td>\n",
              "      <td>2</td>\n",
              "      <td>1.0</td>\n",
              "      <td>40</td>\n",
              "      <td>6</td>\n",
              "      <td>1</td>\n",
              "      <td>60</td>\n",
              "      <td>1</td>\n",
              "      <td>4.544068</td>\n",
              "      <td>4</td>\n",
              "      <td>0.0</td>\n",
              "    </tr>\n",
              "    <tr>\n",
              "      <th>4</th>\n",
              "      <td>0.0</td>\n",
              "      <td>2</td>\n",
              "      <td>1.0</td>\n",
              "      <td>39</td>\n",
              "      <td>3</td>\n",
              "      <td>1</td>\n",
              "      <td>80</td>\n",
              "      <td>2</td>\n",
              "      <td>4.309630</td>\n",
              "      <td>4</td>\n",
              "      <td>0.0</td>\n",
              "    </tr>\n",
              "  </tbody>\n",
              "</table>\n",
              "</div>"
            ]
          },
          "metadata": {},
          "execution_count": 214
        }
      ]
    },
    {
      "cell_type": "code",
      "source": [
        "# convert category dtype to numeric\n",
        "df['OWNER']=df['OWNER'].astype('int64')"
      ],
      "metadata": {
        "id": "BjlToQOMtV3-"
      },
      "execution_count": null,
      "outputs": []
    },
    {
      "cell_type": "code",
      "source": [
        "df['OWNER']=df['OWNER'].astype('category')\n",
        "features = ['BLACK', 'HHSEX', 'METRO', 'HHGRAD', 'HHMAR', 'HHCITSHP', 'HHAGE', 'NUMPEOPLE', 'HINCP', 'DIVISION']\n",
        "dependent_var = ['OWNER']\n",
        "\n",
        "X = df[features]\n",
        "y = df[dependent_var]\n",
        "\n",
        "X_train, X_test, y_train, y_test = train_test_split(X, y, test_size=0.25,random_state=1090)\n",
        "condition_test=X_test.index"
      ],
      "metadata": {
        "id": "PXaQoIHltX7g"
      },
      "execution_count": null,
      "outputs": []
    },
    {
      "cell_type": "code",
      "source": [
        "scaler = StandardScaler()\n",
        "X_train_scaled = scaler.fit_transform(X_train)\n",
        "X_test_scaled = scaler.transform(X_test)\n",
        "\n",
        "X_train_tensor = torch.FloatTensor(X_train_scaled)\n",
        "\n",
        "X_test_tensor = torch.FloatTensor(X_test_scaled)\n",
        "\n",
        "\n",
        "y_train_tensor = torch.tensor(y_train['OWNER'].values, dtype=torch.long)\n",
        "y_test_tensor = torch.tensor(y_test['OWNER'].values, dtype=torch.long)\n",
        "\n",
        "train_dataset = TensorDataset(X_train_tensor, y_train_tensor)\n",
        "train_loader = DataLoader(train_dataset, batch_size=32, shuffle=True)"
      ],
      "metadata": {
        "id": "UrHdgWjmtySR"
      },
      "execution_count": null,
      "outputs": []
    },
    {
      "cell_type": "code",
      "source": [
        "# Train with standard cross-entropy loss\n",
        "model_ce = LogisticRegressionNN(input_dim=10)\n",
        "optimizer_ce = optim.Adam(model_ce.parameters(), lr=0.01)\n",
        "train_model(model_ce, lambda x, y, z: nn.CrossEntropyLoss()(z, y), optimizer_ce)\n"
      ],
      "metadata": {
        "colab": {
          "base_uri": "https://localhost:8080/"
        },
        "id": "-kj7122xsSG_",
        "outputId": "aa103a5c-88fd-44a6-9afc-825b5190fb2e"
      },
      "execution_count": null,
      "outputs": [
        {
          "output_type": "stream",
          "name": "stdout",
          "text": [
            "Epoch 10, Loss: 0.4381\n",
            "Epoch 20, Loss: 0.4829\n",
            "Epoch 30, Loss: 0.2874\n",
            "Epoch 40, Loss: 0.7129\n",
            "Epoch 50, Loss: 0.2871\n",
            "Epoch 60, Loss: 0.5716\n",
            "Epoch 70, Loss: 0.6279\n",
            "Epoch 80, Loss: 0.3661\n",
            "Epoch 90, Loss: 0.6106\n",
            "Epoch 100, Loss: 0.4607\n"
          ]
        }
      ]
    },
    {
      "cell_type": "code",
      "source": [
        "# Train with mixed loss (including kernel-based calibration)\n",
        "model_mixed = LogisticRegressionNN(input_dim=10)\n",
        "mixed_loss = ClassificationMixedLoss(\n",
        "    loss_scalers={\"nll\": 1.0, \"mmd\": 0.7},\n",
        "    operands={'x': \"rbf\", 'y': \"rbf\"},\n",
        "    scalers={'x': 1.0, 'y': 1.0},\n",
        "    bandwidths={'x': 25, 'y': 1}\n",
        ")\n",
        "optimizer_mixed = optim.Adam(model_mixed.parameters(), lr=0.01)\n",
        "train_model(model_mixed, mixed_loss, optimizer_mixed)"
      ],
      "metadata": {
        "colab": {
          "base_uri": "https://localhost:8080/"
        },
        "id": "gd3yUpuGvQLa",
        "outputId": "4461f4c9-d57d-492c-e0b1-754ab6b7edc3"
      },
      "execution_count": null,
      "outputs": [
        {
          "output_type": "stream",
          "name": "stdout",
          "text": [
            "Epoch 10, Loss: 0.2727\n",
            "Epoch 20, Loss: 0.6127\n",
            "Epoch 30, Loss: 0.4606\n",
            "Epoch 40, Loss: 0.4149\n",
            "Epoch 50, Loss: 0.6971\n",
            "Epoch 60, Loss: 0.5425\n",
            "Epoch 70, Loss: 0.3975\n",
            "Epoch 80, Loss: 0.5681\n",
            "Epoch 90, Loss: 0.4822\n",
            "Epoch 100, Loss: 0.2954\n"
          ]
        }
      ]
    },
    {
      "cell_type": "code",
      "source": [
        "model_ecekde = LogisticRegressionNN(input_dim=10)\n",
        "ecekde_loss = ECEKDEMixedLoss(\n",
        "    loss_scalers={\"nll\": 1.0, \"ece_kde\": 0.7},\n",
        "    bandwidth=25,\n",
        "    p=1,\n",
        "    mc_type='canonical'\n",
        ")\n",
        "optimizer_ecekde = optim.Adam(model_ecekde.parameters(), lr=0.01)\n",
        "train_model(model_ecekde, ecekde_loss, optimizer_ecekde)\n",
        "\n",
        "# Train with MMCEMixedLoss\n",
        "model_mmce = LogisticRegressionNN(input_dim=10)\n",
        "mmce_loss = MMCEMixedLoss(\n",
        "    loss_scalers={\"nll\": 1.0, \"mmce\": 0.7}\n",
        ")\n",
        "optimizer_mmce = optim.Adam(model_mmce.parameters(), lr=0.01)\n",
        "train_model(model_mmce, mmce_loss, optimizer_mmce)"
      ],
      "metadata": {
        "colab": {
          "base_uri": "https://localhost:8080/"
        },
        "id": "iXwnTSMUOWmI",
        "outputId": "497847f2-60ce-4124-d359-e1ab56bda86a"
      },
      "execution_count": null,
      "outputs": [
        {
          "output_type": "stream",
          "name": "stdout",
          "text": [
            "Epoch 10, Loss: 0.7334\n",
            "Epoch 20, Loss: 0.7346\n",
            "Epoch 30, Loss: 0.7382\n",
            "Epoch 40, Loss: 0.6804\n",
            "Epoch 50, Loss: 0.7735\n",
            "Epoch 60, Loss: 0.6534\n",
            "Epoch 70, Loss: 0.6488\n",
            "Epoch 80, Loss: 0.7341\n",
            "Epoch 90, Loss: 0.7021\n",
            "Epoch 100, Loss: 0.7228\n",
            "Epoch 10, Loss: 0.6849\n",
            "Epoch 20, Loss: 0.5739\n",
            "Epoch 30, Loss: 0.6999\n",
            "Epoch 40, Loss: 0.5945\n",
            "Epoch 50, Loss: 0.7454\n",
            "Epoch 60, Loss: 0.2742\n",
            "Epoch 70, Loss: 0.7872\n",
            "Epoch 80, Loss: 0.7010\n",
            "Epoch 90, Loss: 0.7828\n",
            "Epoch 100, Loss: 0.7614\n"
          ]
        }
      ]
    },
    {
      "cell_type": "code",
      "source": [
        "# Train with standard cross-entropy loss\n",
        "model_ce = SimpleModel(input_dim=10)\n",
        "optimizer_ce = optim.Adam(model_ce.parameters(), lr=0.01)\n",
        "train_model(model_ce, lambda x, y, z: nn.CrossEntropyLoss()(z, y), optimizer_ce)\n",
        "\n",
        "# Train with mixed loss\n",
        "model_mixed = SimpleModel(input_dim=10)\n",
        "mixed_loss = ClassificationMixedLoss(\n",
        "    loss_scalers={\"nll\": 1.0, \"mmd\": 0.7},\n",
        "    operands={'x': \"rbf\", 'y': \"rbf\"},\n",
        "    scalers={'x': 1.0, 'y': 1.0},\n",
        "    bandwidths={'x': 25, 'y': 1}\n",
        ")\n",
        "optimizer_mixed = optim.Adam(model_mixed.parameters(), lr=0.01)\n",
        "train_model(model_mixed, mixed_loss, optimizer_mixed)\n"
      ],
      "metadata": {
        "colab": {
          "base_uri": "https://localhost:8080/"
        },
        "id": "wyjaessIfQcQ",
        "outputId": "71a66a6b-319d-41db-da2e-d77583e2b20a"
      },
      "execution_count": null,
      "outputs": [
        {
          "output_type": "stream",
          "name": "stdout",
          "text": [
            "Epoch 10, Loss: 0.3999\n",
            "Epoch 20, Loss: 0.4848\n",
            "Epoch 30, Loss: 0.4517\n",
            "Epoch 40, Loss: 0.4195\n",
            "Epoch 50, Loss: 0.3291\n",
            "Epoch 60, Loss: 0.5501\n",
            "Epoch 70, Loss: 0.6058\n",
            "Epoch 80, Loss: 0.4137\n",
            "Epoch 90, Loss: 0.4968\n",
            "Epoch 100, Loss: 0.4332\n",
            "Epoch 10, Loss: 0.3288\n",
            "Epoch 20, Loss: 0.6846\n",
            "Epoch 30, Loss: 0.4797\n",
            "Epoch 40, Loss: 0.5473\n",
            "Epoch 50, Loss: 0.7111\n",
            "Epoch 60, Loss: 0.6544\n",
            "Epoch 70, Loss: 0.6134\n",
            "Epoch 80, Loss: 0.4593\n",
            "Epoch 90, Loss: 0.4232\n",
            "Epoch 100, Loss: 0.4322\n"
          ]
        }
      ]
    },
    {
      "cell_type": "code",
      "source": [
        "# Evaluation function\n",
        "def evaluate_calibration(model, X, y):\n",
        "    model.eval()\n",
        "    with torch.no_grad():\n",
        "        logits = model(X)\n",
        "        probs = torch.softmax(logits, dim=1)[:, 1]\n",
        "\n",
        "    probs = probs.numpy()\n",
        "    y = y.numpy()\n",
        "\n",
        "    # Calculate ECE\n",
        "    n_bins = 10\n",
        "    bin_boundaries = np.linspace(0, 1, n_bins + 1)\n",
        "    bin_lowers = bin_boundaries[:-1]\n",
        "    bin_uppers = bin_boundaries[1:]\n",
        "\n",
        "    accuracies = []\n",
        "    confidences = []\n",
        "    for bin_lower, bin_upper in zip(bin_lowers, bin_uppers):\n",
        "        in_bin = np.logical_and(probs > bin_lower, probs <= bin_upper)\n",
        "        prop_in_bin = np.mean(in_bin)\n",
        "        if prop_in_bin > 0:\n",
        "            accuracy_in_bin = np.mean(y[in_bin] == (probs[in_bin] > 0.5))\n",
        "            avg_confidence_in_bin = np.mean(probs[in_bin])\n",
        "            accuracies.append(accuracy_in_bin)\n",
        "            confidences.append(avg_confidence_in_bin)\n",
        "\n",
        "    ece = np.abs(np.array(accuracies) - np.array(confidences)).mean()\n",
        "    return ece\n",
        "\n",
        "# Evaluate both models\n",
        "ece_ce= evaluate_calibration(model_ce, X_test_tensor, y_test_tensor)\n",
        "ece_mixed = evaluate_calibration(model_mixed, X_test_tensor, y_test_tensor)\n",
        "ece_ecekde = evaluate_calibration(model_ecekde, X_test_tensor, y_test_tensor)\n",
        "ece_mmce = evaluate_calibration(model_mmce, X_test_tensor, y_test_tensor)\n",
        "\n",
        "print(f\"ECE (Cross-Entropy): {ece_ce:.4f}\")\n",
        "print(f\"ECE (MMD Mixed Loss): {ece_mixed:.4f}\")\n",
        "print(f\"ECE (ECEKDE Mixed Loss): {ece_ecekde:.4f}\")\n",
        "print(f\"ECE (MMCE Mixed Loss): {ece_mmce:.4f}\")\n"
      ],
      "metadata": {
        "colab": {
          "base_uri": "https://localhost:8080/"
        },
        "id": "YJWAXXhyfN2h",
        "outputId": "d5079f9e-c744-4743-8417-1f0764060798"
      },
      "execution_count": null,
      "outputs": [
        {
          "output_type": "stream",
          "name": "stdout",
          "text": [
            "ECE (Cross-Entropy): 0.2456\n",
            "ECE (MMD Mixed Loss): 0.2521\n",
            "ECE (ECEKDE Mixed Loss): 0.2420\n",
            "ECE (MMCE Mixed Loss): 0.2541\n"
          ]
        }
      ]
    },
    {
      "cell_type": "code",
      "source": [
        "model_ce.eval()\n",
        "with torch.no_grad():\n",
        "  logits = model_ce(X_test_tensor)\n",
        "  probs = torch.softmax(logits, dim=1)[:, 1]\n",
        "probs_ce = probs.numpy()\n",
        "\n",
        "model_mixed.eval()\n",
        "with torch.no_grad():\n",
        "  logits = model_mixed(X_test_tensor)\n",
        "  probs = torch.softmax(logits, dim=1)[:, 1]\n",
        "probs_mixed = probs.numpy()\n",
        "\n",
        "model_ecekde.eval()\n",
        "with torch.no_grad():\n",
        "  logits = model_mixed(X_test_tensor)\n",
        "  probs = torch.softmax(logits, dim=1)[:, 1]\n",
        "probs_ecekde = probs.numpy()\n",
        "\n",
        "model_mmce.eval()\n",
        "with torch.no_grad():\n",
        "  logits = model_mixed(X_test_tensor)\n",
        "  probs = torch.softmax(logits, dim=1)[:, 1]\n",
        "probs_mmce = probs.numpy()"
      ],
      "metadata": {
        "id": "HiL-u0lbgxFI"
      },
      "execution_count": null,
      "outputs": []
    },
    {
      "cell_type": "code",
      "source": [
        "def plot_calibration_curve(y_true, y_prob, n_bins=10):\n",
        "    prob_true, prob_pred = calibration_curve(y_true, y_prob, n_bins=n_bins)\n",
        "    plt.plot(prob_pred, prob_true, marker='o')\n",
        "    plt.plot([0, 1], [0, 1], linestyle='--')\n",
        "    plt.xlabel('Mean predicted probability')\n",
        "    plt.ylabel('Fraction of positives')\n",
        "\n",
        "plt.figure(figsize=(10, 5))\n",
        "\n",
        "plt.subplot(1, 2, 1)\n",
        "plot_calibration_curve(y_test_tensor, probs_ce)\n",
        "plt.title('Original Calibration')\n",
        "\n",
        "plt.subplot(1, 2, 2)\n",
        "plot_calibration_curve(y_test_tensor, probs_mixed)\n",
        "plt.title('Recalibrated Calibration')\n",
        "\n",
        "plt.tight_layout()\n",
        "plt.show()"
      ],
      "metadata": {
        "colab": {
          "base_uri": "https://localhost:8080/",
          "height": 488
        },
        "id": "CqE7D8yzgcfo",
        "outputId": "6e6b4fd1-09b9-4966-dd9f-98eea8e5d37e"
      },
      "execution_count": null,
      "outputs": [
        {
          "output_type": "display_data",
          "data": {
            "text/plain": [
              "<Figure size 1000x500 with 2 Axes>"
            ],
            "image/png": "[encoded data removed]"
          },
          "metadata": {}
        }
      ]
    },
    {
      "cell_type": "code",
      "source": [
        "# prompt: compare brier score of model_ce and model_mixed\n",
        "\n",
        "from sklearn.metrics import brier_score_loss\n",
        "\n",
        "# Get predicted probabilities for both models\n",
        "model_ce.eval()\n",
        "with torch.no_grad():\n",
        "  logits_ce = model_ce(X_test_tensor)\n",
        "  probs_ce = torch.softmax(logits_ce, dim=1)[:, 1].numpy()\n",
        "\n",
        "model_mixed.eval()\n",
        "with torch.no_grad():\n",
        "  logits_mixed = model_mixed(X_test_tensor)\n",
        "  probs_mixed = torch.softmax(logits_mixed, dim=1)[:, 1].numpy()\n",
        "\n",
        "# Calculate Brier scores\n",
        "brier_ce = brier_score_loss(y_test, probs_ce)\n",
        "brier_mixed = brier_score_loss(y_test, probs_mixed)\n",
        "brier_ecekde=brier_score_loss(y_test, probs_ecekde)\n",
        "brier_mmce = brier_score_loss(y_test, probs_mmce)\n",
        "\n",
        "print(f\"Brier score (Cross-Entropy): {brier_ce:.4f}\")\n",
        "print(f\"Brier score (MMD Mixed Loss): {brier_mixed:.4f}\")\n",
        "print(f\"Brier score (ECEKDE Mixed Loss): {brier_ecekde:.4f}\")\n",
        "print(f\"Brier score (MMCE Mixed Loss): {brier_mmce:.4f}\")\n"
      ],
      "metadata": {
        "colab": {
          "base_uri": "https://localhost:8080/"
        },
        "id": "_pvtHBSZitlU",
        "outputId": "45dd425e-522c-41c0-c37f-fced3b02cafa"
      },
      "execution_count": null,
      "outputs": [
        {
          "output_type": "stream",
          "name": "stdout",
          "text": [
            "Brier score (Cross-Entropy): 0.1701\n",
            "Brier score (MMD Mixed Loss): 0.1692\n",
            "Brier score (ECEKDE Mixed Loss): 0.1634\n",
            "Brier score (MMCE Mixed Loss): 0.1634\n"
          ]
        }
      ]
    },
    {
      "cell_type": "code",
      "source": [
        "from KiTE.metrics import ELCE2"
      ],
      "metadata": {
        "id": "vqDhUIwZxHb8"
      },
      "execution_count": null,
      "outputs": []
    },
    {
      "cell_type": "code",
      "source": [
        "probs_mixed"
      ],
      "metadata": {
        "colab": {
          "base_uri": "https://localhost:8080/"
        },
        "id": "R1BjJKBMyTUC",
        "outputId": "8a4b15fc-50b0-4c2a-fd33-847a2fa22db4"
      },
      "execution_count": null,
      "outputs": [
        {
          "output_type": "execute_result",
          "data": {
            "text/plain": [
              "array([0.17861862, 0.82975787, 0.66047114, ..., 0.13750766, 0.6560978 ,\n",
              "       0.81280345], dtype=float32)"
            ]
          },
          "metadata": {},
          "execution_count": 183
        }
      ]
    },
    {
      "cell_type": "code",
      "source": [
        "ELCE2(np.array(df[['HINCP','BLACK']])[condition_test],  np.array(df['OWNER'][condition_test]) ,probs_mixed, kernel_function=\"rbf\", prob_kernel_width=0.1, iterations=500, use_diffusion_distance=False, verbose=True,random_state=None, n_jobs=1,gamma=25)"
      ],
      "metadata": {
        "colab": {
          "base_uri": "https://localhost:8080/"
        },
        "id": "LJh5BLnOyP-J",
        "outputId": "5db50db9-f872-4dc6-8837-dd136a6628c4"
      },
      "execution_count": null,
      "outputs": [
        {
          "output_type": "execute_result",
          "data": {
            "text/plain": [
              "(0.00035714380237850243,\n",
              " array([-2.32574785e-05, -9.87173655e-05, -7.75080666e-05, -2.32592663e-05,\n",
              "         6.95784503e-05, -4.76918902e-05,  6.56900839e-05, -7.35729016e-05,\n",
              "         1.71009923e-05, -3.37117589e-05, -3.00570308e-05,  7.74750197e-06,\n",
              "        -1.02272653e-04, -4.42929588e-05, -4.37566235e-06, -5.43538502e-05,\n",
              "        -1.00763245e-04,  1.02148196e-04,  6.87254574e-05,  1.76714631e-05,\n",
              "        -7.40794064e-05, -9.45903061e-05,  7.99827271e-06,  1.27340036e-04,\n",
              "         6.98817190e-06, -6.52842065e-05,  6.72477413e-06, -3.96693207e-05,\n",
              "         9.21896622e-05, -4.17948709e-05,  2.55312446e-05,  1.38583442e-07,\n",
              "         1.94595115e-05, -1.26794226e-05, -5.52088585e-05, -4.35171673e-05,\n",
              "        -2.24657921e-05, -6.27545573e-05,  3.32444952e-05,  7.76381930e-05,\n",
              "         1.37444239e-04, -8.00246674e-05, -1.52850495e-05, -8.85782451e-05,\n",
              "         5.24382934e-06, -3.03468060e-05, -9.68492229e-05, -2.23506596e-05,\n",
              "         1.69398649e-05, -5.12081482e-05,  3.98414828e-05, -8.73579910e-05,\n",
              "        -4.61454157e-05, -7.48490378e-05, -1.00588896e-04, -9.06511947e-05,\n",
              "         8.88048929e-05,  4.77267858e-05,  1.12397893e-04, -8.55289754e-05,\n",
              "         7.88987247e-06, -2.04242068e-05, -4.82950613e-06,  5.44096239e-05,\n",
              "         1.70882570e-04,  1.73267436e-04, -9.62520995e-05,  9.74482982e-06,\n",
              "        -3.02667102e-05, -3.32134679e-05, -4.44277782e-05, -1.71199418e-05,\n",
              "        -7.48297159e-05,  4.58510899e-05,  5.25111237e-05,  7.22125063e-05,\n",
              "         3.87377974e-05,  3.86830163e-05, -7.22574469e-05, -2.68916787e-05,\n",
              "        -9.63789853e-05, -9.41248417e-05, -9.36370131e-05, -1.47083059e-05,\n",
              "        -4.10927730e-05,  7.47679360e-05,  1.05954632e-04,  1.80390508e-04,\n",
              "        -6.10409756e-05,  9.62562454e-05, -6.14013684e-05,  1.08209713e-04,\n",
              "         3.03084953e-05, -2.15873426e-05,  4.46252212e-05,  2.80005020e-04,\n",
              "        -7.75652361e-05,  7.56986374e-05,  8.05389248e-06, -1.20403735e-05,\n",
              "         1.49932287e-05, -3.54260165e-05, -6.42237141e-06,  5.09360048e-05,\n",
              "        -3.98787456e-05, -1.56973269e-05,  1.08575987e-04,  3.70177388e-04,\n",
              "         3.51430819e-05,  9.91415655e-06, -6.90021960e-05,  2.78643508e-05,\n",
              "        -2.38980511e-05, -9.03885165e-06, -4.40931734e-06, -2.09854862e-05,\n",
              "         1.06054362e-04,  2.57705983e-04, -8.00468698e-05,  6.13303208e-05,\n",
              "        -6.86844026e-05,  7.93671777e-05,  5.00700013e-06, -1.82626888e-05,\n",
              "         5.22933720e-05, -7.11898041e-05, -3.31753220e-05,  5.67025917e-05,\n",
              "        -1.53579156e-04, -6.73155603e-05, -2.12431575e-06,  4.69713929e-05,\n",
              "        -2.49145871e-05, -8.84137163e-05, -3.35637040e-05, -1.10639695e-04,\n",
              "         9.96069733e-05, -1.36381102e-05,  2.02583159e-05,  2.46629509e-05,\n",
              "        -8.37829047e-05,  8.33892550e-05,  7.37755528e-05, -7.73239936e-05,\n",
              "         2.51593290e-05,  1.69329703e-05,  6.85409550e-05, -4.23053639e-05,\n",
              "        -3.72231291e-05,  8.37248688e-05, -4.01574086e-05,  2.42036082e-05,\n",
              "        -1.11479090e-06,  3.24420746e-06,  9.08203491e-05, -3.06276233e-05,\n",
              "         8.11481191e-05, -3.25188723e-05,  1.69508350e-04, -3.44512234e-05,\n",
              "         6.09791979e-06,  6.64784357e-05,  4.79194459e-05, -5.72279203e-05,\n",
              "        -3.18263718e-06,  3.66467618e-05, -6.53424795e-05, -3.17022095e-05,\n",
              "        -7.11914130e-06, -4.32118930e-05, -4.35778380e-05, -7.97503431e-05,\n",
              "         1.49074212e-04, -3.61539208e-05, -1.42715647e-05, -6.54047422e-05,\n",
              "        -1.15455975e-04, -2.07425018e-05,  2.50659251e-05, -6.61726036e-06,\n",
              "         2.30316279e-05, -3.95596535e-05,  3.22801347e-05, -9.43138263e-06,\n",
              "         8.45740991e-05, -3.39526580e-05, -4.49078220e-05,  2.62757010e-05,\n",
              "         1.59859042e-05, -5.01690077e-05, -2.78060156e-05, -7.24116143e-05,\n",
              "        -1.07298995e-04,  3.04368638e-05,  6.59234366e-05, -1.08588176e-04,\n",
              "         3.48997611e-05, -1.01979646e-04,  1.67469470e-04,  1.15077676e-04,\n",
              "        -5.03566510e-05,  3.26570124e-05,  1.45212280e-04,  4.99721073e-05,\n",
              "         3.01991063e-05,  5.96053423e-05, -9.43779078e-05,  4.14355209e-05,\n",
              "         3.99025339e-05, -8.98002154e-05, -1.12981258e-04,  1.89311146e-06,\n",
              "        -5.02703386e-05,  4.94786403e-05,  5.70443076e-05, -6.90970236e-06,\n",
              "         8.08471063e-05,  1.62820418e-04,  1.28356028e-04,  1.12322153e-04,\n",
              "        -6.18849780e-05, -6.99701255e-05, -4.98443980e-05, -1.13058099e-04,\n",
              "         1.10199779e-05, -5.58813069e-05,  2.91993080e-05,  3.15794476e-05,\n",
              "        -4.98914834e-05,  7.51791936e-05,  2.56837966e-04, -6.26107726e-05,\n",
              "         7.60142280e-05,  2.35714349e-06,  2.95476252e-04, -7.52995256e-05,\n",
              "        -9.59980796e-05,  1.12130380e-05, -2.39334268e-05, -3.67435924e-05,\n",
              "         1.38339202e-04, -1.41101476e-05,  1.40478366e-05, -2.50318276e-05,\n",
              "         8.16779342e-05, -4.29752421e-05, -9.78862945e-06, -5.68151430e-05,\n",
              "        -2.14491879e-05,  3.01155916e-05, -2.77939627e-05,  5.55776113e-05,\n",
              "         1.18045261e-05, -4.67043869e-05, -2.06694502e-05, -3.63767980e-05,\n",
              "         6.89173322e-06,  5.13187009e-05, -1.21517193e-05, -8.14322302e-05,\n",
              "         1.81534500e-05, -1.57409895e-05, -1.06336523e-04, -4.86324095e-05,\n",
              "         4.65870268e-05, -1.51419206e-06, -3.66974715e-05, -3.22976939e-05,\n",
              "         1.46792387e-04, -3.06711103e-05, -5.23156179e-05, -2.13890312e-05,\n",
              "        -2.58372221e-05, -7.64426985e-05,  2.49511511e-05,  3.73367225e-05,\n",
              "        -3.32243162e-05, -5.27864122e-05,  5.01834358e-05, -2.24951718e-05,\n",
              "         4.00770414e-05,  1.26924260e-05, -6.54592866e-05,  5.11985955e-05,\n",
              "         4.49193098e-05,  3.33566088e-05, -5.40094481e-05, -4.28389030e-05,\n",
              "         4.94019189e-05, -1.85810660e-05,  4.86328550e-05,  4.88309791e-05,\n",
              "         6.39281981e-05, -7.00661879e-05,  4.18530716e-05,  2.91432888e-05,\n",
              "         8.48865816e-05, -8.06285837e-05,  1.24919146e-05,  4.29706161e-05,\n",
              "        -4.31940502e-08,  3.82324406e-07,  2.82754893e-05, -6.69755518e-05,\n",
              "        -1.98603610e-05, -7.63083254e-05, -3.90738587e-05, -3.19864032e-05,\n",
              "        -4.24963756e-05, -5.54779274e-05, -4.12092234e-05,  4.63539900e-06,\n",
              "         6.23224485e-05,  2.51233920e-04,  3.00393863e-05, -2.81581272e-05,\n",
              "        -1.11450847e-05,  5.06137671e-05,  5.96122723e-05, -4.56526498e-06,\n",
              "         3.09388939e-06,  1.20636809e-04, -1.05243139e-04,  1.35769453e-04,\n",
              "        -1.54505817e-05,  4.16746891e-05, -9.50685862e-06,  2.66049018e-05,\n",
              "        -4.70324078e-05, -2.62677960e-05,  4.42956464e-05,  4.05479270e-05,\n",
              "        -4.66411251e-05,  6.61504326e-05, -6.69162169e-05,  5.55719730e-05,\n",
              "         2.92148740e-05,  1.67335546e-05, -1.02253173e-04, -5.89025464e-05,\n",
              "        -9.66589337e-05, -3.31197375e-05, -1.84038520e-05,  1.13438435e-04,\n",
              "        -2.85931221e-05, -3.85388214e-06,  6.55638833e-05, -7.27401269e-05,\n",
              "         6.78890585e-05,  7.78494066e-07, -3.89302455e-06,  1.43880949e-04,\n",
              "        -6.30967419e-05, -3.08906449e-05, -7.70701349e-06,  1.46057634e-05,\n",
              "         3.51729017e-05,  1.59659179e-06, -1.11093843e-04, -4.39592400e-05,\n",
              "        -3.59256958e-05,  4.25657350e-05,  1.54752191e-04, -3.42315600e-05,\n",
              "         3.25312615e-05, -6.31206134e-05,  9.00717520e-05, -5.91863676e-05,\n",
              "         9.53961740e-05, -3.13085852e-05,  2.70208519e-05, -6.69067329e-05,\n",
              "        -8.25619198e-05, -7.32351501e-05, -2.03423954e-05, -5.02972304e-05,\n",
              "        -1.41485067e-05,  7.47378661e-05,  1.60383917e-07, -1.01524512e-04,\n",
              "         2.41186908e-04, -3.61346068e-05, -5.83661607e-06, -7.59969103e-05,\n",
              "        -7.49276622e-05,  5.31647798e-05, -6.73789460e-06,  4.54464019e-06,\n",
              "        -2.41140142e-05, -4.11156640e-05, -5.00360989e-05,  1.31912223e-05,\n",
              "        -4.23385166e-05, -1.00919748e-04,  1.25329510e-04, -5.87771663e-05,\n",
              "         1.10730398e-05,  6.14732809e-05, -2.59179372e-05, -6.65531233e-05,\n",
              "        -7.58493207e-06, -1.29286252e-04, -5.78359775e-05, -5.33082349e-05,\n",
              "        -4.92346558e-05,  1.02162847e-05,  1.18930448e-04, -2.82723699e-05,\n",
              "         5.15296625e-05, -4.25031179e-05, -1.25503131e-05, -1.31468861e-05,\n",
              "         5.80710395e-05,  1.65520679e-04, -8.82948844e-05,  1.00902398e-04,\n",
              "        -5.52664577e-05, -7.59161112e-05, -1.02412642e-05, -6.37964636e-05,\n",
              "        -1.34225057e-05, -9.64035768e-05, -5.26972655e-05,  4.49508817e-05,\n",
              "        -1.50532391e-06, -4.86475230e-05, -2.14300427e-05, -9.68777716e-05,\n",
              "        -6.47391923e-05,  1.26011139e-05,  3.05622092e-05,  5.24634572e-05,\n",
              "        -9.93532155e-05, -2.96494425e-05,  5.17141611e-05, -6.02480026e-05,\n",
              "         9.61402231e-05, -2.02781487e-05, -3.90767035e-05, -5.28635690e-05,\n",
              "         2.23004971e-05, -1.06328878e-04, -7.68381067e-05,  1.48530066e-05,\n",
              "         5.14558921e-05, -6.58026179e-05,  8.28947759e-05,  2.69556164e-05,\n",
              "        -2.46750034e-05, -6.73127939e-05, -3.09338525e-05,  1.43222819e-04,\n",
              "         3.48235778e-05,  3.51098787e-05, -1.34580503e-05, -4.06339762e-05,\n",
              "        -3.15869488e-06, -2.76873044e-05, -1.22041239e-04, -4.04524274e-05,\n",
              "        -1.52614559e-05,  8.43563656e-05,  1.09528158e-04, -7.46351751e-05,\n",
              "         4.97400510e-05,  4.72470014e-05, -3.98244231e-05,  5.13828916e-05,\n",
              "        -6.76631021e-05, -3.07949160e-05,  1.39453567e-04,  6.02943143e-05,\n",
              "        -1.77100651e-05, -1.11826227e-05, -5.76035150e-05, -6.97241098e-06,\n",
              "         3.74544060e-05, -1.68214021e-05, -3.08973355e-05, -2.78836103e-05,\n",
              "         9.09041662e-05,  1.17150835e-04, -2.49821912e-05,  1.24953032e-05,\n",
              "         5.86837883e-06,  1.38621485e-05,  2.76584666e-06, -4.69439472e-05,\n",
              "         1.89384073e-05, -9.13617556e-05, -7.51126792e-05,  3.82795887e-05,\n",
              "         5.42967574e-05, -5.12687066e-05,  1.10649070e-05, -1.11960426e-04,\n",
              "        -8.21502536e-05, -2.04812230e-05, -8.92371834e-05, -4.99387854e-05]),\n",
              " 0.002)"
            ]
          },
          "metadata": {},
          "execution_count": 197
        }
      ]
    },
    {
      "cell_type": "code",
      "source": [
        "ELCE2(np.array(df[['HINCP','BLACK']])[condition_test],  np.array(df['OWNER'][condition_test]) ,probs_ecekde, kernel_function=\"rbf\", prob_kernel_width=0.1, iterations=500, use_diffusion_distance=False, verbose=True,random_state=None, n_jobs=1,gamma=25)"
      ],
      "metadata": {
        "colab": {
          "base_uri": "https://localhost:8080/"
        },
        "id": "X_z9w33ySprW",
        "outputId": "49a97592-8e7c-4469-a7cc-3358ec1acc95"
      },
      "execution_count": null,
      "outputs": [
        {
          "output_type": "execute_result",
          "data": {
            "text/plain": [
              "(0.00035714380237850243,\n",
              " array([-1.15936945e-05,  7.16082387e-05,  8.96030665e-05, -4.43142958e-05,\n",
              "         1.43826420e-04,  1.79336760e-05, -4.37845517e-05, -2.77659314e-05,\n",
              "        -7.61852853e-06,  9.38992058e-05, -9.11624763e-06, -6.21175564e-05,\n",
              "         7.48435023e-05, -2.38908493e-05, -7.27024794e-05,  4.31131957e-05,\n",
              "         2.60913318e-04, -6.46046263e-05, -2.80618737e-06,  2.06070852e-05,\n",
              "         8.00695054e-05, -9.39031698e-05, -7.25079945e-05,  3.13924396e-05,\n",
              "        -5.38350936e-05, -3.07221634e-05, -6.41052303e-05, -8.07110554e-05,\n",
              "        -5.94422856e-05,  1.00084190e-04,  6.45057590e-05, -8.65565745e-05,\n",
              "         5.62587465e-06, -5.07374351e-05, -1.56164085e-05,  9.41270235e-05,\n",
              "        -1.61545026e-05, -1.15192331e-04,  6.02205247e-05, -9.32764103e-05,\n",
              "         4.10033148e-05,  5.49212220e-05,  4.41956526e-05, -3.24823834e-05,\n",
              "         4.48207299e-05,  8.46036464e-05, -7.26990580e-06, -8.12902676e-05,\n",
              "        -3.55791341e-05,  5.58620254e-05, -8.58958098e-05,  2.27818450e-05,\n",
              "         1.25127678e-05, -5.46843795e-05,  2.33243108e-06, -2.40305017e-05,\n",
              "        -1.26251161e-04, -3.34802041e-05,  4.82524786e-05, -8.76634365e-05,\n",
              "        -5.33202824e-05, -3.00797555e-05, -1.44905034e-06,  2.37405414e-05,\n",
              "        -3.22835771e-05,  1.54898977e-04, -5.20173835e-05,  1.94420669e-05,\n",
              "         1.08213667e-04,  5.18988004e-06, -4.93110792e-05,  5.59302432e-05,\n",
              "        -5.85720605e-05, -2.78518114e-05,  2.70224024e-05, -5.35668177e-05,\n",
              "        -8.79433689e-05,  7.62331974e-05,  9.79038205e-05,  4.50389206e-05,\n",
              "        -3.91383665e-05,  7.30274778e-05,  9.92875366e-05, -6.11847011e-05,\n",
              "         4.40421411e-05, -7.52217307e-05,  2.84594525e-05,  3.85566183e-05,\n",
              "        -9.01701968e-05, -9.26696642e-05,  1.58841645e-07,  2.74495467e-05,\n",
              "        -5.91574538e-06,  4.24796171e-05, -3.74676731e-05, -5.60856021e-05,\n",
              "         2.44209042e-06, -5.78605043e-05, -8.97547075e-05,  3.06090560e-05,\n",
              "         2.96333651e-04, -4.41521707e-05, -7.05744780e-05,  2.94556312e-04,\n",
              "        -8.12314694e-05,  1.35896957e-04,  4.45991972e-05,  5.81050675e-05,\n",
              "        -6.70081720e-05, -3.84636794e-06, -3.68733355e-05, -7.82193092e-06,\n",
              "         6.84513036e-05, -6.40792415e-05,  1.86786446e-04, -3.92328583e-05,\n",
              "        -8.07575116e-06,  6.22156519e-05, -1.02720046e-04, -1.23771308e-05,\n",
              "        -2.03349345e-05, -1.16736454e-05,  1.13610340e-04, -2.25161473e-05,\n",
              "        -4.39825739e-05, -5.62389427e-05, -1.10581287e-05, -3.43773340e-05,\n",
              "         4.74296252e-05, -5.95589011e-05,  2.27360707e-05, -1.69961463e-05,\n",
              "         5.78106920e-05, -9.19795044e-05,  1.29273074e-05, -3.60442109e-05,\n",
              "        -2.19643321e-05,  1.23403341e-05,  6.86567406e-05, -3.58960343e-05,\n",
              "        -5.32139291e-05,  1.22544828e-06, -2.39353128e-05, -4.87665677e-05,\n",
              "         2.50566626e-05, -1.28227089e-05, -5.96289082e-05,  9.91133701e-05,\n",
              "         8.11933104e-05,  4.19008497e-05, -1.05497768e-04,  6.28163491e-05,\n",
              "         2.60320712e-05,  1.39254858e-04,  2.75765630e-05, -8.20603052e-07,\n",
              "         7.42136923e-05, -2.24684650e-05,  8.80210189e-05,  7.56755844e-05,\n",
              "         9.87696483e-05, -5.22054470e-05,  6.99480093e-05,  3.86116606e-05,\n",
              "        -2.76294170e-05, -3.52455684e-05,  5.22915756e-05, -9.58071843e-05,\n",
              "        -1.20278828e-05, -1.20647794e-05, -1.93991050e-05,  8.03878624e-05,\n",
              "        -8.71801620e-05,  6.72200502e-05,  5.92592589e-05, -5.09489003e-05,\n",
              "        -3.79448745e-05,  9.08647205e-06, -5.50745538e-05, -1.39923076e-05,\n",
              "         1.61587995e-05, -2.40573658e-05, -9.41611873e-05, -2.72547232e-06,\n",
              "         1.21795052e-04,  6.08310569e-05, -2.39961161e-05, -5.10032986e-05,\n",
              "        -9.34963080e-05, -7.49244279e-05,  6.37247798e-05,  2.15941696e-05,\n",
              "         1.05261188e-04,  6.30837867e-05, -4.82889297e-05,  8.09173324e-05,\n",
              "         2.73392975e-04, -4.26139899e-05,  8.79310342e-05, -2.20988484e-05,\n",
              "         7.64715153e-05,  4.20361054e-05,  4.01671307e-05, -7.18366749e-05,\n",
              "        -2.82587490e-05,  6.25395171e-05, -9.99157329e-06, -7.12804879e-05,\n",
              "         1.55180390e-04, -6.83607645e-05,  1.29008185e-04, -6.43972247e-07,\n",
              "         7.78890407e-05, -1.45981037e-05, -1.03436014e-05, -1.42226075e-05,\n",
              "        -3.96177744e-05, -5.55195631e-05,  6.02306318e-05, -7.58502541e-05,\n",
              "        -7.39904035e-05, -5.53140961e-05, -3.33933214e-05, -3.81391156e-05,\n",
              "         9.72130250e-05,  8.02286091e-05, -6.36532968e-06, -2.17349954e-05,\n",
              "        -8.45896739e-05, -3.16669478e-05,  4.26450423e-05,  2.26362001e-06,\n",
              "        -4.63210103e-05, -5.65121536e-05, -7.14901042e-05, -5.83653418e-05,\n",
              "        -8.00845509e-05, -8.34951795e-05, -1.04387056e-04, -6.84356699e-05,\n",
              "         1.19160972e-04, -2.00856834e-06,  7.95061422e-06, -4.54284334e-06,\n",
              "         1.16374699e-04,  1.61006125e-04, -2.29075052e-05, -9.25799472e-05,\n",
              "        -5.30786807e-05,  8.45991276e-05, -6.48045831e-05, -1.43274586e-05,\n",
              "         8.64978006e-05,  6.77202426e-05,  1.96064025e-04,  3.22979940e-05,\n",
              "        -7.46275820e-05, -3.90816280e-05, -4.36089758e-05, -1.03591183e-04,\n",
              "        -5.88754920e-05, -1.75842616e-05,  1.12066953e-04, -6.33375971e-05,\n",
              "        -2.14688008e-05, -9.98962961e-05,  1.29140695e-04, -8.08227906e-06,\n",
              "        -7.06215971e-05,  1.71512005e-04,  1.26737998e-05,  1.47018524e-04,\n",
              "         1.13642758e-04, -6.32382514e-05, -9.20429491e-05, -3.90691931e-06,\n",
              "        -6.50284826e-05,  2.64070590e-05, -7.28903413e-06, -1.98859700e-05,\n",
              "         1.27912150e-04, -5.56505010e-05,  4.52768943e-05, -5.93109887e-05,\n",
              "        -4.33415596e-05, -3.09959811e-05, -7.71439961e-05,  3.10290735e-05,\n",
              "        -1.13377093e-05, -1.18191147e-04,  1.01197740e-05,  8.30560248e-05,\n",
              "        -2.70846181e-06, -5.44216425e-05, -1.11912201e-04,  2.76037445e-05,\n",
              "         3.77111880e-05, -1.06232184e-04,  3.36611137e-05, -1.08278893e-04,\n",
              "        -2.50262040e-05,  6.68035489e-05, -1.55235350e-06, -4.00449982e-05,\n",
              "        -6.06950480e-05, -1.64526742e-05,  3.99392743e-05, -8.44985948e-05,\n",
              "         4.66490905e-06,  1.32109282e-04,  5.89622850e-05,  2.19259044e-05,\n",
              "        -4.41559059e-05,  6.78906201e-06,  2.25236328e-05, -2.73790466e-05,\n",
              "        -2.32741835e-05,  9.04372868e-06,  2.00516979e-04, -1.79637136e-05,\n",
              "        -8.12675804e-05,  3.09391147e-04,  3.79818083e-06, -7.27911332e-05,\n",
              "        -8.91588042e-05,  7.14419216e-05,  1.12573250e-04, -1.20016785e-05,\n",
              "        -9.93265893e-05,  9.15224682e-05, -8.14871937e-05,  6.78134608e-05,\n",
              "         4.88867270e-05, -1.24655241e-05,  1.10513078e-04, -3.10540824e-05,\n",
              "        -4.38097467e-05, -3.79040032e-05,  7.95285221e-07,  2.00910728e-05,\n",
              "        -9.03513311e-05, -4.72588425e-05, -5.30935795e-05, -3.73873435e-05,\n",
              "         2.43594949e-05, -2.93365799e-06,  1.33592147e-06, -5.20412989e-05,\n",
              "        -4.28922131e-06, -9.70373293e-05,  9.02009041e-05, -6.55200413e-06,\n",
              "        -8.91591670e-05,  9.22703943e-05, -3.73514310e-05, -2.94267795e-05,\n",
              "         7.02165801e-06,  3.08875084e-05,  2.68980624e-05, -8.25027060e-05,\n",
              "        -1.79661917e-06,  1.44317829e-05, -3.50401404e-05, -4.41105376e-05,\n",
              "        -3.97582795e-06, -8.39653376e-05,  2.93191696e-05,  1.77506168e-05,\n",
              "        -5.77550359e-06, -2.77331823e-05, -4.61474768e-05, -2.48791922e-05,\n",
              "         7.19128100e-05, -1.01957015e-04, -4.88193588e-05,  7.15258045e-05,\n",
              "        -1.16432975e-04, -8.59336140e-05, -9.13970598e-05,  6.45477966e-05,\n",
              "         2.28600723e-05, -3.76649921e-05,  1.50708672e-06,  1.93378626e-04,\n",
              "         9.87864382e-06, -5.10255532e-05,  5.70156458e-06, -2.18676375e-07,\n",
              "         3.18494762e-05,  1.72712826e-04, -9.29340103e-05, -5.01616241e-05,\n",
              "        -6.07595010e-05, -7.02203471e-05, -7.51345287e-05,  1.54639676e-05,\n",
              "         1.74377503e-04, -5.60308238e-05, -3.34187671e-05, -1.15526320e-05,\n",
              "         6.53248594e-06, -3.48130751e-05, -1.00580016e-05,  2.78311432e-05,\n",
              "         2.95017986e-05, -4.07256608e-05, -6.62991839e-05, -7.53618083e-05,\n",
              "        -4.25088754e-05,  6.42856927e-06, -5.23045323e-05,  1.07682621e-04,\n",
              "         6.96004972e-05,  1.50949336e-04, -1.27925033e-05, -1.00253868e-04,\n",
              "        -3.84716992e-05,  6.55302711e-05, -9.03807602e-05,  1.94528183e-05,\n",
              "        -4.07723298e-05, -2.37483036e-05,  2.94234177e-05, -2.01123337e-05,\n",
              "         2.09058329e-05, -4.13787435e-05,  7.38822862e-05, -1.19026190e-04,\n",
              "         1.32450593e-04,  7.69880578e-05, -7.18185009e-05, -1.00057745e-04,\n",
              "        -2.58806354e-05,  8.46254263e-05, -9.98554017e-05, -2.36004890e-05,\n",
              "         4.80609858e-05,  1.36455100e-04,  1.70927815e-05, -6.87489307e-05,\n",
              "         8.50807988e-05, -2.50989949e-06, -6.04169165e-05, -1.92453448e-05,\n",
              "        -3.88208852e-05, -6.56406334e-05, -3.19970308e-05, -3.09876533e-05,\n",
              "         1.09081700e-05,  7.82668273e-06, -2.37122017e-05,  3.15064491e-05,\n",
              "        -6.11065316e-05,  1.78741489e-05, -3.30157680e-05, -1.07701721e-05,\n",
              "        -7.62684900e-05,  9.69832995e-05, -1.11128455e-04,  1.24500731e-05,\n",
              "        -6.27395810e-05, -5.48850425e-05,  1.37620295e-04, -1.14427100e-04,\n",
              "         1.27780068e-04,  2.85239709e-05,  1.40963523e-04, -6.78554083e-05,\n",
              "         9.43147636e-05,  1.07094274e-05,  1.04645237e-05,  1.83624581e-04,\n",
              "        -6.35869725e-05, -1.06781545e-04, -6.46313317e-05,  2.18821881e-05,\n",
              "         1.10098438e-05,  1.78529997e-04, -1.24046517e-05,  3.23287087e-05,\n",
              "        -3.94673641e-05,  5.47585223e-06,  1.47924708e-05,  2.79078998e-05,\n",
              "        -6.05187703e-05, -3.61141739e-05, -5.92107696e-05,  1.80537327e-05,\n",
              "        -4.31788782e-05,  1.48236715e-04,  7.07529032e-05, -8.82293702e-05,\n",
              "        -9.69476270e-05, -7.82341470e-05, -1.22591181e-04,  4.91341852e-05,\n",
              "         2.85101710e-05, -9.73282140e-05, -5.51175504e-05, -1.15307399e-04]),\n",
              " 0.002)"
            ]
          },
          "metadata": {},
          "execution_count": 221
        }
      ]
    },
    {
      "cell_type": "code",
      "source": [
        "ELCE2(np.array(df[['HINCP','BLACK']])[condition_test],  np.array(df['OWNER'][condition_test]) ,probs_mmce, kernel_function=\"rbf\", prob_kernel_width=0.1, iterations=500, use_diffusion_distance=False, verbose=True,random_state=None, n_jobs=1,gamma=25)"
      ],
      "metadata": {
        "colab": {
          "base_uri": "https://localhost:8080/"
        },
        "id": "PsEX4ww4SsoF",
        "outputId": "1d8843bd-d162-4bb8-87a4-4797835fc30b"
      },
      "execution_count": null,
      "outputs": [
        {
          "output_type": "execute_result",
          "data": {
            "text/plain": [
              "(0.00035714380237850243,\n",
              " array([-8.64831799e-05,  6.72051597e-05,  6.27154072e-05,  4.98526277e-05,\n",
              "        -9.12297694e-05, -4.21730388e-05, -6.14744175e-05, -1.38181243e-05,\n",
              "         3.58822608e-05, -6.39826409e-05,  1.03213394e-05,  1.78069168e-04,\n",
              "        -1.14643083e-04,  1.28662311e-04,  1.29070893e-04,  2.80995949e-05,\n",
              "         4.31145209e-05,  2.40494501e-05, -3.87683291e-05, -3.15568230e-05,\n",
              "         3.36032248e-05, -1.35585658e-05, -7.09756380e-05, -7.65100257e-05,\n",
              "        -1.76781731e-05,  1.58035157e-05, -1.20008812e-04,  1.87274954e-04,\n",
              "         9.10486312e-05, -1.07498188e-04,  1.70720055e-05, -5.48364218e-05,\n",
              "         2.32238661e-05,  5.53801842e-05,  6.00607416e-06,  2.31987580e-05,\n",
              "        -2.58571351e-05, -3.87293868e-05, -2.65373785e-05, -5.87774507e-05,\n",
              "        -5.13783872e-05,  1.20566501e-04,  4.80432914e-05,  1.81293703e-04,\n",
              "         9.75400864e-05,  6.05992084e-05, -4.75127415e-06,  2.09605044e-05,\n",
              "        -1.95002479e-05,  1.60262883e-04,  1.26026789e-04, -1.35472133e-05,\n",
              "        -6.28476107e-05,  1.42147290e-04, -2.54917494e-05, -9.45953626e-05,\n",
              "         1.80596513e-04,  8.60800030e-05, -1.08990518e-04, -5.49132116e-05,\n",
              "        -4.85187393e-05, -6.87930841e-05,  5.46456667e-05,  1.93870659e-05,\n",
              "        -1.36026722e-05, -1.09575043e-05, -1.00246861e-04,  9.96592294e-05,\n",
              "        -6.72854202e-05,  5.13837958e-05,  5.28150119e-05,  9.05516608e-05,\n",
              "         3.49926870e-05, -2.55230439e-05,  3.35335550e-04, -1.39591668e-06,\n",
              "         1.07640842e-04, -1.86280669e-05, -6.53113999e-05,  1.22636448e-04,\n",
              "        -1.87828984e-05, -1.04295526e-05, -1.06570549e-05,  3.92496757e-05,\n",
              "         4.58782289e-05,  4.18307932e-05, -6.72788529e-05,  2.06834146e-06,\n",
              "         1.11832343e-05,  5.24419347e-05, -3.24496457e-05,  4.55969662e-05,\n",
              "         7.10446265e-05, -8.55198566e-05,  2.69458323e-05, -5.27030066e-05,\n",
              "         2.51867177e-05,  5.61904101e-05, -5.19237878e-06, -1.07214714e-05,\n",
              "         1.24742893e-04, -2.63776285e-05,  5.09406917e-05, -1.53193994e-06,\n",
              "         1.43169179e-04, -1.27841112e-04,  4.28502118e-06,  3.38214808e-04,\n",
              "         1.01772594e-04, -3.52362793e-05, -2.04339719e-05,  1.73641613e-04,\n",
              "         2.03998706e-05, -9.60123073e-05, -7.75521732e-05,  8.83356644e-05,\n",
              "         1.75167288e-04,  2.71876141e-05, -9.33104301e-05, -5.14564186e-05,\n",
              "         3.44375466e-05, -5.15246956e-05,  4.53128788e-05,  7.42566066e-05,\n",
              "         1.94457375e-04,  2.61309817e-05, -5.38961455e-05, -3.23189490e-05,\n",
              "        -3.99093388e-05, -2.77691518e-05, -6.90050288e-05, -4.67303117e-05,\n",
              "        -4.17122361e-05,  3.78718396e-05,  1.36388721e-05, -2.10410485e-05,\n",
              "        -1.05427188e-04, -5.92956908e-05, -1.05615885e-05, -2.74988607e-05,\n",
              "        -6.20174804e-05,  3.87810712e-07,  2.50804686e-05, -3.29301883e-05,\n",
              "         3.97046010e-05, -7.57008753e-05,  5.79959151e-05, -3.35656883e-05,\n",
              "        -4.25111481e-05,  2.56423399e-06, -9.93639343e-06, -7.43439842e-06,\n",
              "         4.55857578e-05, -6.86482157e-05,  6.20421518e-05,  6.70757903e-05,\n",
              "         6.49025701e-05, -1.65996758e-05, -1.06666738e-04, -8.87858482e-06,\n",
              "        -4.76748964e-05, -4.24685886e-05, -1.40653583e-05, -5.83910468e-06,\n",
              "         2.50338644e-05, -4.09636639e-05,  2.21469902e-05,  5.41030731e-05,\n",
              "         2.42826635e-05,  3.25846002e-05, -6.87288879e-05, -1.44784800e-04,\n",
              "        -1.52537020e-05,  5.72983086e-05,  4.46214382e-05, -3.24944101e-05,\n",
              "         1.03582769e-05, -8.84462330e-05,  1.80064621e-05, -5.43093865e-05,\n",
              "        -1.72109869e-05, -1.02416736e-04, -8.01477655e-05, -8.80520053e-05,\n",
              "        -8.58481833e-05,  2.30366828e-06, -1.03290471e-04, -2.07405972e-07,\n",
              "         1.06819937e-04, -4.10865701e-05,  1.00860791e-04, -3.44720912e-05,\n",
              "        -4.78241744e-05, -8.86903671e-05,  1.50492295e-05, -1.14052652e-05,\n",
              "        -6.90816807e-05, -4.54963757e-05,  7.34789697e-05,  2.03414151e-05,\n",
              "         4.22004486e-05,  2.15265130e-04,  3.28198887e-04, -2.84094463e-05,\n",
              "        -4.73822735e-05, -6.45862898e-05,  9.80659526e-06, -5.08767589e-06,\n",
              "         2.70381458e-05,  5.83203027e-05,  8.79037603e-05, -3.14343152e-05,\n",
              "         3.70718557e-05, -7.50530570e-06,  1.21796903e-04, -2.77262848e-06,\n",
              "         1.14184216e-05, -3.34044675e-05, -9.93266898e-05,  2.53068538e-05,\n",
              "         8.14645350e-06, -1.05543552e-04, -3.37059469e-05, -7.84259110e-05,\n",
              "        -1.37571346e-05,  1.49655805e-05,  3.40285982e-05, -4.34651201e-05,\n",
              "        -1.34069279e-05, -6.75237122e-05,  8.76901558e-06, -2.21760215e-05,\n",
              "        -7.90404626e-05, -1.26172762e-05, -8.97533351e-05,  4.53375809e-05,\n",
              "         2.51315893e-05,  1.18908380e-04, -2.59097301e-05,  1.31718939e-05,\n",
              "        -4.17986075e-05, -7.41330844e-05, -3.52662084e-05,  5.68526926e-05,\n",
              "         1.77408337e-05,  1.24502965e-04,  4.02837592e-05,  1.59292292e-05,\n",
              "        -3.77548803e-05, -4.67403254e-05,  3.13894986e-05, -6.48016310e-05,\n",
              "         3.82046656e-06, -2.40254377e-05,  6.21793469e-05,  5.11849615e-05,\n",
              "         1.05558481e-04, -3.09827255e-05,  3.84025312e-05,  1.44733742e-05,\n",
              "        -7.71201716e-05,  4.12717086e-06, -5.44361666e-05,  1.47287075e-04,\n",
              "        -1.41768880e-05, -9.02693756e-05, -7.74293626e-05,  2.71850502e-05,\n",
              "         2.21105917e-05, -1.31785828e-04, -3.26662816e-05, -3.48191672e-06,\n",
              "         1.65995308e-05,  5.57831068e-05,  4.01356030e-05, -1.87214021e-05,\n",
              "        -1.29303690e-05,  1.32128366e-04, -1.03729925e-04, -7.88690784e-05,\n",
              "         7.64129507e-05,  5.37529043e-05, -9.09150324e-05,  5.32920425e-05,\n",
              "        -6.16783432e-05, -4.18249558e-05, -5.46841432e-05,  6.42490450e-05,\n",
              "         4.93860393e-05, -2.43141706e-05,  3.04337336e-05,  9.52963230e-05,\n",
              "        -3.61297355e-05, -4.28801141e-05,  7.28535958e-06,  1.46665081e-05,\n",
              "        -4.26793487e-05,  6.47764879e-05,  9.57921324e-06, -6.27367067e-05,\n",
              "        -5.68546235e-05, -7.20674890e-07, -9.77263441e-05,  1.09346231e-05,\n",
              "        -1.36810517e-05,  1.91350187e-05, -4.17853436e-05, -7.35304319e-06,\n",
              "         1.10265843e-04, -5.35772608e-05,  5.14855818e-05,  2.26560261e-05,\n",
              "         1.41493466e-04,  2.75747193e-05, -5.06452218e-06,  2.46476256e-05,\n",
              "        -5.70530719e-05, -1.34755038e-04, -6.23900192e-05, -3.36005077e-05,\n",
              "        -1.76408558e-05,  9.41548545e-05,  2.77450435e-05,  8.88367056e-05,\n",
              "         5.86816967e-05,  6.72795646e-05, -6.91499848e-05,  1.36960328e-05,\n",
              "        -9.95664944e-05, -3.56108980e-05,  3.32415168e-07, -6.86031525e-05,\n",
              "        -4.92948706e-05,  3.29401887e-05, -5.17622416e-05, -7.84551987e-05,\n",
              "         2.49088212e-05, -2.94815841e-07, -1.45294924e-05, -5.33940253e-05,\n",
              "        -4.87959563e-06,  6.99514823e-05, -4.12366910e-05,  1.28521728e-05,\n",
              "         9.13690022e-06, -5.43499986e-05, -8.78675668e-05,  1.50646372e-05,\n",
              "        -2.01521060e-05,  1.66674580e-06,  2.55052667e-05,  1.05558359e-04,\n",
              "        -3.30718959e-05, -1.12719087e-04, -4.37318891e-05, -5.84181512e-05,\n",
              "        -2.03437116e-05, -1.53896911e-05, -1.31867661e-05,  6.06537488e-05,\n",
              "         5.01941755e-05,  7.83892349e-05,  6.98759578e-06, -5.52686338e-05,\n",
              "        -4.65103045e-05, -1.95534797e-06, -8.21740194e-05,  1.43219038e-04,\n",
              "        -4.11499137e-05, -8.40386437e-05, -1.10813314e-04, -8.25418005e-05,\n",
              "        -3.65354471e-05, -7.20544686e-05,  8.33927970e-05,  1.40948358e-04,\n",
              "        -2.98617588e-06, -1.05118381e-04, -7.56107271e-05,  1.01649024e-04,\n",
              "         2.70693831e-05, -2.15755197e-06, -5.38192854e-06, -8.86385066e-05,\n",
              "         5.61930612e-05,  1.46390405e-05, -9.24794280e-05, -4.39236523e-05,\n",
              "        -2.20332026e-05,  3.07100339e-05, -7.13751913e-05, -6.73744657e-05,\n",
              "         5.13959877e-05,  6.33117191e-05, -2.03650386e-05,  5.59083521e-05,\n",
              "         5.89902235e-05,  9.73396410e-05, -1.86234153e-05, -5.11705543e-06,\n",
              "        -1.84100041e-05,  7.26917199e-05, -1.15481115e-04, -9.42881760e-05,\n",
              "         2.38847762e-05,  7.63470816e-05, -1.06492578e-04,  6.12760105e-05,\n",
              "        -2.75685420e-05,  3.86386696e-05,  3.23814702e-06, -8.99448110e-05,\n",
              "         5.24505977e-05, -1.11002685e-05,  9.07511799e-05, -2.56070376e-05,\n",
              "        -3.15593683e-05, -2.72310180e-05, -1.05872592e-04,  7.01952209e-05,\n",
              "         9.89515623e-05, -3.72652396e-05,  5.62852843e-05,  8.93167175e-05,\n",
              "        -4.33890996e-05, -8.17712798e-05,  8.03338275e-06, -5.05825391e-05,\n",
              "        -5.63507058e-05, -1.85406325e-05, -8.09008877e-05,  2.28794184e-05,\n",
              "         8.53094293e-08,  3.01929955e-06, -1.20287470e-05,  1.99360303e-05,\n",
              "        -9.46018095e-05,  2.62802306e-05, -2.01547478e-05, -1.12712314e-04,\n",
              "        -6.22814569e-05, -1.06438779e-04,  1.05824323e-04,  7.87515657e-05,\n",
              "         2.61289745e-05, -4.23539393e-05, -1.47536045e-05, -1.33553423e-05,\n",
              "        -2.72135026e-05,  8.73922379e-05,  6.43158105e-06, -7.67784810e-05,\n",
              "        -5.01610779e-05, -2.45940974e-05,  8.80289187e-05,  4.01256607e-05,\n",
              "        -6.24831313e-05, -6.71444965e-06, -2.60074040e-05, -5.77486448e-05,\n",
              "        -9.19570619e-05,  1.91512246e-04,  1.65010864e-06, -1.17748224e-05,\n",
              "        -3.82085653e-06,  4.83473990e-05,  3.23996391e-05,  5.40471876e-05,\n",
              "        -5.89917727e-05, -4.06792459e-05,  1.65361765e-05, -5.00960284e-05,\n",
              "        -6.25317965e-05, -7.54951480e-05, -7.19592338e-05, -6.00636238e-06,\n",
              "        -2.93232976e-05, -5.10977556e-05,  8.15617443e-05, -4.99624452e-05,\n",
              "        -8.13033115e-05, -4.56602641e-05,  7.89664068e-06,  9.93558909e-06,\n",
              "         3.03633242e-05,  4.60240173e-05, -3.41366683e-06,  6.56949395e-05,\n",
              "         1.85087963e-05,  8.59134772e-05,  1.34416480e-05,  5.64473248e-05,\n",
              "        -9.94429502e-05, -2.39397801e-05, -3.85418733e-05,  1.60421689e-05,\n",
              "        -7.92363556e-05, -2.27077189e-05, -4.35907410e-05, -3.97767137e-05]),\n",
              " 0.002)"
            ]
          },
          "metadata": {},
          "execution_count": 222
        }
      ]
    },
    {
      "cell_type": "code",
      "source": [
        "ELCE2(np.array(df[['HINCP','BLACK']])[condition_test],  np.array(df['OWNER'][condition_test]) ,probs_ce, kernel_function=\"rbf\", prob_kernel_width=0.1, iterations=500, use_diffusion_distance=False, verbose=True,random_state=None, n_jobs=1,gamma=25)"
      ],
      "metadata": {
        "colab": {
          "base_uri": "https://localhost:8080/"
        },
        "id": "S2WjFrayzWhd",
        "outputId": "7809234d-b78a-4f40-9220-c6a08e2db27a"
      },
      "execution_count": null,
      "outputs": [
        {
          "output_type": "execute_result",
          "data": {
            "text/plain": [
              "(0.0009982300381829578,\n",
              " array([ 5.90283282e-05,  1.51943206e-04, -1.54327721e-05, -1.17205218e-04,\n",
              "         1.60568598e-04, -9.28372476e-05, -1.24096116e-04,  7.33559844e-05,\n",
              "        -3.14390582e-05,  4.19842337e-05, -1.58475318e-04,  1.87510763e-05,\n",
              "         2.00356477e-04, -6.26603209e-05,  7.97990787e-06,  1.39588702e-04,\n",
              "        -8.86735322e-05, -1.55199516e-04, -2.93026356e-05, -1.88997410e-05,\n",
              "         6.64713580e-05,  6.03180308e-05,  1.48143232e-05,  1.43114338e-04,\n",
              "        -1.08098831e-05,  1.65566610e-04, -7.03555407e-05,  1.02723192e-05,\n",
              "        -1.11632608e-04, -8.75754205e-06, -1.04220401e-04,  1.32894351e-04,\n",
              "         4.75205282e-06, -6.10954339e-05, -2.09611835e-05, -1.26941789e-04,\n",
              "        -2.65683051e-05, -1.41578098e-04,  7.74175099e-06,  8.84088740e-06,\n",
              "        -1.89711338e-05,  3.66126325e-04, -5.21305854e-06,  8.14014249e-06,\n",
              "        -1.18367104e-04,  1.18517669e-04, -7.97466964e-05, -2.39334300e-05,\n",
              "        -4.28069918e-05, -1.14792783e-04,  3.86364963e-05, -1.25828237e-04,\n",
              "         8.60087648e-05, -9.39429127e-05,  7.62727000e-05, -1.87020009e-04,\n",
              "        -3.10086742e-06, -3.69527266e-05, -2.46988505e-05, -1.08131284e-05,\n",
              "        -1.21422661e-04, -1.05659416e-04, -3.09433717e-05,  1.10482057e-04,\n",
              "         9.07720567e-06,  5.36250386e-05,  1.32615255e-04,  1.99193417e-04,\n",
              "         2.28185838e-05,  4.02448761e-05,  1.34866689e-04, -1.34915788e-04,\n",
              "        -7.71153168e-05,  1.24769809e-04,  1.00444360e-04, -9.02602470e-05,\n",
              "        -8.19491636e-05, -5.95201639e-05, -5.67591019e-05, -1.59029139e-05,\n",
              "         5.63295345e-05, -9.44357166e-05,  5.42376165e-06,  1.24043144e-05,\n",
              "        -3.99116349e-05, -9.38633489e-06, -1.71966682e-04,  7.74025158e-05,\n",
              "         7.24202022e-05, -5.82418005e-05,  6.88760197e-05, -6.63622484e-05,\n",
              "         3.04126635e-04, -2.23126304e-04,  7.23006115e-05,  6.11956289e-06,\n",
              "        -5.47179854e-05,  3.20872886e-05,  2.68370191e-04, -4.23604222e-05,\n",
              "        -1.24133950e-04, -6.34994767e-06, -4.27873794e-05, -4.00302231e-05,\n",
              "        -5.75006908e-05,  3.43513258e-05,  9.44508706e-05,  1.38869686e-05,\n",
              "         2.99552384e-05,  2.02623545e-05, -3.80691300e-05, -1.13566142e-05,\n",
              "        -5.39508122e-06,  1.04856126e-04,  2.58980794e-05,  1.22822484e-04,\n",
              "         8.87225570e-05, -4.87896587e-05,  6.95720755e-05,  7.34461825e-06,\n",
              "        -3.66148106e-06,  3.60829316e-05, -2.02342496e-05,  6.16029141e-05,\n",
              "        -1.13781751e-04,  2.00979215e-04,  1.22811944e-04,  1.68847428e-04,\n",
              "        -8.94380360e-05,  1.95973152e-04, -1.80717908e-04, -6.09022584e-05,\n",
              "        -5.84293047e-05,  1.10784378e-05,  3.63328722e-05, -6.36788712e-05,\n",
              "         1.25035969e-04,  1.28389793e-05,  6.51834256e-05, -1.18782099e-05,\n",
              "         1.24145456e-04, -1.04510333e-04,  5.57604693e-05,  8.56526638e-05,\n",
              "         8.14607851e-05, -7.17575156e-05,  1.72253926e-04,  8.30243788e-06,\n",
              "         1.33052474e-04, -9.35809921e-05,  7.73770717e-05,  1.53432966e-04,\n",
              "        -7.33732349e-05,  1.37414856e-04,  3.22586647e-05,  1.47358794e-04,\n",
              "        -1.09241951e-04, -1.11385230e-04, -4.15352496e-05,  6.80246246e-06,\n",
              "         3.66703261e-06, -3.37663639e-05, -5.62801364e-05, -1.22258788e-05,\n",
              "        -2.95054395e-05, -3.05615819e-05, -5.77133801e-06, -3.94466761e-05,\n",
              "         2.68915562e-04,  6.63108801e-05, -7.57348889e-05, -5.06558437e-05,\n",
              "         1.99027697e-04,  5.83079113e-05,  3.78900002e-05, -4.10220352e-05,\n",
              "         6.10652703e-05,  2.98375135e-04, -1.53096551e-05,  8.07182020e-05,\n",
              "        -2.06118308e-04, -5.90515440e-05, -1.38833446e-04, -2.47646109e-05,\n",
              "         1.17980720e-04, -5.56339160e-05, -1.22917577e-04,  5.90079263e-05,\n",
              "         7.17789634e-05, -1.46288576e-05,  3.91064261e-05, -3.61059857e-05,\n",
              "        -8.23864719e-05,  1.17782216e-04,  8.80428160e-05,  2.91790486e-04,\n",
              "         5.78807628e-05, -1.50613729e-04, -3.51087684e-05,  1.15185767e-04,\n",
              "         1.06727298e-04,  4.92790152e-05, -6.16057137e-05, -5.88810194e-06,\n",
              "        -1.17522133e-04,  3.45843047e-04, -3.58283477e-05,  7.47873206e-05,\n",
              "        -8.64067031e-05, -3.55654032e-05, -5.81856544e-05, -9.56282091e-05,\n",
              "        -1.43051333e-04,  7.47334732e-05,  1.90106716e-05, -2.21613193e-05,\n",
              "         3.02079570e-04,  3.80585932e-05,  1.97317728e-05, -1.55129755e-04,\n",
              "        -5.47456837e-05, -1.04431708e-04, -8.24890549e-05,  1.59427431e-04,\n",
              "         3.49756753e-05,  8.53181944e-05, -5.10353919e-05,  2.87888510e-04,\n",
              "        -9.76931329e-05, -2.12694764e-05, -1.14112187e-04,  9.27768143e-05,\n",
              "        -2.72542814e-05,  9.67292196e-05,  2.06339714e-04, -1.03017177e-04,\n",
              "         3.10286664e-05,  7.17132281e-05, -1.61777082e-04, -5.11235793e-05,\n",
              "        -2.25190220e-05,  8.60715142e-05, -1.13140371e-05, -1.16724388e-04,\n",
              "        -1.21220204e-04, -6.31751728e-05, -6.48125544e-05, -3.51044638e-05,\n",
              "        -1.26876793e-04,  7.58814181e-05, -8.15690662e-05,  2.44162318e-04,\n",
              "        -1.19663681e-04,  7.62674319e-05, -9.26405410e-05, -5.07902830e-06,\n",
              "        -8.25457683e-05, -3.83545512e-05,  1.34075501e-04,  2.67251523e-05,\n",
              "         8.13401850e-05,  3.95462364e-05, -1.69830721e-04, -1.89408364e-05,\n",
              "        -5.36565887e-05, -4.51093572e-05,  1.61737240e-04, -6.05129651e-06,\n",
              "        -1.32205229e-04,  4.96947827e-05,  4.45975320e-06, -2.35236969e-05,\n",
              "         8.36716162e-05,  8.52797025e-05, -1.45956161e-04, -1.08086857e-04,\n",
              "         1.22721763e-04,  1.25218617e-04, -4.94882428e-05,  1.76020437e-04,\n",
              "        -1.54913438e-04, -1.16375195e-05,  1.51043051e-04, -4.25406081e-05,\n",
              "        -8.73911526e-05, -4.52327743e-05,  2.65516451e-04, -2.30339514e-05,\n",
              "         1.23796011e-04, -7.31651711e-05, -3.76343666e-05, -9.04045134e-05,\n",
              "         2.54916729e-04, -7.96681526e-05,  1.50558990e-04, -1.21869062e-04,\n",
              "        -5.20727801e-05,  4.20783658e-06,  1.74705397e-04,  1.35105879e-04,\n",
              "         4.62815841e-05,  3.49371969e-05,  5.25619668e-05, -1.62288675e-05,\n",
              "        -1.73670825e-06,  6.32842870e-06, -9.10076688e-05, -8.27962771e-05,\n",
              "         3.96448646e-05,  1.91020436e-05,  6.17225534e-05, -9.98826648e-05,\n",
              "         7.47031422e-05,  3.90409935e-05,  1.00098980e-04, -9.83911859e-05,\n",
              "         1.93185504e-05, -1.96958515e-05,  1.80405344e-04, -1.12838747e-05,\n",
              "         1.90549784e-04, -3.41517724e-05, -1.20270954e-04, -8.16958661e-05,\n",
              "        -6.18509868e-05, -7.91192470e-05,  8.71667804e-05, -4.09082084e-05,\n",
              "        -6.71548052e-05,  5.42922197e-05, -1.70928650e-04,  1.13960815e-04,\n",
              "        -6.95163545e-05, -9.75380254e-05, -2.13270205e-05,  4.10694387e-05,\n",
              "         8.52083074e-05, -6.80414145e-05,  6.85101642e-05, -1.10950042e-04,\n",
              "        -5.63594588e-05, -1.32863853e-04,  1.43023802e-05, -9.08595605e-05,\n",
              "        -4.50640975e-05,  1.43286219e-05, -5.43070235e-05,  1.62251716e-04,\n",
              "        -1.42236051e-04, -1.06765937e-04, -5.75972004e-05, -8.29269539e-06,\n",
              "         8.65922412e-05,  4.34277067e-05, -2.93679022e-05, -6.44830997e-05,\n",
              "        -6.67134302e-05, -7.72749307e-05, -6.01990216e-05, -1.59381139e-05,\n",
              "        -1.02383814e-04, -1.98508615e-05, -6.94081842e-05, -2.24975230e-05,\n",
              "        -9.62306525e-06, -2.90160466e-05,  7.78693572e-05, -3.62936215e-05,\n",
              "        -6.99632371e-05, -7.06112364e-05, -7.00597395e-06, -1.46163888e-04,\n",
              "         6.60627112e-05, -3.86350880e-05, -6.98260088e-05,  1.66488073e-04,\n",
              "        -5.71536101e-05, -9.43038711e-05,  2.25940178e-04,  7.39191481e-05,\n",
              "        -1.30507857e-04,  2.12811680e-05, -1.34367931e-05, -3.52794241e-05,\n",
              "        -1.04940994e-04, -7.37809853e-06, -7.03938178e-05, -9.54761665e-05,\n",
              "        -1.26683631e-04,  1.80772510e-04, -5.31572718e-05,  6.78760256e-05,\n",
              "         1.17577097e-05, -4.62641025e-05,  4.67741304e-06, -9.66832790e-05,\n",
              "        -1.01231834e-04,  6.60529892e-05, -8.74422284e-05, -8.45926884e-05,\n",
              "        -1.06954843e-04, -1.54609251e-04, -2.13506766e-04,  5.90620266e-05,\n",
              "        -8.93594244e-05, -1.05315000e-04,  3.20792968e-05, -1.16173177e-04,\n",
              "         9.67807552e-06, -1.17813304e-04,  1.13031220e-05, -1.02320499e-04,\n",
              "         1.05904546e-04, -5.69639219e-05,  1.59021781e-04,  1.14489440e-04,\n",
              "        -9.96176424e-05,  1.35094666e-04,  4.31327657e-05,  2.14550825e-05,\n",
              "         1.13862027e-04, -4.39626233e-05, -5.53338404e-05, -4.77488688e-05,\n",
              "        -6.48425000e-05,  1.48348565e-05,  8.88217779e-05, -1.81637940e-05,\n",
              "         3.83468696e-05,  4.79874006e-06,  2.21230253e-04,  3.38283069e-05,\n",
              "         8.53679921e-05, -1.13627383e-04,  3.91167970e-04,  1.26835381e-04,\n",
              "        -2.73458113e-05,  3.27770323e-05,  5.14301794e-05, -1.18689457e-04,\n",
              "         2.96517782e-05, -6.50042351e-06, -1.71944079e-04, -3.80494437e-05,\n",
              "        -6.03828138e-06,  6.12796730e-05, -7.25442637e-05, -1.24404739e-04,\n",
              "        -1.59601173e-05,  8.26118857e-05, -5.26449456e-06, -1.51255956e-05,\n",
              "        -1.28658061e-04,  6.70885014e-06,  1.02610429e-05,  3.42506818e-05,\n",
              "        -1.40914692e-04, -5.15863541e-05, -4.43249959e-05,  8.59085196e-05,\n",
              "        -3.41918264e-05, -8.55886439e-05, -4.92249374e-05, -1.30250504e-04,\n",
              "        -1.90381295e-05,  5.05098596e-06, -2.37610803e-05, -1.63094792e-04,\n",
              "        -5.40476164e-05, -3.02993358e-05,  1.47698831e-04, -5.79737427e-05,\n",
              "         1.43466075e-04, -4.21685008e-05, -4.97554662e-05, -7.10031993e-05,\n",
              "        -1.29556831e-04, -5.32630230e-05, -8.57242956e-05,  4.99349214e-05,\n",
              "         9.85145318e-05, -9.81439583e-06, -7.41776245e-05, -1.64000375e-05,\n",
              "        -7.01441817e-06,  2.62249575e-05,  1.16727968e-04, -1.45025671e-05,\n",
              "         2.09258461e-04, -5.60558100e-05, -2.88909844e-05, -3.00768820e-05,\n",
              "        -2.73870994e-05,  1.35548755e-04, -4.56667583e-05, -1.33540457e-06,\n",
              "        -1.10891037e-04,  4.98048092e-05, -8.41070518e-05, -1.33027958e-04]),\n",
              " 0.002)"
            ]
          },
          "metadata": {},
          "execution_count": 223
        }
      ]
    }
  ]
}