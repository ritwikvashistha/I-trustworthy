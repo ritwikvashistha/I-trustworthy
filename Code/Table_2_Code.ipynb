{
  "nbformat": 4,
  "nbformat_minor": 0,
  "metadata": {
    "colab": {
      "provenance": [],
      "toc_visible": true
    },
    "kernelspec": {
      "name": "python3",
      "display_name": "Python 3"
    },
    "language_info": {
      "name": "python"
    }
  },
  "cells": [
    {
      "cell_type": "code",
      "execution_count": null,
      "metadata": {
        "id": "G_sHSWfH_Jqp"
      },
      "outputs": [],
      "source": [
        "import torch\n",
        "import torch.nn as nn\n",
        "import torch.optim as optim\n",
        "from torch.utils.data import TensorDataset, DataLoader\n",
        "import numpy as np\n",
        "import matplotlib.pyplot as plt\n",
        "\n",
        "# Import the original classes from your losses.py file\n",
        "from src.metrics.losses import ClassificationKernelLoss, ClassificationMixedLoss,ECEKDEMixedLoss, MMCEMixedLoss\n",
        "import pandas as pd\n",
        "from sklearn.model_selection import train_test_split # Import the missing function\n"
      ]
    },
    {
      "cell_type": "code",
      "source": [
        "# Define a simple model\n",
        "class LogisticRegressionNN(nn.Module):\n",
        "    def __init__(self, input_dim):\n",
        "        super().__init__()\n",
        "        self.linear = nn.Linear(input_dim, 2)\n",
        "        self.output_size = 2  # Required for ClassificationKernelLoss\n",
        "\n",
        "    def forward(self, x):\n",
        "        return self.linear(x)\n",
        "\n",
        "# Training function\n",
        "def train_model(model, loss_fn, optimizer, num_epochs=100):\n",
        "    for epoch in range(num_epochs):\n",
        "        for batch in train_loader:\n",
        "            inputs, targets = batch\n",
        "            optimizer.zero_grad()\n",
        "            outputs = model(inputs)\n",
        "            loss = loss_fn(inputs, targets, outputs)\n",
        "            loss.backward()\n",
        "            optimizer.step()\n",
        "\n",
        "        if (epoch + 1) % 10 == 0:\n",
        "            print(f\"Epoch {epoch+1}, Loss: {loss.item():.4f}\")\n"
      ],
      "metadata": {
        "id": "sMC80KsV_SAO"
      },
      "execution_count": null,
      "outputs": []
    },
    {
      "cell_type": "markdown",
      "source": [
        "# Home Ownership"
      ],
      "metadata": {
        "id": "U_XFaBk2_WdG"
      }
    },
    {
      "cell_type": "code",
      "source": [
        "df = pd.read_csv('https://raw.githubusercontent.com/afarahi/Scientific-Machine-Learning/main/AHS_2019_Cleaned.CSV').drop('Unnamed: 0', axis=1)\n",
        "df.head()"
      ],
      "metadata": {
        "colab": {
          "base_uri": "https://localhost:8080/",
          "height": 206
        },
        "id": "VJ-kRnb0_a6a",
        "outputId": "396943d1-2a81-4a57-d22e-6fd1683ce89a"
      },
      "execution_count": null,
      "outputs": [
        {
          "output_type": "execute_result",
          "data": {
            "text/plain": [
              "   BLACK  HHSEX  METRO  HHGRAD  HHMAR  HHCITSHP  HHAGE  NUMPEOPLE     HINCP  \\\n",
              "0    0.0      1    1.0      44      1         1     52          3  5.409933   \n",
              "1    0.0      2    1.0      44      4         1     80          2  5.303196   \n",
              "2    0.0      1    1.0      47      1         1     72          2  4.825426   \n",
              "3    1.0      2    1.0      40      6         1     60          1  4.544068   \n",
              "4    0.0      2    1.0      39      3         1     80          2  4.309630   \n",
              "\n",
              "   DIVISION  OWNER  \n",
              "0         5    1.0  \n",
              "1         1    1.0  \n",
              "2         7    1.0  \n",
              "3         4    0.0  \n",
              "4         4    0.0  "
            ],
            "text/html": [
              "<div>\n",
              "<style scoped>\n",
              "    .dataframe tbody tr th:only-of-type {\n",
              "        vertical-align: middle;\n",
              "    }\n",
              "\n",
              "    .dataframe tbody tr th {\n",
              "        vertical-align: top;\n",
              "    }\n",
              "\n",
              "    .dataframe thead th {\n",
              "        text-align: right;\n",
              "    }\n",
              "</style>\n",
              "<table border=\"1\" class=\"dataframe\">\n",
              "  <thead>\n",
              "    <tr style=\"text-align: right;\">\n",
              "      <th></th>\n",
              "      <th>BLACK</th>\n",
              "      <th>HHSEX</th>\n",
              "      <th>METRO</th>\n",
              "      <th>HHGRAD</th>\n",
              "      <th>HHMAR</th>\n",
              "      <th>HHCITSHP</th>\n",
              "      <th>HHAGE</th>\n",
              "      <th>NUMPEOPLE</th>\n",
              "      <th>HINCP</th>\n",
              "      <th>DIVISION</th>\n",
              "      <th>OWNER</th>\n",
              "    </tr>\n",
              "  </thead>\n",
              "  <tbody>\n",
              "    <tr>\n",
              "      <th>0</th>\n",
              "      <td>0.0</td>\n",
              "      <td>1</td>\n",
              "      <td>1.0</td>\n",
              "      <td>44</td>\n",
              "      <td>1</td>\n",
              "      <td>1</td>\n",
              "      <td>52</td>\n",
              "      <td>3</td>\n",
              "      <td>5.409933</td>\n",
              "      <td>5</td>\n",
              "      <td>1.0</td>\n",
              "    </tr>\n",
              "    <tr>\n",
              "      <th>1</th>\n",
              "      <td>0.0</td>\n",
              "      <td>2</td>\n",
              "      <td>1.0</td>\n",
              "      <td>44</td>\n",
              "      <td>4</td>\n",
              "      <td>1</td>\n",
              "      <td>80</td>\n",
              "      <td>2</td>\n",
              "      <td>5.303196</td>\n",
              "      <td>1</td>\n",
              "      <td>1.0</td>\n",
              "    </tr>\n",
              "    <tr>\n",
              "      <th>2</th>\n",
              "      <td>0.0</td>\n",
              "      <td>1</td>\n",
              "      <td>1.0</td>\n",
              "      <td>47</td>\n",
              "      <td>1</td>\n",
              "      <td>1</td>\n",
              "      <td>72</td>\n",
              "      <td>2</td>\n",
              "      <td>4.825426</td>\n",
              "      <td>7</td>\n",
              "      <td>1.0</td>\n",
              "    </tr>\n",
              "    <tr>\n",
              "      <th>3</th>\n",
              "      <td>1.0</td>\n",
              "      <td>2</td>\n",
              "      <td>1.0</td>\n",
              "      <td>40</td>\n",
              "      <td>6</td>\n",
              "      <td>1</td>\n",
              "      <td>60</td>\n",
              "      <td>1</td>\n",
              "      <td>4.544068</td>\n",
              "      <td>4</td>\n",
              "      <td>0.0</td>\n",
              "    </tr>\n",
              "    <tr>\n",
              "      <th>4</th>\n",
              "      <td>0.0</td>\n",
              "      <td>2</td>\n",
              "      <td>1.0</td>\n",
              "      <td>39</td>\n",
              "      <td>3</td>\n",
              "      <td>1</td>\n",
              "      <td>80</td>\n",
              "      <td>2</td>\n",
              "      <td>4.309630</td>\n",
              "      <td>4</td>\n",
              "      <td>0.0</td>\n",
              "    </tr>\n",
              "  </tbody>\n",
              "</table>\n",
              "</div>"
            ]
          },
          "metadata": {},
          "execution_count": 216
        }
      ]
    },
    {
      "cell_type": "code",
      "source": [
        "df.shape"
      ],
      "metadata": {
        "colab": {
          "base_uri": "https://localhost:8080/"
        },
        "id": "MawBk-HurpIG",
        "outputId": "3ee44801-25a0-47e7-d4c8-a52d7bce3a0b"
      },
      "execution_count": null,
      "outputs": [
        {
          "output_type": "execute_result",
          "data": {
            "text/plain": [
              "(48660, 11)"
            ]
          },
          "metadata": {},
          "execution_count": 218
        }
      ]
    },
    {
      "cell_type": "code",
      "source": [
        "# convert category dtype to numeric\n",
        "df['OWNER']=df['OWNER'].astype('int64')\n",
        "\n",
        "df['OWNER']=df['OWNER'].astype('category')\n",
        "features = ['BLACK', 'HHSEX', 'METRO', 'HHGRAD', 'HHMAR', 'HHCITSHP', 'HHAGE', 'NUMPEOPLE', 'HINCP', 'DIVISION']\n",
        "dependent_var = ['OWNER']\n",
        "\n",
        "X = df[features]\n",
        "y = df[dependent_var]\n",
        "\n",
        "X_train, X_test, y_train, y_test = train_test_split(X, y, test_size=0.25,random_state=1090)\n",
        "condition_test=X_test.index"
      ],
      "metadata": {
        "id": "2YuWyRqw_d_f"
      },
      "execution_count": null,
      "outputs": []
    },
    {
      "cell_type": "code",
      "source": [
        "from sklearn.preprocessing import StandardScaler\n",
        "\n",
        "scaler = StandardScaler()\n",
        "X_train_scaled = scaler.fit_transform(X_train)\n",
        "X_test_scaled = scaler.transform(X_test)\n",
        "\n",
        "X_train_tensor = torch.FloatTensor(X_train_scaled)\n",
        "\n",
        "X_test_tensor = torch.FloatTensor(X_test_scaled)\n",
        "\n",
        "\n",
        "y_train_tensor = torch.tensor(y_train['OWNER'].values, dtype=torch.long)\n",
        "y_test_tensor = torch.tensor(y_test['OWNER'].values, dtype=torch.long)\n",
        "\n",
        "train_dataset = TensorDataset(X_train_tensor, y_train_tensor)\n",
        "train_loader = DataLoader(train_dataset, batch_size=32, shuffle=True)"
      ],
      "metadata": {
        "id": "DHiJjaB5_jrJ"
      },
      "execution_count": null,
      "outputs": []
    },
    {
      "cell_type": "code",
      "source": [
        "# Train with standard cross-entropy loss\n",
        "model_ce = LogisticRegressionNN(input_dim=10)\n",
        "optimizer_ce = optim.Adam(model_ce.parameters(), lr=0.01)\n",
        "train_model(model_ce, lambda x, y, z: nn.CrossEntropyLoss()(z, y), optimizer_ce)\n"
      ],
      "metadata": {
        "colab": {
          "base_uri": "https://localhost:8080/"
        },
        "id": "36BgkpP0_nqV",
        "outputId": "067435db-1c51-42fd-b593-a0091f5dc5a4"
      },
      "execution_count": null,
      "outputs": [
        {
          "output_type": "stream",
          "name": "stdout",
          "text": [
            "Epoch 10, Loss: 0.4243\n",
            "Epoch 20, Loss: 0.6157\n",
            "Epoch 30, Loss: 0.5062\n",
            "Epoch 40, Loss: 0.5681\n",
            "Epoch 50, Loss: 0.6020\n",
            "Epoch 60, Loss: 0.4791\n",
            "Epoch 70, Loss: 0.3538\n",
            "Epoch 80, Loss: 0.5681\n",
            "Epoch 90, Loss: 0.3668\n",
            "Epoch 100, Loss: 0.5784\n"
          ]
        }
      ]
    },
    {
      "cell_type": "code",
      "source": [
        "# Train with mixed loss (including kernel-based calibration)\n",
        "model_mixed = LogisticRegressionNN(input_dim=10)\n",
        "mixed_loss = ClassificationMixedLoss(\n",
        "    loss_scalers={\"nll\": 1.0, \"mmd\": 0.7},\n",
        "    operands={'x': \"rbf\", 'y': \"rbf\"},\n",
        "    scalers={'x': 1.0, 'y': 1.0},\n",
        "    bandwidths={'x': 25, 'y': 1}\n",
        ")\n",
        "optimizer_mixed = optim.Adam(model_mixed.parameters(), lr=0.01)\n",
        "train_model(model_mixed, mixed_loss, optimizer_mixed)"
      ],
      "metadata": {
        "colab": {
          "base_uri": "https://localhost:8080/"
        },
        "id": "uV_mpCPp_p69",
        "outputId": "1f5398cf-2c7e-43b1-d8e5-1d2965a2d15f"
      },
      "execution_count": null,
      "outputs": [
        {
          "output_type": "stream",
          "name": "stdout",
          "text": [
            "Epoch 10, Loss: 0.5885\n",
            "Epoch 20, Loss: 0.4294\n",
            "Epoch 30, Loss: 0.7465\n",
            "Epoch 40, Loss: 0.4323\n",
            "Epoch 50, Loss: 0.7384\n",
            "Epoch 60, Loss: 0.3549\n",
            "Epoch 70, Loss: 0.3432\n",
            "Epoch 80, Loss: 0.2975\n",
            "Epoch 90, Loss: 0.3847\n",
            "Epoch 100, Loss: 0.5841\n"
          ]
        }
      ]
    },
    {
      "cell_type": "code",
      "source": [
        "# Train with MMCEMixedLoss\n",
        "model_mmce = LogisticRegressionNN(input_dim=10)\n",
        "mmce_loss = MMCEMixedLoss(\n",
        "    loss_scalers={\"nll\": 1.0, \"mmce\": 0.7}\n",
        ")\n",
        "optimizer_mmce = optim.Adam(model_mmce.parameters(), lr=0.01)\n",
        "train_model(model_mmce, mmce_loss, optimizer_mmce)"
      ],
      "metadata": {
        "colab": {
          "base_uri": "https://localhost:8080/"
        },
        "id": "decfgjv6_sbO",
        "outputId": "7f4986e7-0b7e-4ef6-f152-721e5471ea52"
      },
      "execution_count": null,
      "outputs": [
        {
          "output_type": "stream",
          "name": "stdout",
          "text": [
            "Epoch 10, Loss: 0.7148\n",
            "Epoch 20, Loss: 0.6236\n",
            "Epoch 30, Loss: 0.6739\n",
            "Epoch 40, Loss: 0.8601\n",
            "Epoch 50, Loss: 0.5350\n",
            "Epoch 60, Loss: 0.6126\n",
            "Epoch 70, Loss: 0.9469\n",
            "Epoch 80, Loss: 0.6477\n",
            "Epoch 90, Loss: 0.5702\n",
            "Epoch 100, Loss: 0.6300\n"
          ]
        }
      ]
    },
    {
      "cell_type": "code",
      "source": [
        "model_ce.eval()\n",
        "with torch.no_grad():\n",
        "  logits = model_ce(X_test_tensor)\n",
        "  probs = torch.softmax(logits, dim=1)[:, 1]\n",
        "probs_ce = probs.numpy()\n",
        "\n",
        "model_mixed.eval()\n",
        "with torch.no_grad():\n",
        "  logits = model_mixed(X_test_tensor)\n",
        "  probs = torch.softmax(logits, dim=1)[:, 1]\n",
        "probs_mixed = probs.numpy()\n",
        "\n",
        "model_mmce.eval()\n",
        "with torch.no_grad():\n",
        "  logits = model_mmce(X_test_tensor)\n",
        "  probs = torch.softmax(logits, dim=1)[:, 1]\n",
        "probs_mmce = probs.numpy()"
      ],
      "metadata": {
        "id": "5ZbluFQs_y2u"
      },
      "execution_count": null,
      "outputs": []
    },
    {
      "cell_type": "code",
      "source": [
        "def expected_calibration_error(y_true, y_prob):\n",
        "    prob_true, prob_pred  = calibration_curve(y_true, y_prob, n_bins=10)\n",
        "    return (np.sum(np.abs(prob_true - prob_pred)) / len(prob_true))\n",
        "\n",
        "# Evaluate both models\n",
        "ece_ce= expected_calibration_error(y_test_tensor,probs_ce)\n",
        "ece_mixed = expected_calibration_error(y_test_tensor,probs_mixed)\n",
        "ece_mmce = expected_calibration_error(y_test_tensor,probs_mmce)\n",
        "\n",
        "print(f\"ECE (Cross-Entropy): {ece_ce:.4f}\")\n",
        "print(f\"ECE (MMD Mixed Loss): {ece_mixed:.4f}\")\n",
        "print(f\"ECE (MMCE Mixed Loss): {ece_mmce:.4f}\")"
      ],
      "metadata": {
        "colab": {
          "base_uri": "https://localhost:8080/"
        },
        "id": "O3sKnVvY_wEA",
        "outputId": "c882109b-f34c-44a9-ed81-8f355e2f9e52"
      },
      "execution_count": null,
      "outputs": [
        {
          "output_type": "stream",
          "name": "stdout",
          "text": [
            "ECE (Cross-Entropy): 0.0193\n",
            "ECE (MMD Mixed Loss): 0.0266\n",
            "ECE (MMCE Mixed Loss): 0.0157\n"
          ]
        }
      ]
    },
    {
      "cell_type": "code",
      "source": [
        "# Calculate Brier scores\n",
        "from sklearn.metrics import brier_score_loss # Import the function\n",
        "\n",
        "brier_ce = brier_score_loss(y_test, probs_ce)\n",
        "brier_mixed = brier_score_loss(y_test, probs_mixed)\n",
        "brier_mmce = brier_score_loss(y_test, probs_mmce)\n",
        "\n",
        "print(f\"Brier score (Cross-Entropy): {brier_ce:.4f}\")\n",
        "print(f\"Brier score (MMD Mixed Loss): {brier_mixed:.4f}\")\n",
        "print(f\"Brier score (MMCE Mixed Loss): {brier_mmce:.4f}\")\n"
      ],
      "metadata": {
        "colab": {
          "base_uri": "https://localhost:8080/"
        },
        "id": "Ec7vvWtz_5BM",
        "outputId": "aa43951b-7d3e-47f9-a36b-21c7da4a9af7"
      },
      "execution_count": null,
      "outputs": [
        {
          "output_type": "stream",
          "name": "stdout",
          "text": [
            "Brier score (Cross-Entropy): 0.1699\n",
            "Brier score (MMD Mixed Loss): 0.1711\n",
            "Brier score (MMCE Mixed Loss): 0.1703\n"
          ]
        }
      ]
    },
    {
      "cell_type": "code",
      "source": [
        "from sklearn.calibration import calibration_curve  # Import calibration_curve\n",
        "\n",
        "def plot_calibration_curve(y_true, y_prob, n_bins=10):\n",
        "    prob_true, prob_pred = calibration_curve(y_true, y_prob, n_bins=n_bins)\n",
        "    plt.plot(prob_pred, prob_true, marker='o')\n",
        "    plt.plot([0, 1], [0, 1], linestyle='--')\n",
        "    plt.xlabel('Mean predicted probability')\n",
        "    plt.ylabel('Fraction of positives')\n",
        "\n",
        "plt.figure(figsize=(10, 5))\n",
        "\n",
        "plt.subplot(1, 2, 1)\n",
        "plot_calibration_curve(y_test_tensor, probs_ce)\n",
        "plt.title('Original Calibration')\n",
        "\n",
        "plt.subplot(1, 2, 2)\n",
        "plot_calibration_curve(y_test_tensor, probs_mixed)\n",
        "plt.title('Recalibrated Calibration')\n",
        "\n",
        "plt.tight_layout()\n",
        "plt.show()"
      ],
      "metadata": {
        "colab": {
          "base_uri": "https://localhost:8080/",
          "height": 488
        },
        "id": "RgbzD-Wp_0uc",
        "outputId": "a47266eb-019c-4a9c-b101-d062a907121b"
      },
      "execution_count": null,
      "outputs": [
        {
          "output_type": "display_data",
          "data": {
            "text/plain": [
              "<Figure size 1000x500 with 2 Axes>"
            ],
            "image/png": "[encoded data removed]"
          },
          "metadata": {}
        }
      ]
    },
    {
      "cell_type": "code",
      "source": [
        "from KiTE.metrics import ELCE2\n",
        "result_mixed_housing=ELCE2(np.array(df[['HINCP','BLACK']])[condition_test],  np.array(df['OWNER'][condition_test]) ,probs_mixed, kernel_function=\"rbf\", prob_kernel_width=0.1, iterations=500, use_diffusion_distance=False, verbose=True,random_state=None, n_jobs=1,gamma=25)\n",
        "result_mmce_housing=ELCE2(np.array(df[['HINCP','BLACK']])[condition_test],  np.array(df['OWNER'][condition_test]) ,probs_mmce, kernel_function=\"rbf\", prob_kernel_width=0.1, iterations=500, use_diffusion_distance=False, verbose=True,random_state=None, n_jobs=1,gamma=25)\n",
        "result_ce_hosuing=ELCE2(np.array(df[['HINCP','BLACK']])[condition_test],  np.array(df['OWNER'][condition_test]) ,probs_ce, kernel_function=\"rbf\", prob_kernel_width=0.1, iterations=500, use_diffusion_distance=False, verbose=True,random_state=None, n_jobs=1,gamma=25)"
      ],
      "metadata": {
        "id": "MeUUKFQnABpS"
      },
      "execution_count": null,
      "outputs": []
    },
    {
      "cell_type": "code",
      "source": [
        "result_mixed_housing"
      ],
      "metadata": {
        "colab": {
          "base_uri": "https://localhost:8080/"
        },
        "id": "fPJZhVbtdfPC",
        "outputId": "580721a9-b077-42d0-fbc6-65d3253d20f1"
      },
      "execution_count": null,
      "outputs": [
        {
          "output_type": "execute_result",
          "data": {
            "text/plain": [
              "(0.0006184533706967365,\n",
              " array([ 8.24597060e-05, -7.00747848e-06, -2.52517864e-05,  1.50502681e-04,\n",
              "         4.47710992e-06, -5.61547888e-05, -3.66596276e-05,  2.24991217e-05,\n",
              "         2.62704385e-05, -3.85366839e-05, -9.50194162e-05, -4.27564625e-05,\n",
              "         3.30186494e-05, -5.26768764e-05, -8.62395292e-05,  2.15846435e-05,\n",
              "         2.97847693e-05,  5.65771581e-05, -4.29141374e-05, -1.67781422e-05,\n",
              "         4.95369071e-05, -2.15141496e-05, -4.01653301e-05, -4.75442299e-05,\n",
              "        -3.44443003e-05,  1.79408384e-05,  4.40707986e-05, -1.19061782e-04,\n",
              "         3.73794934e-05,  9.90989877e-05,  1.59928774e-04, -9.37489255e-06,\n",
              "         2.98121648e-05,  2.93824073e-06,  5.62843739e-06,  2.39272323e-04,\n",
              "         6.09139765e-05, -3.34523630e-05,  2.86402739e-06, -2.56489972e-05,\n",
              "         1.82615063e-05, -5.41529428e-05,  7.07759987e-05, -2.60235101e-05,\n",
              "        -2.18933688e-05,  7.17410453e-06, -2.50646982e-05, -1.51320686e-05,\n",
              "         4.14858415e-05, -1.18068507e-05,  3.67224100e-05,  1.03318033e-04,\n",
              "         8.69861670e-05,  1.46978411e-05, -7.06499931e-05,  5.01017749e-05,\n",
              "        -4.59414757e-05,  5.98691057e-05,  4.47244361e-05, -3.26233543e-07,\n",
              "        -1.96505997e-05, -3.24751192e-05, -3.60268974e-05, -4.33494317e-05,\n",
              "        -6.56878974e-05, -2.32107581e-05,  2.99436427e-05,  2.64784743e-05,\n",
              "        -5.28239358e-06,  1.46261783e-05, -1.35213173e-05, -5.28447671e-05,\n",
              "         3.64720038e-05, -1.83523500e-05,  3.66536422e-05,  3.63234829e-05,\n",
              "        -1.71062931e-05, -1.53735446e-06, -6.68790662e-05,  2.67427680e-05,\n",
              "        -3.22548689e-05,  1.49907509e-05,  7.08057634e-05,  1.30822947e-05,\n",
              "         2.65271614e-06, -6.09415929e-05, -4.80901108e-05,  4.85539721e-05,\n",
              "        -6.42332811e-05, -4.66887568e-05, -3.31371260e-05,  9.08270610e-05,\n",
              "        -9.07672878e-05,  2.04163116e-05, -1.94970833e-05, -9.72420012e-06,\n",
              "         1.83446945e-05, -4.57416914e-05,  2.74652475e-05,  2.46654974e-06,\n",
              "        -2.48862400e-05, -1.32144116e-05, -1.51662866e-06,  7.24471500e-05,\n",
              "        -4.17477793e-05, -1.83901942e-05, -6.34979916e-05, -4.12882381e-05,\n",
              "         1.60561625e-04,  1.14641376e-05, -2.33051739e-05,  1.23784365e-05,\n",
              "        -3.21391628e-05, -1.93703356e-05,  7.37642147e-06, -5.98295276e-05,\n",
              "        -2.48747068e-05,  9.59890960e-06, -5.55055489e-05, -9.76170621e-06,\n",
              "        -1.28078801e-06,  3.85248955e-05,  7.29905807e-05,  8.87991374e-06,\n",
              "         1.25165590e-04,  3.73327479e-05, -6.08991689e-05, -4.98645492e-05,\n",
              "         1.43621110e-05,  6.00069078e-06, -3.66359125e-05,  7.11752409e-05,\n",
              "        -5.25645549e-05, -2.42715562e-05, -6.55199265e-05, -3.67341229e-05,\n",
              "        -1.01530002e-05, -2.91120849e-05,  1.13139551e-04,  1.09304908e-05,\n",
              "         4.51111373e-05,  1.06734214e-05, -3.15130782e-05,  7.80084981e-05,\n",
              "         4.92575242e-05,  6.46885835e-05,  2.07217705e-04, -1.63105119e-05,\n",
              "        -5.13726982e-05,  8.56546226e-06,  3.23530103e-05,  1.35674379e-05,\n",
              "         9.18690325e-05, -5.44719950e-05, -2.30094308e-05,  3.53399341e-05,\n",
              "        -1.83274042e-05,  2.30739658e-05, -1.01654484e-04,  3.73131348e-05,\n",
              "        -4.47319193e-05,  7.54753311e-05, -8.65251714e-06,  3.81474101e-05,\n",
              "        -3.24980788e-05, -4.74749645e-06,  1.83061541e-05,  1.07628755e-05,\n",
              "        -1.10800927e-05, -1.04313294e-05, -2.76909989e-05,  5.63532440e-05,\n",
              "        -2.92423589e-05,  3.87756367e-05, -4.32569382e-05, -3.10782420e-05,\n",
              "        -3.15516453e-06, -5.31418604e-05,  3.20573012e-06,  3.25659395e-05,\n",
              "         7.58789587e-05, -3.14375242e-05,  9.69386836e-06, -2.34931071e-05,\n",
              "         4.85064714e-05, -5.25817681e-05, -2.46802996e-05, -7.61336561e-05,\n",
              "        -3.48516025e-05,  2.50333139e-05,  1.53421747e-04, -1.60306211e-05,\n",
              "         3.19406388e-05, -4.40037208e-05, -1.48475627e-05,  3.45322838e-05,\n",
              "         3.30622442e-05,  1.10763897e-04, -2.78344179e-05, -5.38347752e-06,\n",
              "        -8.22196862e-06,  5.28757838e-05, -7.43639306e-05,  3.28763740e-05,\n",
              "         1.92054075e-05, -3.10355025e-05, -2.08691766e-05, -5.00936418e-06,\n",
              "        -3.12343080e-05, -1.03472663e-05, -1.07846138e-05,  3.16114599e-06,\n",
              "        -5.44634771e-05,  2.03630370e-05, -3.50565067e-05, -2.56063332e-06,\n",
              "         1.27872242e-04, -5.85165479e-06, -6.25354268e-05, -6.59188479e-05,\n",
              "         3.15374777e-05, -3.63463084e-05, -9.63422763e-06, -1.32801497e-05,\n",
              "         2.09571998e-05, -1.15238299e-05, -5.00553111e-05, -1.33398261e-05,\n",
              "        -3.32523233e-06, -5.24655035e-05, -4.27561341e-05,  4.25193485e-06,\n",
              "         5.64383903e-05,  9.21334627e-05, -7.63732080e-05,  2.24259064e-05,\n",
              "         6.49455541e-06,  1.43413426e-04,  1.84736315e-05,  1.91713212e-05,\n",
              "         2.49505932e-05,  2.59333478e-05,  4.09815615e-05,  3.36985489e-05,\n",
              "        -1.09412315e-05,  2.57367180e-05,  1.46943045e-04,  4.82500238e-05,\n",
              "        -7.10377969e-05,  3.05764904e-06,  2.80439097e-05, -9.34684422e-06,\n",
              "        -1.52344604e-05, -3.82434772e-05, -6.35013679e-05, -2.94594995e-05,\n",
              "         6.34529383e-05, -1.79155253e-05, -3.36542005e-05, -3.05572981e-05,\n",
              "        -4.09638744e-05,  1.14237626e-05,  1.16639232e-06,  1.09574009e-05,\n",
              "         4.54581429e-05, -5.09648178e-05,  1.17871278e-04, -1.41037281e-05,\n",
              "         5.23118381e-05, -1.77819884e-05, -8.39008507e-06,  1.51662256e-05,\n",
              "        -9.56807441e-05,  1.24813222e-05,  1.80596746e-05,  2.66129871e-06,\n",
              "        -4.50205042e-05, -2.67411321e-05, -2.09273323e-05, -6.90163285e-05,\n",
              "         4.17612031e-05,  2.09452078e-05, -8.45359341e-05, -4.01684677e-05,\n",
              "        -4.94169375e-05, -1.17523029e-06, -1.20518570e-05,  4.60691357e-05,\n",
              "         1.81170583e-05, -3.32356498e-05, -5.66599940e-05, -5.13415890e-05,\n",
              "         2.88235115e-06,  5.20789041e-05,  4.43565410e-05,  3.17960919e-05,\n",
              "        -7.71046811e-05,  9.68308731e-05, -4.17215649e-05, -4.22668939e-05,\n",
              "        -3.85576642e-05,  1.37549711e-04,  2.30556197e-05, -5.79125231e-05,\n",
              "         5.85541378e-06,  3.53342172e-06,  8.30518812e-05, -5.88649020e-05,\n",
              "        -7.68864318e-05, -9.12783868e-05,  4.56458273e-05,  2.56428249e-05,\n",
              "         2.85199361e-04, -7.76139644e-05, -4.30622488e-05,  5.18431591e-05,\n",
              "         1.00306294e-05, -2.45447636e-05, -9.81638676e-06,  1.17577285e-05,\n",
              "        -6.17574380e-05,  3.49869890e-05, -5.78683287e-05,  1.06297479e-04,\n",
              "        -7.23548499e-06,  2.03331368e-05,  6.12495332e-05,  3.25140649e-05,\n",
              "        -4.26784382e-05, -4.34302732e-05,  3.16775121e-06, -4.52359601e-05,\n",
              "        -2.38786245e-05, -1.76842588e-05, -6.90806851e-05,  4.99205335e-05,\n",
              "        -1.36365312e-05, -6.25680856e-05, -6.43841277e-05,  2.70564012e-05,\n",
              "        -6.91414273e-06,  2.94353700e-05, -2.72631386e-05,  2.91707866e-05,\n",
              "         1.11320634e-05, -3.20221023e-05,  2.89955278e-05, -3.94276625e-05,\n",
              "        -2.50908096e-05, -4.77856471e-06,  1.00837806e-04, -5.70732537e-07,\n",
              "        -2.50425365e-05, -3.57472234e-05, -4.77948996e-05,  5.81630079e-06,\n",
              "        -3.79734249e-05, -7.38896351e-05,  1.73690153e-05, -4.33977690e-05,\n",
              "         1.40888171e-05, -5.86244890e-05,  6.18828901e-05, -5.39631437e-05,\n",
              "         1.95936009e-06, -8.50172322e-05,  4.37733718e-06, -2.50640153e-05,\n",
              "         6.86521768e-06, -4.47036299e-05, -8.67018806e-05,  9.11367493e-05,\n",
              "        -4.82724278e-05, -7.57110826e-05, -7.74602645e-05, -3.93483820e-05,\n",
              "         8.71522349e-05, -3.76012949e-05,  5.72596309e-05, -3.79862406e-05,\n",
              "        -3.24181253e-05,  2.58701218e-05, -4.52881115e-05, -6.65258575e-05,\n",
              "         8.57656701e-06, -6.61685892e-05,  2.54600372e-06, -3.53783511e-05,\n",
              "         1.03297657e-06,  1.13753575e-04,  1.83878142e-05, -2.80307038e-05,\n",
              "         2.70169244e-05, -5.26092079e-05, -4.73620253e-05,  2.08738683e-06,\n",
              "         8.75187235e-06, -8.57268752e-05, -1.04326684e-05,  2.01430176e-05,\n",
              "         8.20127799e-07, -1.68073676e-05, -3.59217645e-05, -5.82571681e-06,\n",
              "        -3.56717726e-05, -3.00173658e-05,  8.95261718e-06,  3.32379822e-05,\n",
              "        -4.38409614e-05, -5.67680023e-05,  2.33288369e-05,  6.99454120e-05,\n",
              "        -5.87095775e-05, -1.53169260e-05,  1.30133025e-05, -1.16363409e-05,\n",
              "        -6.55387204e-05,  1.27706268e-05, -7.20453237e-06, -8.37036598e-05,\n",
              "         2.28582770e-05, -5.27936185e-06,  1.12272508e-05,  4.66561828e-05,\n",
              "         1.05127185e-04, -8.36861916e-05,  5.60990267e-06,  4.38414107e-05,\n",
              "         4.74615027e-05,  6.87002994e-05, -4.76203713e-05, -8.32812049e-05,\n",
              "        -2.87194964e-05,  4.30923058e-05,  4.75985759e-05,  2.52631424e-05,\n",
              "        -4.07872005e-05,  3.64348039e-05, -2.58493569e-05, -2.13505974e-05,\n",
              "        -4.77757183e-05, -4.21266629e-05, -7.85834893e-05, -4.06768089e-05,\n",
              "         2.07138585e-05, -9.11141434e-06,  1.31914252e-04, -3.04933710e-05,\n",
              "         1.62233159e-04, -6.69698658e-05,  6.05512613e-05,  6.47896877e-06,\n",
              "         6.19705088e-05,  3.53220991e-05,  4.04511185e-05, -1.88814805e-05,\n",
              "         3.99149096e-05, -1.04139546e-04, -1.84936198e-06,  9.74913159e-06,\n",
              "        -5.87174318e-05, -4.48814369e-05,  1.92689684e-05,  6.36776063e-05,\n",
              "        -3.42012388e-05,  8.86830109e-06,  2.57038563e-05,  9.74673544e-06,\n",
              "        -9.33585393e-06,  8.35060643e-06, -6.78658662e-05,  7.34693691e-07,\n",
              "        -1.92258785e-05, -1.16231741e-05, -1.93055640e-05, -1.86562687e-05,\n",
              "        -2.74136650e-06,  2.83294538e-05,  9.72923135e-05, -3.42199693e-05,\n",
              "         2.44374663e-05,  7.31124462e-05,  8.24436843e-06,  2.12606714e-05,\n",
              "        -2.37334588e-05, -7.44805359e-05,  1.25443037e-05, -3.37112287e-05,\n",
              "         8.85925630e-06,  1.97178844e-05,  5.30491941e-05,  1.32380881e-04,\n",
              "        -8.44059204e-05,  5.69721051e-06,  1.66896510e-05,  9.99147848e-06,\n",
              "         5.27232139e-05, -9.50868665e-05,  1.09729956e-04, -6.40633088e-05]),\n",
              " 0.002)"
            ]
          },
          "metadata": {},
          "execution_count": 232
        }
      ]
    },
    {
      "cell_type": "code",
      "source": [
        "result_mmce_housing"
      ],
      "metadata": {
        "colab": {
          "base_uri": "https://localhost:8080/"
        },
        "id": "wCi-Z_Fgdg6K",
        "outputId": "4dc6b1d7-d2c6-47ad-8ce3-02d29afd9063"
      },
      "execution_count": null,
      "outputs": [
        {
          "output_type": "execute_result",
          "data": {
            "text/plain": [
              "(0.0010492191658670613,\n",
              " array([ 3.67690390e-05, -1.22898219e-05,  2.68537723e-05, -7.39764744e-05,\n",
              "        -3.58783165e-05, -1.03583487e-05,  4.66525764e-05,  1.59662414e-05,\n",
              "        -4.36466907e-05,  2.16053326e-05,  2.55323665e-05, -3.79982848e-06,\n",
              "        -7.48991459e-05, -7.37477909e-05,  1.38667264e-04, -9.29493454e-05,\n",
              "         2.84314146e-05, -1.24332768e-04,  1.14805181e-04, -1.36263449e-05,\n",
              "        -1.29903194e-05,  5.29356469e-05, -4.57098267e-05, -7.75978415e-05,\n",
              "         6.56980957e-05,  2.21432369e-06,  5.50129404e-05,  2.52761540e-05,\n",
              "        -6.26517080e-05, -1.67334027e-05,  1.19418988e-05,  1.26138583e-05,\n",
              "         8.55340443e-05, -5.10521030e-05, -2.18167479e-05,  2.28151044e-05,\n",
              "         2.93241998e-05, -1.95191824e-05, -9.70530398e-06, -4.65316751e-05,\n",
              "        -2.41786046e-05, -7.53323822e-05, -2.17876788e-05,  2.79915561e-05,\n",
              "         1.29394473e-04, -1.46558394e-05,  6.76223597e-05,  1.81077333e-05,\n",
              "        -6.34806205e-05, -1.29613345e-05, -5.92520262e-05,  2.10525034e-04,\n",
              "        -6.53093092e-06,  7.09584446e-05, -3.86964177e-05,  6.55490560e-05,\n",
              "         5.43954198e-05,  1.16567672e-05,  2.94214922e-05, -2.02552644e-05,\n",
              "         8.83435412e-05, -2.43799102e-05, -6.51264917e-05,  8.95828821e-05,\n",
              "         2.67811878e-05,  6.41513918e-05,  4.96379678e-05,  4.80205218e-05,\n",
              "        -1.99060399e-05, -5.25254878e-05,  1.55469088e-04,  6.32102854e-05,\n",
              "        -7.49832493e-05,  4.60955397e-06,  6.69766996e-06, -3.93476991e-06,\n",
              "        -4.54409412e-06, -4.08284547e-05,  1.19272814e-04, -1.70009274e-05,\n",
              "        -3.10829921e-05, -2.32729610e-05,  2.16360923e-06,  1.05251511e-04,\n",
              "        -7.64761785e-05, -6.72299468e-05,  7.85817037e-05, -7.66756880e-05,\n",
              "         7.29155313e-05, -2.96500689e-05, -5.42345456e-05,  8.18399753e-05,\n",
              "         1.37243095e-05, -6.07404214e-05,  2.01063892e-05,  1.64549564e-04,\n",
              "        -8.20710157e-05, -2.46294152e-05,  2.00938343e-05,  6.34245932e-06,\n",
              "        -3.16759589e-06,  2.81195566e-05,  7.05792659e-05, -7.13514927e-05,\n",
              "        -1.86057732e-05,  1.46683985e-05, -1.40140442e-05, -7.03728608e-05,\n",
              "        -7.09725747e-05, -4.76601404e-05,  3.02724494e-05, -7.96036380e-05,\n",
              "        -4.73254998e-05,  1.56277035e-05, -4.56872515e-05,  3.58126950e-05,\n",
              "        -1.01847276e-05,  2.49516503e-05,  1.95627839e-05, -5.69720555e-05,\n",
              "        -6.59904266e-05,  1.31966990e-05,  3.13624050e-05, -1.13331628e-04,\n",
              "         6.01504021e-05,  1.83956669e-05,  1.77635971e-04,  2.06020496e-04,\n",
              "         1.34252028e-04,  6.07229304e-05, -1.69406309e-05, -6.78454492e-05,\n",
              "         1.26363037e-05, -7.92917842e-05, -7.33630490e-05, -2.13987594e-05,\n",
              "         3.12078034e-06,  1.52609616e-04,  2.22427678e-04, -2.83325392e-05,\n",
              "        -5.18292241e-06,  2.14213529e-04, -6.96114517e-05,  2.86247389e-05,\n",
              "         8.52255710e-06,  2.33147209e-06,  7.16992501e-06,  6.08848902e-05,\n",
              "         3.76476008e-05, -5.72458823e-05,  6.88543944e-05, -4.27504688e-06,\n",
              "        -3.02190647e-05,  3.17274838e-05, -3.53022497e-05, -9.25798724e-06,\n",
              "        -5.35888928e-06, -6.55519381e-05,  2.15184385e-04, -5.53544362e-05,\n",
              "        -4.42794196e-05,  1.63214833e-04,  8.87110498e-05,  5.86233574e-07,\n",
              "         1.41660024e-05,  1.72424057e-06, -4.18134214e-05, -4.22949837e-05,\n",
              "         3.95992222e-05,  4.47726285e-05, -4.52977198e-05,  3.25310900e-05,\n",
              "        -7.57876636e-05,  2.31869018e-05,  1.24752956e-04, -4.06959999e-05,\n",
              "        -8.91899348e-05, -8.83333421e-05,  6.87244867e-05,  2.70228216e-05,\n",
              "        -1.29708398e-06, -9.16946585e-05, -7.55716356e-05,  2.91905304e-06,\n",
              "         4.87360831e-05,  2.82433253e-05,  1.21885392e-05, -2.98951474e-05,\n",
              "        -8.28149007e-05, -7.02156358e-06, -5.59208883e-05, -5.03387114e-05,\n",
              "        -3.50308256e-05,  1.17613536e-05,  1.42609478e-04,  5.15120081e-05,\n",
              "        -8.40431449e-05, -6.29241013e-06,  7.12045233e-05, -4.26016144e-05,\n",
              "        -8.33844448e-05, -1.88318784e-05,  8.05357582e-05,  9.25739676e-05,\n",
              "         5.73019640e-05, -9.36248210e-05,  1.26047871e-04, -4.15385007e-05,\n",
              "        -7.04575879e-05,  9.75307880e-05,  4.01354724e-05, -2.28521246e-06,\n",
              "         9.25776310e-05, -1.56000903e-05,  2.14454144e-05, -1.06193746e-04,\n",
              "        -6.99513954e-05, -7.69262257e-05,  4.97722592e-05, -7.81219554e-05,\n",
              "        -2.57529864e-05, -1.03641035e-05, -2.58804487e-05, -3.95773578e-05,\n",
              "        -5.51331232e-05, -5.30702459e-05,  4.07658061e-05, -1.41131817e-05,\n",
              "        -5.75931389e-05,  1.96660846e-04, -1.31036551e-04, -7.31779843e-05,\n",
              "        -5.51924451e-05,  1.38083035e-04, -5.43254494e-06,  2.45833960e-05,\n",
              "         4.60049832e-06, -5.06558676e-05,  1.72875501e-04, -9.37983936e-05,\n",
              "        -4.85601559e-06, -3.46895281e-05, -9.71653119e-06, -8.17686474e-05,\n",
              "        -2.22842541e-05, -3.18072669e-05,  1.82868693e-06, -7.13593614e-05,\n",
              "        -2.28619315e-05, -4.35322215e-06,  7.55083409e-06,  6.31317986e-05,\n",
              "        -5.67511252e-05,  5.11932016e-05,  9.39459392e-05,  7.06210763e-05,\n",
              "         9.33755302e-05, -5.73541502e-05, -9.11438262e-05,  4.42396222e-05,\n",
              "        -4.94071916e-05, -2.51722147e-05, -1.30730768e-06,  1.24733273e-04,\n",
              "         8.44929129e-07, -6.78379876e-05, -3.63655375e-05, -8.66432145e-05,\n",
              "        -4.47679983e-05, -1.14317793e-04,  1.46786975e-05,  6.84486239e-05,\n",
              "         3.47618336e-05, -6.03706870e-05, -8.74381240e-05, -2.78169939e-06,\n",
              "        -8.48259959e-05, -8.53907414e-06,  9.92281250e-06, -8.40671639e-05,\n",
              "        -4.37900328e-05, -7.71042487e-05,  2.69282239e-05, -5.08800461e-05,\n",
              "         3.43714730e-05, -4.52854337e-05, -2.70242058e-06,  4.89461832e-05,\n",
              "         2.88590895e-05, -9.37557321e-06,  1.08439802e-04, -6.98241013e-06,\n",
              "        -5.18269838e-05, -4.81637312e-05, -8.94954765e-05, -2.07814711e-05,\n",
              "        -2.14360022e-05, -8.47464818e-05,  2.51010352e-05, -1.00158989e-04,\n",
              "        -1.94000056e-05, -3.36738229e-05,  6.07892299e-06,  4.31573063e-05,\n",
              "        -8.29246077e-06, -3.52489237e-06,  1.47725431e-04,  7.90843570e-05,\n",
              "        -5.86763196e-05, -9.87909787e-05,  1.01217225e-04, -1.91520942e-05,\n",
              "         1.03484508e-05, -7.76296863e-05,  8.87554098e-06,  1.24960340e-05,\n",
              "         1.70098772e-04, -9.21100291e-05,  6.94569364e-06,  2.63479712e-05,\n",
              "        -3.15707784e-05,  4.74315111e-05, -7.79422150e-06,  7.45659497e-05,\n",
              "        -5.91845918e-06,  1.61376250e-05, -2.83172208e-05, -3.78886548e-06,\n",
              "        -6.74274382e-05, -1.99122114e-05,  3.33880720e-06,  1.32613489e-05,\n",
              "        -2.18048699e-05,  4.23087109e-05,  7.42813363e-05,  8.32274211e-05,\n",
              "        -5.34144603e-05, -6.58591226e-05, -5.99527813e-05, -1.10102149e-07,\n",
              "        -8.94255799e-05,  4.99249022e-05, -2.58976598e-05, -6.05781409e-06,\n",
              "        -5.50963782e-05,  2.62816193e-05, -3.64715449e-05, -7.44377932e-05,\n",
              "        -4.38133857e-05, -3.07120830e-05,  4.13821630e-05, -6.73538073e-05,\n",
              "        -2.63697497e-05,  2.21528168e-05, -7.13617757e-05,  8.13831209e-05,\n",
              "        -2.11829780e-05, -6.52342284e-05,  2.98316300e-05, -1.58767787e-05,\n",
              "         1.62304666e-04, -1.87534818e-05, -9.24598126e-05, -3.38575405e-05,\n",
              "        -5.07670818e-06, -6.16957453e-05,  8.12145793e-06,  2.84738247e-05,\n",
              "         1.48267649e-04, -7.52539544e-05, -2.88517633e-05, -2.65210972e-05,\n",
              "         5.62607236e-05, -4.82437767e-05,  8.08272022e-05, -1.69757220e-05,\n",
              "         4.25705255e-06,  4.11911520e-05, -4.96325221e-05,  8.86866829e-05,\n",
              "        -4.30035612e-05,  1.26268809e-04, -3.40138513e-05, -7.21418202e-05,\n",
              "        -1.88916169e-05, -1.18843867e-05,  1.16689062e-04,  1.18165490e-05,\n",
              "         8.26383056e-06, -2.32238948e-05, -9.19007997e-05, -8.90034583e-06,\n",
              "        -1.90299605e-05,  5.97362507e-05, -5.42635235e-05, -1.02002259e-04,\n",
              "         3.21943401e-05,  1.17988819e-05,  1.80320283e-05, -8.00111038e-05,\n",
              "        -5.54430408e-05, -1.48705560e-05,  1.80568765e-05, -1.33892766e-05,\n",
              "        -8.09719028e-05, -2.79700290e-05, -3.53492674e-05, -5.14961630e-05,\n",
              "        -2.99714108e-05, -2.18944523e-05, -3.05162627e-05,  3.72651435e-05,\n",
              "        -4.85546879e-05, -3.76730861e-05,  7.67915449e-06,  2.28803384e-05,\n",
              "         1.16760921e-04, -3.22813280e-05,  9.74228741e-05,  3.72836457e-05,\n",
              "        -8.60150298e-05, -8.98300358e-05,  8.94689729e-05,  1.44068636e-05,\n",
              "         4.24292793e-05, -8.88280331e-05,  1.38712413e-05, -6.34895552e-05,\n",
              "        -3.55117265e-05,  2.39994970e-05,  6.46444290e-05,  5.09774724e-05,\n",
              "        -9.17724598e-06, -4.32376953e-05,  3.43800909e-05,  2.03995953e-05,\n",
              "         1.36473984e-05,  2.67908365e-05, -2.18205309e-05, -2.87622379e-05,\n",
              "         8.38352744e-05, -2.13015998e-05,  2.46971060e-05, -8.47858025e-05,\n",
              "        -6.96064950e-05, -5.47786350e-05, -3.00937512e-05,  2.49177596e-04,\n",
              "         9.87211944e-06,  3.09852415e-05, -6.06293064e-05, -5.43101827e-05,\n",
              "        -7.24800875e-05,  8.61420006e-05,  5.02245109e-05, -7.02427160e-06,\n",
              "         1.78181860e-06, -3.05809907e-05,  6.44541093e-05,  7.42396566e-05,\n",
              "         2.73711223e-05, -4.31197335e-05, -8.21020616e-05, -3.56598361e-05,\n",
              "        -1.01303760e-04,  7.00865192e-05,  1.35185369e-04, -5.90399172e-05,\n",
              "         3.13990196e-06,  6.78458270e-05, -1.25777327e-05, -4.46407422e-05,\n",
              "        -7.82014349e-06, -4.34010790e-05,  9.53915544e-05, -3.32932898e-05,\n",
              "         6.89120219e-05,  6.02313532e-06, -8.22312419e-06,  1.16274923e-05,\n",
              "        -3.32173535e-05,  2.56052715e-05, -8.32212540e-05, -7.02569081e-05,\n",
              "        -9.34194607e-05, -6.08935874e-05,  3.86621483e-05,  8.18733141e-05,\n",
              "         1.08616056e-04,  6.19541752e-05,  8.07631862e-05, -2.23845060e-05,\n",
              "         4.85583279e-05,  1.02379272e-06, -2.65409804e-06,  9.68920974e-05,\n",
              "        -3.14112250e-05, -9.95144526e-05, -9.41945008e-05, -1.54338963e-05]),\n",
              " 0.002)"
            ]
          },
          "metadata": {},
          "execution_count": 233
        }
      ]
    },
    {
      "cell_type": "markdown",
      "source": [
        "# Adult"
      ],
      "metadata": {
        "id": "H_4TptyDAgNP"
      }
    },
    {
      "cell_type": "code",
      "source": [
        "data = pd.read_csv('/Users/ritwikvashistha/Downloads/adult.csv')\n",
        "#data=data.sample(frac=0.02,random_state=1)\n",
        "# Convert categorical variables into one-hot encoding\n",
        "categorical = ['workclass', 'education', 'marital-status', 'occupation',\n",
        "               'relationship', 'race', 'gender', 'native-country', 'income']\n",
        "for name in categorical:\n",
        "    one_hot = pd.get_dummies(data[name], prefix=name)\n",
        "    data = data.drop(name, axis=1)\n",
        "    data = data.join(one_hot)\n",
        "\n",
        "\n",
        "\n",
        "# Split data into X and y\n",
        "y = data['income_<=50K']\n",
        "X = data.drop(['income_<=50K','income_>50K'], axis=1)\n",
        "\n",
        "\n",
        "# Split the dataset into a training set and a test set\n",
        "X_train, X_test, y_train, y_test, condition_train, condition_test = train_test_split(X, y, data.index, test_size=0.25,random_state=1)\n",
        "\n",
        "categorical_columns = ['workclass', 'education', 'marital-status', 'occupation',\n",
        "                       'relationship', 'race', 'gender', 'native-country']\n",
        "# Drop one column from each set of dummy variables to avoid multicollinearity\n",
        "for col in categorical_columns:\n",
        "    dummy_cols = [c for c in X_train.columns if c.startswith(col)]\n",
        "    X_train = X_train.drop(dummy_cols[-1], axis=1)\n",
        "    X_test = X_test.drop(dummy_cols[-1], axis=1)\n"
      ],
      "metadata": {
        "id": "RrZdG7T7eNoi"
      },
      "execution_count": null,
      "outputs": []
    },
    {
      "cell_type": "code",
      "source": [
        "scaler = StandardScaler()\n",
        "X_train_scaled = scaler.fit_transform(X_train)\n",
        "X_test_scaled = scaler.transform(X_test)\n",
        "\n",
        "X_train_tensor = torch.FloatTensor(X_train_scaled)\n",
        "\n",
        "X_test_tensor = torch.FloatTensor(X_test_scaled)\n",
        "\n",
        "\n",
        "y_train_tensor = torch.tensor(y_train.values, dtype=torch.long)\n",
        "y_test_tensor = torch.tensor(y_test.values, dtype=torch.long)\n",
        "\n",
        "train_dataset = TensorDataset(X_train_tensor, y_train_tensor)\n",
        "train_loader = DataLoader(train_dataset, batch_size=32, shuffle=True)"
      ],
      "metadata": {
        "id": "gvlzNMg0g8xT"
      },
      "execution_count": null,
      "outputs": []
    },
    {
      "cell_type": "code",
      "source": [
        "# Train with standard cross-entropy loss\n",
        "model_ce = LogisticRegressionNN(input_dim=100)\n",
        "optimizer_ce = optim.Adam(model_ce.parameters(), lr=0.01)\n",
        "train_model(model_ce, lambda x, y, z: nn.CrossEntropyLoss()(z, y), optimizer_ce)"
      ],
      "metadata": {
        "colab": {
          "base_uri": "https://localhost:8080/"
        },
        "id": "E4LW5QbfhPlT",
        "outputId": "6a96f08b-3986-4e8e-b6b7-dce999c81560"
      },
      "execution_count": null,
      "outputs": [
        {
          "output_type": "stream",
          "name": "stdout",
          "text": [
            "Epoch 10, Loss: 0.1783\n",
            "Epoch 20, Loss: 0.4776\n",
            "Epoch 30, Loss: 0.6642\n",
            "Epoch 40, Loss: 0.1472\n",
            "Epoch 50, Loss: 0.1343\n",
            "Epoch 60, Loss: 0.4799\n",
            "Epoch 70, Loss: 0.2590\n",
            "Epoch 80, Loss: 0.5255\n",
            "Epoch 90, Loss: 0.2621\n",
            "Epoch 100, Loss: 0.2345\n"
          ]
        }
      ]
    },
    {
      "cell_type": "code",
      "source": [
        "# Train with mixed loss (including kernel-based calibration)\n",
        "model_mixed = LogisticRegressionNN(input_dim=100)\n",
        "mixed_loss = ClassificationMixedLoss(\n",
        "    loss_scalers={\"nll\": 1.0, \"mmd\": 0.7},\n",
        "    operands={'x': \"rbf\", 'y': \"rbf\"},\n",
        "    scalers={'x': 1.0, 'y': 1.0},\n",
        "    bandwidths={'x': 25, 'y': 1}\n",
        ")\n",
        "optimizer_mixed = optim.Adam(model_mixed.parameters(), lr=0.01)\n",
        "train_model(model_mixed, mixed_loss, optimizer_mixed)"
      ],
      "metadata": {
        "colab": {
          "base_uri": "https://localhost:8080/"
        },
        "id": "w3k5mKvihmNS",
        "outputId": "2c655fc5-ac7d-468e-acd7-4a47582cc0d9"
      },
      "execution_count": null,
      "outputs": [
        {
          "output_type": "stream",
          "name": "stdout",
          "text": [
            "Epoch 10, Loss: 0.3538\n",
            "Epoch 20, Loss: 0.1948\n",
            "Epoch 30, Loss: 0.3652\n",
            "Epoch 40, Loss: 0.3206\n",
            "Epoch 50, Loss: 0.6892\n",
            "Epoch 60, Loss: 0.2853\n",
            "Epoch 70, Loss: 0.7337\n",
            "Epoch 80, Loss: 0.5055\n",
            "Epoch 90, Loss: 0.3381\n",
            "Epoch 100, Loss: 0.4247\n"
          ]
        }
      ]
    },
    {
      "cell_type": "code",
      "source": [
        "# Train with MMCEMixedLoss\n",
        "model_mmce = LogisticRegressionNN(input_dim=100)\n",
        "mmce_loss = MMCEMixedLoss(\n",
        "    loss_scalers={\"nll\": 1.0, \"mmce\": 0.7}\n",
        ")\n",
        "optimizer_mmce = optim.Adam(model_mmce.parameters(), lr=0.01)\n",
        "train_model(model_mmce, mmce_loss, optimizer_mmce)"
      ],
      "metadata": {
        "colab": {
          "base_uri": "https://localhost:8080/"
        },
        "id": "xJyzS45MidMR",
        "outputId": "00428625-6d0a-4dc5-e2e5-0ffb7d9cf2d2"
      },
      "execution_count": null,
      "outputs": [
        {
          "output_type": "stream",
          "name": "stdout",
          "text": [
            "Epoch 10, Loss: 0.4929\n",
            "Epoch 20, Loss: 0.8235\n",
            "Epoch 30, Loss: 0.5974\n",
            "Epoch 40, Loss: 0.6649\n",
            "Epoch 50, Loss: 0.5216\n",
            "Epoch 60, Loss: 0.4536\n",
            "Epoch 70, Loss: 0.4032\n",
            "Epoch 80, Loss: 0.4650\n",
            "Epoch 90, Loss: 0.5773\n",
            "Epoch 100, Loss: 0.3888\n"
          ]
        }
      ]
    },
    {
      "cell_type": "code",
      "source": [
        "model_ce.eval()\n",
        "with torch.no_grad():\n",
        "  logits = model_ce(X_test_tensor)\n",
        "  probs = torch.softmax(logits, dim=1)[:, 1]\n",
        "probs_ce = probs.numpy()\n",
        "\n",
        "model_mixed.eval()\n",
        "with torch.no_grad():\n",
        "  logits = model_mixed(X_test_tensor)\n",
        "  probs = torch.softmax(logits, dim=1)[:, 1]\n",
        "probs_mixed = probs.numpy()\n",
        "\n",
        "model_mmce.eval()\n",
        "with torch.no_grad():\n",
        "  logits = model_mmce(X_test_tensor)\n",
        "  probs = torch.softmax(logits, dim=1)[:, 1]\n",
        "probs_mmce = probs.numpy()"
      ],
      "metadata": {
        "id": "9FOKCwkmlYpS"
      },
      "execution_count": null,
      "outputs": []
    },
    {
      "cell_type": "code",
      "source": [
        "def expected_calibration_error(y_true, y_prob):\n",
        "    prob_true, prob_pred  = calibration_curve(y_true, y_prob, n_bins=10)\n",
        "    return (np.sum(np.abs(prob_true - prob_pred)) / len(prob_true))\n",
        "\n",
        "# Evaluate both models\n",
        "ece_ce= expected_calibration_error(y_test_tensor,probs_ce)\n",
        "ece_mixed = expected_calibration_error(y_test_tensor,probs_mixed)\n",
        "ece_mmce = expected_calibration_error(y_test_tensor,probs_mmce)\n",
        "\n",
        "print(f\"ECE (Cross-Entropy): {ece_ce:.4f}\")\n",
        "print(f\"ECE (MMD Mixed Loss): {ece_mixed:.4f}\")\n",
        "print(f\"ECE (MMCE Mixed Loss): {ece_mmce:.4f}\")"
      ],
      "metadata": {
        "colab": {
          "base_uri": "https://localhost:8080/"
        },
        "id": "FZCnJ0X-eD1E",
        "outputId": "41f4a233-e2c2-4636-c126-f23a45e29384"
      },
      "execution_count": null,
      "outputs": [
        {
          "output_type": "stream",
          "name": "stdout",
          "text": [
            "ECE (Cross-Entropy): 0.0478\n",
            "ECE (MMD Mixed Loss): 0.0360\n",
            "ECE (MMCE Mixed Loss): 0.0680\n"
          ]
        }
      ]
    },
    {
      "cell_type": "code",
      "source": [
        "brier_ce = brier_score_loss(y_test, probs_ce)\n",
        "brier_mixed = brier_score_loss(y_test, probs_mixed)\n",
        "#brier_ecekde=brier_score_loss(y_test, probs_ecekde)\n",
        "brier_mmce = brier_score_loss(y_test, probs_mmce)\n",
        "\n",
        "print(f\"Brier score (Cross-Entropy): {brier_ce:.4f}\")\n",
        "print(f\"Brier score (MMD Mixed Loss): {brier_mixed:.4f}\")\n",
        "#print(f\"Brier score (ECEKDE Mixed Loss): {brier_ecekde:.4f}\")\n",
        "print(f\"Brier score (MMCE Mixed Loss): {brier_mmce:.4f}\")\n"
      ],
      "metadata": {
        "colab": {
          "base_uri": "https://localhost:8080/"
        },
        "id": "C9ObtxEeld_X",
        "outputId": "10121d11-5fc5-4445-cc06-681ff66dd74d"
      },
      "execution_count": null,
      "outputs": [
        {
          "output_type": "stream",
          "name": "stdout",
          "text": [
            "Brier score (Cross-Entropy): 0.1080\n",
            "Brier score (MMD Mixed Loss): 0.1092\n",
            "Brier score (MMCE Mixed Loss): 0.1145\n"
          ]
        }
      ]
    },
    {
      "cell_type": "code",
      "source": [
        "from sklearn.calibration import calibration_curve  # Import calibration_curve\n",
        "\n",
        "def plot_calibration_curve(y_true, y_prob, n_bins=10):\n",
        "    prob_true, prob_pred = calibration_curve(y_true, y_prob, n_bins=n_bins)\n",
        "    plt.plot(prob_pred, prob_true, marker='o')\n",
        "    plt.plot([0, 1], [0, 1], linestyle='--')\n",
        "    plt.xlabel('Mean predicted probability')\n",
        "    plt.ylabel('Fraction of positives')\n",
        "\n",
        "plt.figure(figsize=(10, 5))\n",
        "\n",
        "plt.subplot(1, 2, 1)\n",
        "plot_calibration_curve(y_test_tensor, probs_ce)\n",
        "plt.title('Original Calibration')\n",
        "\n",
        "plt.subplot(1, 2, 2)\n",
        "plot_calibration_curve(y_test_tensor, probs_mixed)\n",
        "plt.title('Recalibrated Calibration')\n",
        "\n",
        "plt.tight_layout()\n",
        "plt.show()"
      ],
      "metadata": {
        "colab": {
          "base_uri": "https://localhost:8080/",
          "height": 488
        },
        "id": "rvwp1GiZlnEk",
        "outputId": "7295f267-31b3-48ce-c6de-a29f1f543e4d"
      },
      "execution_count": null,
      "outputs": [
        {
          "output_type": "display_data",
          "data": {
            "text/plain": [
              "<Figure size 1000x500 with 2 Axes>"
            ],
            "image/png": "[encoded data removed]"
          },
          "metadata": {}
        }
      ]
    },
    {
      "cell_type": "code",
      "source": [
        "result_mixed_adult=ELCE2(X_test[['age','gender_Female']].values, y_test.values ,probs_mixed, kernel_function=\"rbf\", prob_kernel_width=0.1, iterations=500, use_diffusion_distance=False, verbose=True,random_state=None, n_jobs=1,gamma=25)\n",
        "result_mmce_adult=ELCE2(X_test[['age','gender_Female']].values, y_test.values ,probs_mmce, kernel_function=\"rbf\", prob_kernel_width=0.1, iterations=500, use_diffusion_distance=False, verbose=True,random_state=None, n_jobs=1,gamma=25)\n",
        "result_ce_adult=ELCE2(X_test[['age','gender_Female']].values, y_test.values ,probs_ce, kernel_function=\"rbf\", prob_kernel_width=0.1, iterations=500, use_diffusion_distance=False, verbose=True,random_state=None, n_jobs=1,gamma=25)"
      ],
      "metadata": {
        "id": "hd_rpOGXmOpN"
      },
      "execution_count": null,
      "outputs": []
    },
    {
      "cell_type": "code",
      "source": [
        "result_mixed_adult"
      ],
      "metadata": {
        "colab": {
          "base_uri": "https://localhost:8080/"
        },
        "id": "srhlI4E5F-H5",
        "outputId": "cc583a87-a52e-4bbf-f7f5-2cb7bc9ae99c"
      },
      "execution_count": null,
      "outputs": [
        {
          "output_type": "execute_result",
          "data": {
            "text/plain": [
              "(0.0015183926535610257,\n",
              " array([ 1.15426698e-04,  2.04909599e-04,  1.57248353e-04, -1.09183228e-04,\n",
              "        -3.43478371e-04, -1.05584603e-04,  1.72699001e-04, -1.17873568e-05,\n",
              "        -9.66017586e-05,  1.23904136e-04, -8.41458322e-05, -1.73849776e-04,\n",
              "         1.37620893e-04,  1.02378877e-04, -1.69545237e-04,  1.22415136e-04,\n",
              "         3.15305155e-04,  3.35995745e-04, -5.58782134e-05, -6.74159276e-05,\n",
              "        -8.00473061e-05, -1.20235744e-04, -1.14432203e-04,  2.30068684e-04,\n",
              "         1.80926553e-04, -7.82969890e-05, -2.01619982e-04,  3.42251679e-05,\n",
              "        -3.02779668e-04,  2.12727237e-04,  9.77145260e-05,  4.27015414e-04,\n",
              "        -1.16875663e-04,  1.01750212e-04,  1.97534081e-04,  1.80568495e-04,\n",
              "         2.99290029e-04, -1.66089308e-04, -1.46723747e-04,  1.12891124e-04,\n",
              "        -2.87113961e-04, -2.68650921e-04, -2.84603003e-04,  1.54385660e-04,\n",
              "         8.49821487e-06, -2.33104448e-04,  2.15724737e-05,  3.40950840e-05,\n",
              "        -1.05159703e-04, -9.44924398e-05, -2.08552555e-04, -2.99572449e-04,\n",
              "         3.90859034e-05,  6.19961341e-05,  1.13854100e-04, -1.35153136e-04,\n",
              "         1.59298397e-04, -3.67308492e-05, -1.40973441e-04,  2.51852307e-04,\n",
              "        -1.71728073e-04,  2.43762598e-04,  2.17922741e-04, -1.24358443e-04,\n",
              "         1.23842247e-04, -9.44991145e-05, -1.10540589e-04, -2.32974193e-04,\n",
              "        -1.72282374e-04,  2.99241840e-05,  1.43743227e-04, -2.62673738e-04,\n",
              "         6.77549225e-05, -3.77825136e-04,  3.22225812e-04,  9.38017261e-05,\n",
              "         5.14421711e-05,  7.82325095e-05,  1.70635293e-05,  2.61130531e-04,\n",
              "         1.67161738e-04,  7.29799002e-05, -3.66343314e-05,  2.26568260e-05,\n",
              "         7.20593153e-05, -1.09255260e-05,  1.02136497e-04, -3.44784551e-05,\n",
              "        -2.71685232e-05, -2.90462059e-04,  1.51861259e-04,  1.96058413e-04,\n",
              "         1.22007040e-04, -1.32883800e-04, -1.65255161e-05,  9.97624207e-05,\n",
              "         2.76514527e-04,  8.50473569e-05, -1.21825731e-04, -1.95686581e-05,\n",
              "         1.68729805e-04, -6.22768004e-05, -1.19447351e-04,  4.70819660e-04,\n",
              "        -2.03293946e-04,  2.47431812e-05,  4.13007485e-05, -1.16238270e-04,\n",
              "        -1.68573254e-04,  3.00683796e-04,  3.43689562e-05,  2.33380956e-04,\n",
              "        -7.74562860e-05,  3.41157374e-04, -2.63548337e-04, -1.59928579e-04,\n",
              "        -5.37286022e-05, -7.11795163e-05, -1.60197445e-04,  2.07316867e-04,\n",
              "         1.65470591e-04,  1.44792908e-05, -1.03275312e-04, -1.70726658e-04,\n",
              "         2.40601100e-04, -1.02070405e-04,  2.04979984e-04,  2.42025611e-05,\n",
              "        -5.69213555e-05, -1.85305128e-04, -1.25859293e-04,  1.54595988e-04,\n",
              "         1.54995602e-04,  9.81924126e-05, -9.99814521e-05, -9.33675127e-05,\n",
              "        -1.36517474e-04, -8.74694333e-05, -6.97253176e-05,  8.78269051e-05,\n",
              "         3.57898358e-04,  1.23268393e-04, -1.95360544e-04,  3.06869700e-04,\n",
              "         2.67662246e-04, -1.41109204e-04,  5.21001185e-05,  5.92534148e-05,\n",
              "         2.49894711e-05,  6.93956079e-05, -9.38842651e-05,  4.96468883e-05,\n",
              "        -1.95319432e-04,  1.74257142e-04, -1.05717809e-04,  2.17995177e-04,\n",
              "        -1.37833377e-05, -2.24240276e-04, -5.55852660e-05, -3.58297300e-05,\n",
              "        -5.39767197e-05, -7.00085781e-05, -1.06350372e-04, -1.55799144e-04,\n",
              "         6.31558122e-05, -3.16861490e-07,  2.29630982e-05, -1.26650530e-04,\n",
              "        -1.83416173e-04,  5.07772381e-05,  1.11827263e-04, -1.71461880e-04,\n",
              "        -2.81611684e-04, -9.49941993e-05, -2.58122306e-04, -2.09775109e-04,\n",
              "         1.59232195e-04, -1.29904942e-04,  3.28300352e-04,  1.53361272e-04,\n",
              "         2.71137045e-04,  4.28843604e-04, -6.88714415e-05,  1.21194384e-04,\n",
              "        -1.24176660e-04,  5.24258676e-05,  3.77791198e-05, -2.17348349e-04,\n",
              "         1.64314832e-05, -2.76324293e-04,  2.83915075e-05, -2.59037028e-04,\n",
              "        -9.12942193e-05,  1.13317809e-04,  9.94157586e-05, -8.05941889e-05,\n",
              "        -1.22543126e-04, -9.03669336e-05, -3.61035395e-04, -2.69218104e-04,\n",
              "        -1.31071013e-04, -4.35311872e-05,  3.40947262e-05,  2.97079860e-04,\n",
              "        -5.78221135e-05,  3.07475491e-04, -1.88556133e-06, -1.13189280e-04,\n",
              "         1.34122489e-04, -2.00756499e-04,  3.60295008e-04, -4.90601442e-05,\n",
              "        -3.22730935e-05, -9.24851628e-05,  2.34153817e-04, -2.12854747e-04,\n",
              "         9.65103329e-05, -2.77432779e-04,  1.80800948e-04, -9.82052549e-05,\n",
              "        -5.04232290e-05,  1.33501401e-04, -1.54928835e-04,  1.37380252e-05,\n",
              "        -1.38242334e-05, -3.83134932e-04, -5.50127402e-05,  1.20364766e-04,\n",
              "         7.13671474e-05,  1.36505460e-04, -2.26899989e-04,  3.16974361e-04,\n",
              "         6.91730363e-05, -3.24740438e-04, -3.85374156e-05, -2.22507884e-04,\n",
              "        -3.06724663e-04,  9.77180807e-05, -6.76140578e-05,  5.06987631e-05,\n",
              "         2.99924764e-05, -1.16458704e-04,  1.68222156e-04, -1.05309145e-04,\n",
              "         3.50186363e-04, -1.23010110e-05, -2.93015202e-04,  8.86108200e-05,\n",
              "        -1.88563134e-04,  2.43996758e-04, -1.31811628e-04,  1.96948174e-04,\n",
              "        -2.03120511e-04, -9.58559464e-05, -1.65462314e-04,  1.77740647e-04,\n",
              "        -1.48655296e-04, -1.07561887e-04, -1.36940727e-04,  1.41716002e-04,\n",
              "        -1.14399136e-04, -2.58148656e-05, -4.29419591e-04, -1.64894178e-05,\n",
              "         1.33444000e-04, -1.04181456e-04,  2.35657922e-05, -1.40295855e-04,\n",
              "         1.20395736e-04,  2.41900087e-04,  1.44580962e-04,  7.83010275e-05,\n",
              "        -4.46129875e-05,  1.47663395e-04, -3.19968183e-04,  1.25264527e-04,\n",
              "         3.04371709e-04,  1.75771570e-04, -1.42700542e-05,  1.52154032e-05,\n",
              "        -8.44806456e-05,  2.13241971e-04,  1.98006365e-04,  6.44788464e-04,\n",
              "         9.00286599e-05, -1.09936374e-04, -2.57646646e-04, -2.42379111e-04,\n",
              "         9.05998864e-05, -2.62157735e-04, -5.05254411e-06,  1.28925269e-04,\n",
              "        -4.48553045e-05, -3.47838445e-04,  1.98016393e-04, -1.94335965e-04,\n",
              "        -3.91043760e-05, -1.43312954e-04, -2.02332032e-04, -3.96717775e-05,\n",
              "         2.22234095e-04,  2.38057098e-04, -6.66303247e-05, -3.08644359e-04,\n",
              "        -1.27441459e-04,  2.73168415e-04,  3.04632128e-04, -9.56800875e-05,\n",
              "        -1.84815228e-04,  1.97959507e-04,  4.74158025e-04,  1.42339406e-05,\n",
              "        -1.24352769e-04,  3.10647427e-05, -1.57536581e-04,  1.50058473e-04,\n",
              "        -1.98462908e-04, -2.38009877e-04,  1.41190386e-04, -1.37040441e-04,\n",
              "         1.84831909e-04, -2.02386153e-04, -1.85138086e-05, -5.32595192e-05,\n",
              "         2.26735326e-04, -2.69009259e-04,  2.40157715e-04,  1.94127462e-04,\n",
              "         2.10323801e-04,  2.49651225e-04, -6.90983806e-05, -2.44441479e-04,\n",
              "        -4.47950947e-05, -3.02273302e-04, -2.79221657e-05,  3.15260889e-05,\n",
              "        -1.74041497e-04,  1.88490476e-04,  5.98505477e-04, -2.17518988e-04,\n",
              "        -3.67765419e-04, -1.49636086e-05, -8.77524378e-05,  1.91290181e-04,\n",
              "         8.50973793e-05, -8.12024049e-05,  1.38242055e-04, -2.52831108e-04,\n",
              "         4.00608551e-06,  2.29364497e-04, -4.92443640e-05, -4.11096235e-05,\n",
              "        -9.22293515e-05,  6.42287716e-05,  4.47266649e-05,  7.94570426e-05,\n",
              "        -2.10435260e-05, -1.73916834e-04,  3.54474554e-04,  9.19511897e-05,\n",
              "        -9.78171252e-05,  1.38970468e-04,  2.85381827e-05, -7.06047072e-05,\n",
              "         1.48306808e-04, -2.29766085e-05,  1.04575202e-04, -2.30087217e-04,\n",
              "         1.68691539e-04, -2.74697269e-05,  1.27640971e-04,  1.86056014e-04,\n",
              "        -2.35634157e-05,  1.52042947e-04, -1.18099537e-04, -5.04177973e-04,\n",
              "        -4.18154296e-05, -6.60740254e-05, -9.97296843e-05,  9.04531908e-05,\n",
              "        -3.00359065e-04,  3.57781674e-05, -5.41865161e-05, -1.05238547e-04,\n",
              "        -1.00732548e-04,  1.50261132e-04, -3.40972498e-04, -1.18269988e-04,\n",
              "        -6.07537592e-05,  6.56002169e-05,  1.33656694e-04,  3.25280305e-04,\n",
              "        -4.16381210e-04, -5.02465688e-05, -2.46245016e-04, -2.03098728e-04,\n",
              "         3.37547708e-04, -3.61128181e-04, -3.22473266e-04,  4.49826580e-04,\n",
              "        -1.96313560e-04,  1.94194546e-04,  4.95192412e-05, -1.40067665e-04,\n",
              "         2.83182424e-04, -1.19668245e-04,  2.48947283e-04, -2.48952836e-04,\n",
              "        -1.65098653e-04,  1.63869775e-04,  4.04483241e-05, -4.54223940e-05,\n",
              "        -8.97422438e-05,  2.84846297e-04,  1.76265512e-04, -2.39975533e-04,\n",
              "        -1.25394722e-04,  1.99312423e-04,  1.11214757e-04, -4.50664027e-05,\n",
              "         8.77327614e-05, -2.81252798e-04,  1.79124769e-04,  4.86623636e-05,\n",
              "         4.51972518e-04,  3.05702841e-04, -9.04368859e-05, -1.76082169e-04,\n",
              "        -1.41530743e-04,  5.95718140e-05, -1.66816975e-04, -8.00606040e-06,\n",
              "        -1.77043741e-04, -9.22131367e-06, -8.76003684e-05,  1.80451475e-04,\n",
              "         1.17757658e-04,  1.78567275e-04,  1.82420019e-04, -9.25859095e-05,\n",
              "        -9.17455378e-05, -1.47102605e-04, -2.66565206e-04, -6.21561823e-07,\n",
              "        -1.18838226e-04, -6.21409814e-05, -1.91866586e-04,  1.14566756e-05,\n",
              "         4.69559132e-04, -1.22694029e-05,  7.54944646e-06, -1.58814745e-04,\n",
              "         1.35404917e-05, -1.07889441e-04, -2.08828427e-04,  2.29465325e-04,\n",
              "         8.55256016e-05,  1.42476717e-04, -9.04359430e-05,  1.27909492e-05,\n",
              "         1.86151688e-04, -7.58982433e-05,  2.38828405e-04,  1.61527875e-04,\n",
              "         6.42918006e-06, -6.95374424e-05,  2.37478238e-04, -7.86425997e-05,\n",
              "        -1.70271962e-04, -7.56243498e-05,  4.13604141e-05,  9.70183050e-05,\n",
              "        -4.02080991e-05,  1.33513738e-04, -6.53724347e-05, -7.27015358e-05,\n",
              "        -4.15504172e-04, -3.22508591e-04,  8.68329190e-05,  2.38728837e-04,\n",
              "         3.58200823e-04, -9.32540446e-07,  1.02222451e-04, -6.08062371e-05,\n",
              "        -4.00444525e-05,  3.05441846e-04,  1.34800158e-04,  1.38150086e-05,\n",
              "         4.91209295e-05,  7.83734070e-05, -1.08065458e-04, -5.92179336e-05,\n",
              "         3.42210476e-04,  8.66880085e-06, -7.48456941e-06,  1.09892021e-04,\n",
              "        -3.74998879e-05, -6.49763907e-05, -1.41670050e-04, -2.19591426e-04]),\n",
              " 0.002)"
            ]
          },
          "metadata": {},
          "execution_count": 248
        }
      ]
    },
    {
      "cell_type": "code",
      "source": [
        "result_mmce_adult"
      ],
      "metadata": {
        "colab": {
          "base_uri": "https://localhost:8080/"
        },
        "id": "Y27_MV6VJvWs",
        "outputId": "ae778ec5-78d2-4be8-aa13-e9ca51e9a759"
      },
      "execution_count": null,
      "outputs": [
        {
          "output_type": "execute_result",
          "data": {
            "text/plain": [
              "(0.0014719580975761975,\n",
              " array([-1.03742429e-04, -2.68623541e-04, -1.33786067e-05, -2.56072985e-04,\n",
              "         9.02405084e-05, -1.19115411e-04, -6.67975702e-05,  4.28845267e-05,\n",
              "        -1.32669026e-04, -1.51035734e-04, -2.15312414e-04,  4.81312143e-05,\n",
              "         2.41766853e-04, -6.29721020e-05,  1.68638729e-04, -2.40021594e-04,\n",
              "         1.69476681e-04,  2.05822704e-04, -2.23460867e-05, -3.33613162e-04,\n",
              "         1.09634905e-04, -2.49666860e-04, -1.53351161e-04, -1.20650253e-04,\n",
              "        -2.72087118e-04, -4.56593282e-05, -8.77464372e-06, -3.64364617e-05,\n",
              "        -1.87437343e-04, -1.03249464e-05, -3.69836004e-05,  2.90243900e-04,\n",
              "         3.04839995e-04,  3.93921495e-04,  2.23900832e-04,  2.21272006e-05,\n",
              "        -7.96698937e-07,  2.11152456e-04,  5.80176895e-05,  1.25625681e-04,\n",
              "         1.72422071e-04,  4.27874196e-04,  3.51918808e-05,  9.85316338e-05,\n",
              "         1.60215366e-04, -9.25869436e-05,  1.48347913e-04, -1.49446498e-04,\n",
              "         2.95016327e-04, -1.79988863e-04,  4.70568119e-04,  2.06359817e-04,\n",
              "        -1.49969474e-04, -2.75705500e-04, -2.92838430e-04,  1.95965213e-06,\n",
              "        -1.06126545e-04, -1.34088627e-04,  2.21078029e-04,  1.61323506e-05,\n",
              "        -1.09826434e-04,  1.39180510e-04,  2.50407809e-04, -4.57619416e-04,\n",
              "         7.07503524e-05,  3.48387687e-04, -2.65264332e-04,  2.09949898e-04,\n",
              "        -1.95679436e-04, -1.64988396e-05, -1.40285069e-05, -1.70369151e-04,\n",
              "         3.54444065e-04, -1.32483236e-04,  2.97511944e-05, -7.45064273e-05,\n",
              "         1.46595241e-04,  2.14279627e-05,  2.62205151e-04, -3.49287542e-05,\n",
              "         2.68392159e-04,  2.27545631e-04, -2.11222115e-04, -4.82295097e-05,\n",
              "        -1.25300064e-04, -3.85547595e-04, -1.67625173e-04,  2.98305396e-04,\n",
              "         3.63148379e-05, -1.95834638e-04, -1.74681539e-04, -1.97506596e-05,\n",
              "         1.72260056e-04,  2.44752697e-04, -5.32013644e-08,  2.10735626e-05,\n",
              "        -1.04417997e-05,  1.39168892e-04, -4.83834846e-05,  5.47187258e-05,\n",
              "         1.58066422e-04, -9.90825859e-05,  3.44725362e-05, -2.52898605e-05,\n",
              "         1.66614246e-04, -6.06373850e-05, -5.80157542e-05,  3.06465158e-04,\n",
              "        -9.22058727e-05,  1.74555688e-04, -2.59355987e-05, -4.81043695e-06,\n",
              "         1.94825770e-04,  2.58191324e-04,  5.04092945e-04, -4.21174753e-05,\n",
              "         2.99244534e-04, -2.00554854e-05,  1.55448312e-04,  2.88436477e-04,\n",
              "        -3.88281236e-04,  1.79063594e-04, -1.03292116e-04, -6.58116452e-05,\n",
              "        -1.91922460e-04, -4.50417464e-04, -8.27534494e-05, -4.00388436e-04,\n",
              "         2.23116172e-04, -2.06094139e-04, -2.76523353e-05, -2.19812731e-04,\n",
              "         1.81229283e-04, -1.04452432e-06,  7.73589791e-05,  6.63321747e-05,\n",
              "         1.63604341e-04,  3.16328355e-04, -1.46395040e-04, -4.43294795e-04,\n",
              "         1.12683399e-04,  7.29422357e-05, -2.12397461e-07, -2.54344989e-04,\n",
              "         2.43631214e-04, -1.39548679e-04,  1.65949325e-05,  4.28787421e-05,\n",
              "         2.27726199e-05,  3.22767375e-04,  1.55971309e-05,  1.62322734e-05,\n",
              "        -3.33126892e-04, -1.48502695e-04, -1.24615907e-04, -1.79868430e-04,\n",
              "        -4.91917086e-05,  6.47055121e-05, -6.39442651e-05, -4.69328405e-06,\n",
              "         2.32653539e-04, -4.46128621e-04, -3.86609015e-05, -4.73607754e-05,\n",
              "        -8.63247961e-05, -5.75747230e-05,  3.28463220e-04, -2.30926214e-04,\n",
              "        -6.60141838e-06, -2.82469436e-04,  5.95342125e-05, -3.71909523e-04,\n",
              "         4.36907754e-04, -4.16251799e-04, -1.55270761e-05,  2.25085013e-04,\n",
              "         2.79150918e-04,  1.30699911e-05,  6.14421976e-05,  3.82415410e-04,\n",
              "         3.10831889e-06,  4.63765094e-04, -8.59216433e-05, -2.85121372e-04,\n",
              "         7.95574629e-05,  3.15208923e-04, -1.64308788e-04, -8.48734254e-05,\n",
              "         6.88126033e-06, -1.23515345e-05,  1.51414129e-04, -1.33030140e-04,\n",
              "         3.41950876e-04, -1.83399885e-04,  2.43319851e-04,  1.24494337e-04,\n",
              "         4.12805162e-05, -8.84041104e-05, -2.84303243e-04, -1.02850276e-04,\n",
              "         3.84089532e-05,  2.68096887e-04, -4.46617076e-04, -8.72456204e-05,\n",
              "        -7.80337965e-06, -2.30402900e-04, -4.99335460e-05, -1.62339499e-04,\n",
              "        -3.57626700e-04,  1.07956666e-04,  3.04394779e-04,  4.75183075e-05,\n",
              "        -2.00660184e-04, -6.68747370e-05, -1.49450914e-04, -2.44594967e-04,\n",
              "        -2.19279104e-04, -4.46102248e-05, -3.20881864e-06, -3.55859308e-04,\n",
              "        -2.74785512e-04,  3.02842338e-05, -3.04099332e-04,  2.95060286e-04,\n",
              "         2.32484303e-04, -2.63674804e-04, -2.54575587e-05,  3.68902550e-04,\n",
              "         8.26472495e-04, -2.48373238e-04,  5.51505981e-07,  7.95525795e-05,\n",
              "        -4.21812460e-06, -1.37830699e-04,  7.68030747e-06, -4.42982366e-06,\n",
              "         5.56109581e-06,  4.21327839e-05,  1.33475908e-04,  1.33685000e-04,\n",
              "        -1.64575006e-04, -4.95127728e-04, -1.03761848e-04,  3.21207550e-04,\n",
              "        -8.02184109e-05, -5.02303769e-05, -1.63126036e-04,  2.00201683e-04,\n",
              "        -3.31926930e-05, -2.16192821e-04,  2.54525640e-04,  1.87503648e-04,\n",
              "         2.58132973e-04, -4.45849844e-04, -1.42123012e-04, -1.67123625e-04,\n",
              "        -3.26296469e-04,  1.33594854e-04, -4.49553441e-04,  2.96944540e-04,\n",
              "        -2.07516211e-04,  2.98486181e-04,  2.81256230e-04,  9.75239738e-05,\n",
              "         2.77340481e-04,  6.55645959e-05,  3.22971525e-04, -1.09273336e-04,\n",
              "         2.46873314e-05,  9.28377442e-05, -3.69868093e-05, -1.77869860e-04,\n",
              "         1.24681934e-04, -7.90085505e-05, -7.29969996e-05,  1.31569695e-05,\n",
              "        -1.40892216e-04, -1.01135523e-05, -2.32161563e-04, -1.13154001e-04,\n",
              "        -2.07294036e-05,  5.25473555e-04,  7.09360979e-05,  2.59233838e-04,\n",
              "        -8.86853024e-05,  2.46117366e-05, -2.08067168e-04, -3.85892409e-04,\n",
              "         3.65860792e-04,  5.27319021e-05,  2.57963980e-04,  1.60458600e-04,\n",
              "         3.83131274e-06, -2.13923284e-04, -2.06503546e-04,  5.97863074e-08,\n",
              "         1.40051256e-04, -8.65228629e-05, -1.25234425e-06,  7.80312685e-05,\n",
              "         2.77731079e-05, -1.99773292e-05, -7.55879567e-05,  1.08882120e-04,\n",
              "         9.17566089e-05, -2.37710689e-04, -1.79921890e-04, -2.62355782e-04,\n",
              "        -4.77504370e-05, -2.39290462e-05, -6.57057755e-05, -2.87844522e-05,\n",
              "         6.12210564e-04, -1.33881035e-05,  9.13020180e-05, -3.67751447e-04,\n",
              "        -1.78822892e-04,  3.06179088e-06,  3.15384230e-04,  5.84508478e-04,\n",
              "         4.23218766e-05,  6.06843781e-06,  9.57987255e-07, -3.99643394e-04,\n",
              "         3.57936381e-04, -6.60665106e-05, -7.44705068e-05, -2.72624125e-04,\n",
              "         1.67149219e-04, -2.92574330e-04, -1.23633066e-04,  5.69050554e-05,\n",
              "        -1.52781618e-04, -2.68121133e-04, -7.50991059e-06, -3.12702511e-05,\n",
              "        -1.40698994e-05, -2.09386189e-05, -1.62544480e-04, -2.05030546e-04,\n",
              "         1.93764702e-04, -2.26086286e-04,  1.73517212e-04, -3.35549567e-04,\n",
              "         3.34084071e-04,  2.47644171e-05, -1.58981034e-04, -1.34139726e-05,\n",
              "         2.62121042e-04, -6.11047202e-08, -9.39125529e-05, -4.67845104e-05,\n",
              "        -1.46837762e-04,  2.21205476e-04,  3.03942625e-04,  1.11517391e-04,\n",
              "         1.81422859e-04,  7.12577057e-05,  5.42427936e-05, -3.48169818e-04,\n",
              "         3.36718410e-04, -1.28793090e-04, -2.73403805e-04, -1.81231457e-04,\n",
              "         4.00482596e-05, -1.15262734e-04,  9.48459887e-05,  2.35030840e-04,\n",
              "        -5.81904676e-05, -1.40038323e-04, -1.78978683e-04,  3.23790252e-04,\n",
              "         2.57614497e-04,  2.01978242e-05,  1.47682906e-04,  1.89971832e-05,\n",
              "        -9.05492614e-05,  2.14788878e-04,  1.17873129e-04,  2.58919913e-04,\n",
              "        -2.24292091e-04, -1.20919794e-05,  2.43722651e-04, -2.25270552e-04,\n",
              "         4.53952003e-04,  3.04928328e-06,  5.97119608e-05, -2.17356754e-04,\n",
              "         1.79058994e-04,  1.94934414e-04, -1.73242758e-04, -4.74406078e-05,\n",
              "        -2.84773694e-04, -4.48318610e-04, -1.89715614e-04, -9.61864170e-05,\n",
              "         2.67333877e-04,  9.44975580e-05,  1.09731714e-04,  1.42899070e-04,\n",
              "        -2.11334601e-04,  1.34489587e-04, -1.78807470e-04, -2.23150155e-04,\n",
              "        -6.74242523e-05, -1.09223874e-04,  9.89995634e-06, -7.95557510e-05,\n",
              "         6.46200738e-05,  5.96672109e-05,  3.35161226e-04,  3.17858378e-04,\n",
              "        -1.03322739e-04,  2.60310103e-04,  2.80681540e-04,  1.55520133e-04,\n",
              "         2.92770101e-05,  4.00440872e-04,  3.88892802e-04,  6.85614658e-05,\n",
              "        -1.71195095e-04,  1.42027842e-04, -2.57065581e-04, -5.38978486e-04,\n",
              "         8.90957239e-05, -2.93775619e-04, -9.76747812e-05,  2.65277988e-04,\n",
              "         1.38684413e-04, -2.24142236e-04,  1.11381876e-04, -5.31690729e-05,\n",
              "        -6.32363854e-05, -5.76816806e-04, -2.60792675e-04, -8.55628326e-05,\n",
              "        -6.74392961e-05, -1.34325933e-04, -7.07979872e-05, -1.20750044e-05,\n",
              "        -8.95046070e-05, -5.58977167e-05, -1.29604794e-05, -2.30040561e-04,\n",
              "         2.30771548e-04, -1.70493552e-04, -4.75558851e-05,  1.45777335e-05,\n",
              "        -1.86451785e-04,  7.26769541e-05, -2.74764041e-04, -3.56488519e-04,\n",
              "         1.62937510e-04,  1.20749922e-04,  1.29893674e-04,  1.97841671e-04,\n",
              "         1.55142803e-04,  2.08702447e-04, -3.65951430e-07,  4.60805490e-04,\n",
              "        -2.25624563e-04, -1.53298106e-04, -1.89767659e-04, -1.72319403e-04,\n",
              "         5.44486954e-04,  3.97350170e-05,  2.49872385e-04, -3.22080624e-04,\n",
              "         1.98311529e-04,  1.13749103e-04,  2.47628989e-05,  4.86917295e-05,\n",
              "         1.96493013e-04,  1.81563359e-04, -2.00441178e-04,  2.07894483e-05,\n",
              "        -4.22433423e-05, -5.80723249e-05,  1.63375543e-04,  3.66015054e-05,\n",
              "         7.23321136e-05, -3.37908606e-05,  5.28871429e-05, -8.90128835e-05,\n",
              "        -6.40440402e-05, -1.08691513e-04, -1.45988826e-04, -1.46476760e-04,\n",
              "        -1.49419972e-04,  4.06539932e-05, -2.31563766e-04,  1.04807085e-05,\n",
              "        -4.97823998e-05,  6.41429645e-05, -1.25605974e-05, -1.48007248e-04,\n",
              "         1.20178814e-04,  5.98021774e-05,  5.94611222e-05, -1.15242854e-04]),\n",
              " 0.002)"
            ]
          },
          "metadata": {},
          "execution_count": 249
        }
      ]
    },
    {
      "cell_type": "code",
      "source": [
        "result_ce_adult"
      ],
      "metadata": {
        "colab": {
          "base_uri": "https://localhost:8080/"
        },
        "id": "wyqgR_A1sS2u",
        "outputId": "5bf85be2-516e-4685-8d03-e10c3739a226"
      },
      "execution_count": null,
      "outputs": [
        {
          "output_type": "execute_result",
          "data": {
            "text/plain": [
              "(0.0009193497822704706,\n",
              " array([ 1.13169937e-04,  1.26652612e-04, -2.56899493e-04, -1.44756702e-04,\n",
              "         4.54433490e-05,  6.37750618e-05, -1.74713851e-04,  2.40541412e-05,\n",
              "         3.92056084e-05, -3.11903451e-04,  3.31520591e-04, -1.08673039e-04,\n",
              "        -1.80072291e-04, -2.30163958e-04,  2.20659054e-04, -1.55288709e-04,\n",
              "        -1.18836365e-04,  6.40864428e-05,  1.78637876e-05, -1.16651350e-05,\n",
              "        -1.10550314e-04, -1.48446140e-04, -6.06915332e-05,  4.40172303e-04,\n",
              "        -8.21534044e-05, -1.11159901e-04, -3.21848482e-04,  4.54658939e-05,\n",
              "        -1.39824219e-04,  8.70813433e-05, -1.01112787e-04, -4.22335440e-04,\n",
              "        -2.98498714e-04, -7.08702028e-05,  3.04316203e-05,  5.58016733e-05,\n",
              "         1.00333519e-04, -1.27227726e-04, -1.19490675e-04, -3.21205410e-04,\n",
              "        -3.91862115e-04,  1.80875264e-04, -2.92186958e-05, -8.45102188e-05,\n",
              "        -9.70522960e-05, -1.05194523e-04, -3.33541152e-05, -3.80607615e-05,\n",
              "         3.43321301e-04, -1.10346303e-05, -7.70045720e-05, -3.60266144e-04,\n",
              "        -6.54279398e-05,  2.52107379e-05,  3.37798008e-04,  1.98561660e-04,\n",
              "         1.43619941e-04,  6.24516442e-05,  1.54423527e-04, -1.54203720e-06,\n",
              "         9.13540131e-05,  1.01996327e-04,  2.86977344e-04,  2.65209945e-04,\n",
              "         4.18913825e-06, -2.09196203e-04, -2.84711769e-04,  2.49806796e-04,\n",
              "         3.19603211e-05,  1.59731061e-04, -1.69202226e-04, -5.32861222e-05,\n",
              "        -1.37074051e-04,  3.74254813e-04,  1.70170394e-04,  5.28689919e-05,\n",
              "         9.89138865e-05, -7.10052234e-05, -1.75548320e-04, -5.49263476e-05,\n",
              "        -1.72350513e-05,  1.56738599e-04,  1.59102025e-04, -1.90388997e-04,\n",
              "        -8.90084371e-05,  7.38856764e-05,  1.95290101e-05,  1.99337932e-05,\n",
              "         3.43308000e-05,  2.21609230e-04,  1.49749927e-04, -1.08051529e-04,\n",
              "         1.22681031e-04, -8.85430722e-05, -9.67563931e-05,  2.82086410e-04,\n",
              "        -3.32023668e-04, -1.71119699e-04, -1.64094772e-04,  1.16801717e-04,\n",
              "        -2.90025192e-05, -1.26234549e-04, -9.18637416e-05, -2.61214002e-04,\n",
              "        -2.12535260e-05,  8.09278030e-05,  1.70637671e-04,  2.17885754e-04,\n",
              "        -8.38066990e-05, -3.57280959e-05,  3.76407078e-06,  1.38565241e-04,\n",
              "         4.83910206e-05,  2.86394178e-04,  1.90928984e-04,  3.08495984e-05,\n",
              "        -1.38142019e-04,  2.43125897e-04, -9.26493749e-06,  2.14230088e-04,\n",
              "         3.61725795e-04, -8.14438445e-05, -7.44933087e-05, -2.53772493e-05,\n",
              "        -1.89194525e-04,  2.22550356e-04,  1.01538210e-04,  1.70733956e-04,\n",
              "         1.26641437e-04,  4.62824709e-05, -3.61406086e-05,  6.90529806e-05,\n",
              "         2.71276810e-04,  9.68000458e-05,  2.89979172e-04, -1.31039268e-04,\n",
              "         1.71456485e-04,  3.94208933e-05,  2.39941867e-04, -7.80501193e-06,\n",
              "        -9.55781868e-05, -3.96471794e-05, -3.06345227e-05,  1.13849983e-04,\n",
              "         6.02951190e-05,  3.15495027e-04, -3.67893179e-05,  1.21976212e-04,\n",
              "         1.30735318e-05, -7.71306903e-05, -2.57090858e-04, -1.06888186e-04,\n",
              "        -1.20465604e-04,  1.14505560e-04, -4.81511723e-05, -1.74316652e-04,\n",
              "        -2.72162384e-04, -4.08660530e-04,  8.50058847e-05, -1.01308806e-04,\n",
              "        -4.54149291e-05, -6.90755528e-05, -6.00425797e-05, -2.42905872e-04,\n",
              "        -1.89652042e-04,  7.41913957e-05, -2.16264897e-04,  4.05404235e-05,\n",
              "        -1.89097450e-04,  1.01070592e-04,  3.70064832e-05, -4.51610222e-04,\n",
              "         8.73116118e-05,  2.63414715e-04,  3.03628861e-04,  2.01907960e-04,\n",
              "         4.96939053e-05, -2.62703936e-04, -2.65621801e-04,  8.22590150e-05,\n",
              "         1.10584254e-05,  3.19585910e-05,  2.97023351e-04, -9.76786018e-07,\n",
              "         1.40050201e-04, -1.43639936e-04,  1.52741322e-04,  9.23955684e-05,\n",
              "        -5.60500340e-05,  1.57760679e-04,  6.02530537e-05,  8.69647551e-05,\n",
              "        -2.19554047e-05,  6.76802442e-05, -4.78728360e-05,  2.70476188e-04,\n",
              "        -1.32649821e-05, -2.40928565e-04, -1.21348297e-04,  6.31836658e-05,\n",
              "         6.92736474e-05, -2.24219096e-04, -5.41579592e-06, -2.01653843e-04,\n",
              "        -1.22415401e-04,  1.74244079e-04, -1.35466274e-04, -3.29938717e-05,\n",
              "         1.38158408e-04,  1.76803088e-05, -1.85381172e-04,  2.69174141e-05,\n",
              "        -1.67770439e-04,  2.27393067e-05,  5.13739392e-05,  1.11000954e-04,\n",
              "        -8.45878755e-05,  1.57377968e-04, -8.60609609e-05, -2.16862047e-04,\n",
              "        -1.43430278e-04,  9.99280640e-06, -2.33993724e-04, -5.39304651e-05,\n",
              "         2.62991440e-04, -1.93081671e-04,  1.38988780e-04, -8.60765749e-05,\n",
              "        -4.33325819e-05,  4.51451116e-04, -1.38803174e-04,  1.01763702e-04,\n",
              "         2.15502224e-04,  7.32300046e-05, -3.29487583e-04, -1.44874575e-05,\n",
              "         4.98016421e-04, -6.44277810e-05,  1.10157453e-04,  1.86548085e-04,\n",
              "        -1.95593917e-05,  1.86198616e-04, -5.07024703e-05,  1.89393350e-04,\n",
              "        -2.47204184e-04, -6.18911057e-05,  1.29164940e-04,  6.99559770e-05,\n",
              "        -6.28591569e-05,  5.20404619e-06, -1.15161255e-04, -1.77819477e-04,\n",
              "         1.38668617e-04, -1.49219870e-04, -3.27327192e-04,  1.60568682e-04,\n",
              "         4.22364251e-04,  5.34794818e-04, -1.05290602e-04,  3.03894618e-04,\n",
              "         7.86582991e-05, -6.74388432e-05, -2.92758964e-04,  2.38633509e-04,\n",
              "         1.24333980e-04,  1.06655694e-04, -4.08816098e-04,  4.14264386e-05,\n",
              "         3.94863343e-05, -1.31788733e-04,  2.33414153e-04,  1.51257015e-04,\n",
              "         5.27947067e-05, -2.83767498e-04,  5.85409057e-05,  1.26021507e-04,\n",
              "         1.00409577e-04, -8.35772789e-05,  3.71646937e-05, -3.94377974e-04,\n",
              "         3.22270712e-04, -6.22697353e-05,  1.81258452e-04,  3.79407729e-05,\n",
              "        -9.70616123e-05, -1.30345947e-04,  1.21048153e-04, -5.92451794e-05,\n",
              "         1.73650392e-04,  6.70313338e-05,  6.91200607e-05, -2.39122900e-04,\n",
              "         2.26883989e-04, -1.54122050e-04,  2.24226455e-05,  3.92458070e-05,\n",
              "        -4.30557024e-04,  6.17417764e-06,  1.11960330e-04, -1.31806965e-04,\n",
              "        -3.08716365e-05, -1.25664728e-04,  1.61427929e-04, -8.64859652e-05,\n",
              "         3.27840078e-05,  2.83871046e-04,  3.04929521e-05,  8.68496530e-05,\n",
              "        -6.09214161e-06,  5.11289070e-05, -2.67658770e-04,  2.66511981e-04,\n",
              "         8.93237793e-05, -8.58530070e-07,  4.43328541e-05,  1.23658171e-06,\n",
              "        -2.48734532e-04, -1.09414647e-04, -2.03100364e-05,  1.62595310e-04,\n",
              "         3.89158997e-05,  2.52306686e-04,  1.69989446e-04, -3.44479123e-04,\n",
              "         7.80476695e-05,  1.45855060e-04,  7.22591373e-05,  2.42597576e-04,\n",
              "        -1.34894825e-04, -1.37522788e-04, -7.57040337e-05, -8.72482079e-05,\n",
              "         8.65740047e-05, -1.29723981e-04,  3.47184331e-04,  9.59779541e-05,\n",
              "        -3.29127458e-04, -1.68814840e-04, -2.40613072e-04,  1.39763672e-04,\n",
              "        -1.57216613e-04,  8.83953464e-06,  6.33073476e-05, -1.63743599e-05,\n",
              "        -2.77723228e-04, -1.33764390e-04,  1.35725188e-05, -5.43885531e-05,\n",
              "        -4.74107193e-05, -5.64200702e-05,  1.17594261e-04, -9.42251737e-05,\n",
              "        -3.90719261e-04,  2.76693594e-05,  2.82306901e-04, -1.28704425e-04,\n",
              "         1.77281647e-04, -2.03150588e-04, -6.78448439e-05,  2.82883629e-04,\n",
              "        -2.55370365e-04, -1.80669967e-04,  1.88610970e-05,  5.21278787e-04,\n",
              "        -3.16837880e-05, -1.01719016e-04,  2.07855719e-04,  6.41772085e-05,\n",
              "         1.84477666e-04,  1.81077869e-04, -1.70815191e-04,  2.01180588e-04,\n",
              "        -8.44731703e-05,  1.80314061e-04,  2.28097714e-04,  1.45146243e-04,\n",
              "         2.00521983e-04, -2.09617248e-04, -1.26969101e-04,  1.17712069e-04,\n",
              "        -2.23160077e-04, -8.49728810e-05,  1.33739980e-04,  2.20426996e-04,\n",
              "        -3.05050188e-05, -8.78552985e-05, -7.49423536e-05,  1.48785206e-04,\n",
              "         1.30712992e-05, -2.40054958e-04, -3.99488832e-05, -1.28683373e-04,\n",
              "         4.66957064e-06,  3.29425470e-04, -1.19697492e-04,  7.12933807e-05,\n",
              "        -2.08631718e-04, -1.12913354e-05,  1.16478027e-04, -4.29296388e-05,\n",
              "         3.84360559e-04, -6.30104222e-05, -6.80056765e-05, -3.37029488e-05,\n",
              "         8.35423162e-05, -6.86536378e-05, -1.14172965e-04, -6.38897517e-05,\n",
              "        -1.02539333e-04, -3.29592823e-04,  4.45174577e-05,  1.10143267e-05,\n",
              "        -4.96968436e-05,  1.69933049e-04, -5.30201934e-05,  2.35253795e-04,\n",
              "        -1.14646816e-04, -2.30207677e-04, -1.35464606e-04,  1.19106917e-04,\n",
              "         2.19758998e-04,  1.65203819e-04,  2.34517807e-05,  1.72100009e-04,\n",
              "        -6.43458141e-05, -4.56588314e-05,  2.52170182e-05,  3.33238363e-04,\n",
              "         7.53165379e-05,  2.41545035e-04,  1.40796719e-04,  1.46874713e-04,\n",
              "        -1.21827337e-04, -1.95150159e-04,  1.76392018e-04, -2.81634893e-04,\n",
              "        -1.16588957e-05, -3.06504604e-05,  1.63679718e-04, -5.13125685e-05,\n",
              "         1.41825798e-04, -4.62252555e-04, -2.58699231e-05, -4.47036267e-05,\n",
              "         1.35215767e-04, -3.56755152e-04,  5.50221228e-05, -1.54303468e-04,\n",
              "        -3.21194821e-04, -9.08637319e-05, -1.11298519e-04, -3.45735827e-04,\n",
              "        -2.44630819e-05, -3.84600377e-05, -2.67213779e-04, -2.31815026e-04,\n",
              "        -2.71121289e-05,  2.12079495e-04, -2.15052887e-04,  1.76911556e-04,\n",
              "         4.75134575e-06, -1.02438367e-04,  1.04368700e-04, -4.44557476e-05,\n",
              "        -4.02654545e-05, -3.92037977e-04,  2.58409090e-04, -9.29742692e-06,\n",
              "         1.52763665e-06,  1.38549944e-04,  8.25025896e-05,  3.16044104e-05,\n",
              "        -3.44564207e-04, -4.29930124e-05,  5.46523674e-04,  1.25830836e-04,\n",
              "        -4.43274098e-05,  1.07220323e-04, -9.51982185e-05, -1.81713337e-04,\n",
              "        -3.31289312e-04,  1.44298925e-05,  3.37179798e-04,  7.26767315e-05,\n",
              "        -1.87773861e-05, -3.86165789e-04, -1.88745326e-04, -8.38175985e-05,\n",
              "        -1.94988731e-04, -3.25150736e-05,  1.43187339e-04,  1.31113566e-04,\n",
              "         3.00404852e-04, -2.90720156e-04, -2.44162675e-04,  1.42467159e-04,\n",
              "         1.30537243e-04,  8.13672300e-05, -2.29532038e-04,  4.02170626e-04]),\n",
              " 0.002)"
            ]
          },
          "metadata": {},
          "execution_count": 250
        }
      ]
    },
    {
      "cell_type": "markdown",
      "source": [
        "# Heart Disease"
      ],
      "metadata": {
        "id": "PpFTbWnfcpF9"
      }
    },
    {
      "cell_type": "code",
      "source": [
        "data = pd.read_csv('/Users/ritwikvashistha/Downloads/heart.csv')\n",
        "# Convert categorical variables into one-hot encoding\n",
        "categorical = ['Sex', 'ChestPainType' ,'FastingBS', 'RestingECG', 'ExerciseAngina', 'ST_Slope']\n",
        "for name in categorical:\n",
        "    one_hot = pd.get_dummies(data[name], prefix=name)\n",
        "    data = data.drop(name, axis=1)\n",
        "    data = data.join(one_hot)\n",
        "\n",
        "# Split data into X and y\n",
        "y = data['HeartDisease']\n",
        "X = data.drop('HeartDisease', axis=1)\n",
        "\n",
        "\n",
        "# Split the dataset into a training set and a test set\n",
        "X_train, X_test, y_train, y_test = train_test_split(X, y, test_size=0.2,random_state=31)\n",
        "\n",
        "categorical_columns = ['Sex', 'ChestPainType' ,'FastingBS', 'RestingECG', 'ExerciseAngina', 'ST_Slope']\n",
        "# Drop one column from each set of dummy variables to avoid multicollinearity\n",
        "for col in categorical_columns:\n",
        "    dummy_cols = [c for c in X_train.columns if c.startswith(col)]\n",
        "    X_train = X_train.drop(dummy_cols[-1], axis=1)\n",
        "    X_test = X_test.drop(dummy_cols[-1], axis=1)\n"
      ],
      "metadata": {
        "id": "Pcky500kgyXs"
      },
      "execution_count": null,
      "outputs": []
    },
    {
      "cell_type": "code",
      "source": [
        "data = pd.read_csv('/Users/ritwikvashistha/Downloads/heart.csv')"
      ],
      "metadata": {
        "id": "AGhm4F-eqPKf"
      },
      "execution_count": null,
      "outputs": []
    },
    {
      "cell_type": "code",
      "source": [
        "data.shape"
      ],
      "metadata": {
        "colab": {
          "base_uri": "https://localhost:8080/"
        },
        "id": "6QwL5uTIqXu6",
        "outputId": "d96ae8b0-3f54-4995-e3dd-0a3fc1e7a3f6"
      },
      "execution_count": null,
      "outputs": [
        {
          "output_type": "execute_result",
          "data": {
            "text/plain": [
              "(918, 12)"
            ]
          },
          "metadata": {},
          "execution_count": 215
        }
      ]
    },
    {
      "cell_type": "code",
      "source": [
        "scaler = StandardScaler()\n",
        "X_train_scaled = scaler.fit_transform(X_train)\n",
        "X_test_scaled = scaler.transform(X_test)\n",
        "\n",
        "X_train_tensor = torch.FloatTensor(X_train_scaled)\n",
        "\n",
        "X_test_tensor = torch.FloatTensor(X_test_scaled)\n",
        "\n",
        "\n",
        "y_train_tensor = torch.tensor(y_train.values, dtype=torch.long)\n",
        "y_test_tensor = torch.tensor(y_test.values, dtype=torch.long)\n",
        "\n",
        "train_dataset = TensorDataset(X_train_tensor, y_train_tensor)\n",
        "train_loader = DataLoader(train_dataset, batch_size=32, shuffle=True)"
      ],
      "metadata": {
        "id": "KYnHK4WDhknA"
      },
      "execution_count": null,
      "outputs": []
    },
    {
      "cell_type": "code",
      "source": [
        "# Train with standard cross-entropy loss\n",
        "model_ce = LogisticRegressionNN(input_dim=15)\n",
        "optimizer_ce = optim.Adam(model_ce.parameters(), lr=0.01)\n",
        "train_model(model_ce, lambda x, y, z: nn.CrossEntropyLoss()(z, y), optimizer_ce)"
      ],
      "metadata": {
        "colab": {
          "base_uri": "https://localhost:8080/"
        },
        "id": "920bvG8klqE2",
        "outputId": "30b8d471-32e1-4b8a-cdab-dd93d0db0eeb"
      },
      "execution_count": null,
      "outputs": [
        {
          "output_type": "stream",
          "name": "stdout",
          "text": [
            "Epoch 10, Loss: 0.5034\n",
            "Epoch 20, Loss: 0.2975\n",
            "Epoch 30, Loss: 0.2107\n",
            "Epoch 40, Loss: 0.3104\n",
            "Epoch 50, Loss: 0.2064\n",
            "Epoch 60, Loss: 0.2249\n",
            "Epoch 70, Loss: 0.2661\n",
            "Epoch 80, Loss: 0.3539\n",
            "Epoch 90, Loss: 0.2683\n",
            "Epoch 100, Loss: 0.3717\n"
          ]
        }
      ]
    },
    {
      "cell_type": "code",
      "source": [
        "# Train with mixed loss (including kernel-based calibration)\n",
        "model_mixed = LogisticRegressionNN(input_dim=15)\n",
        "mixed_loss = ClassificationMixedLoss(\n",
        "    loss_scalers={\"nll\": 1.0, \"mmd\": 0.7},\n",
        "    operands={'x': \"rbf\", 'y': \"rbf\"},\n",
        "    scalers={'x': 1.0, 'y': 1.0},\n",
        "    bandwidths={'x': 25, 'y': 1}\n",
        ")\n",
        "optimizer_mixed = optim.Adam(model_mixed.parameters(), lr=0.01)\n",
        "train_model(model_mixed, mixed_loss, optimizer_mixed)"
      ],
      "metadata": {
        "colab": {
          "base_uri": "https://localhost:8080/"
        },
        "id": "Z515O00llz4_",
        "outputId": "ceb27b10-88e8-4c18-9712-87558be6cf09"
      },
      "execution_count": null,
      "outputs": [
        {
          "output_type": "stream",
          "name": "stdout",
          "text": [
            "Epoch 10, Loss: 0.3191\n",
            "Epoch 20, Loss: 0.2196\n",
            "Epoch 30, Loss: 0.2538\n",
            "Epoch 40, Loss: 0.3949\n",
            "Epoch 50, Loss: 0.2606\n",
            "Epoch 60, Loss: 0.2882\n",
            "Epoch 70, Loss: 0.2210\n",
            "Epoch 80, Loss: 0.6122\n",
            "Epoch 90, Loss: 0.3601\n",
            "Epoch 100, Loss: 0.4028\n"
          ]
        }
      ]
    },
    {
      "cell_type": "code",
      "source": [
        "# Train with MMCEMixedLoss\n",
        "model_mmce = LogisticRegressionNN(input_dim=15)\n",
        "mmce_loss = MMCEMixedLoss(\n",
        "    loss_scalers={\"nll\": 1.0, \"mmce\": 0.7}\n",
        ")\n",
        "optimizer_mmce = optim.Adam(model_mmce.parameters(), lr=0.01)\n",
        "train_model(model_mmce, mmce_loss, optimizer_mmce)"
      ],
      "metadata": {
        "colab": {
          "base_uri": "https://localhost:8080/"
        },
        "id": "Uht8bHFsl6qx",
        "outputId": "e833439c-87e0-48ca-88ae-a98b386aa1e5"
      },
      "execution_count": null,
      "outputs": [
        {
          "output_type": "stream",
          "name": "stdout",
          "text": [
            "Epoch 10, Loss: 0.5172\n",
            "Epoch 20, Loss: 0.4986\n",
            "Epoch 30, Loss: 0.5477\n",
            "Epoch 40, Loss: 0.5525\n",
            "Epoch 50, Loss: 0.4897\n",
            "Epoch 60, Loss: 0.4341\n",
            "Epoch 70, Loss: 0.5413\n",
            "Epoch 80, Loss: 0.4387\n",
            "Epoch 90, Loss: 0.5406\n",
            "Epoch 100, Loss: 0.4831\n"
          ]
        }
      ]
    },
    {
      "cell_type": "code",
      "source": [
        "model_ce.eval()\n",
        "with torch.no_grad():\n",
        "  logits = model_ce(X_test_tensor)\n",
        "  probs = torch.softmax(logits, dim=1)[:, 1]\n",
        "probs_ce = probs.numpy()\n",
        "\n",
        "model_mixed.eval()\n",
        "with torch.no_grad():\n",
        "  logits = model_mixed(X_test_tensor)\n",
        "  probs = torch.softmax(logits, dim=1)[:, 1]\n",
        "probs_mixed = probs.numpy()\n",
        "\n",
        "# model_ecekde.eval()\n",
        "# with torch.no_grad():\n",
        "#   logits = model_mixed(X_test_tensor)\n",
        "#   probs = torch.softmax(logits, dim=1)[:, 1]\n",
        "# probs_ecekde = probs.numpy()\n",
        "\n",
        "model_mmce.eval()\n",
        "with torch.no_grad():\n",
        "  logits = model_mmce(X_test_tensor)\n",
        "  probs = torch.softmax(logits, dim=1)[:, 1]\n",
        "probs_mmce = probs.numpy()"
      ],
      "metadata": {
        "id": "V3VylSt9mrKd"
      },
      "execution_count": null,
      "outputs": []
    },
    {
      "cell_type": "code",
      "source": [
        "# Evaluate both models\n",
        "ece_ce= expected_calibration_error(y_test_tensor,probs_ce)\n",
        "ece_mixed = expected_calibration_error(y_test_tensor,probs_mixed)\n",
        "ece_mmce = expected_calibration_error(y_test_tensor,probs_mmce)\n",
        "\n",
        "print(f\"ECE (Cross-Entropy): {ece_ce:.4f}\")\n",
        "print(f\"ECE (MMD Mixed Loss): {ece_mixed:.4f}\")\n",
        "print(f\"ECE (MMCE Mixed Loss): {ece_mmce:.4f}\")"
      ],
      "metadata": {
        "colab": {
          "base_uri": "https://localhost:8080/"
        },
        "id": "qBvwiZafmwAC",
        "outputId": "28bda2b5-364c-4355-9f6f-3ca5982afcb5"
      },
      "execution_count": null,
      "outputs": [
        {
          "output_type": "stream",
          "name": "stdout",
          "text": [
            "ECE (Cross-Entropy): 0.1014\n",
            "ECE (MMD Mixed Loss): 0.0964\n",
            "ECE (MMCE Mixed Loss): 0.0801\n"
          ]
        }
      ]
    },
    {
      "cell_type": "code",
      "source": [
        "brier_ce = brier_score_loss(y_test, probs_ce)\n",
        "brier_mixed = brier_score_loss(y_test, probs_mixed)\n",
        "brier_mmce = brier_score_loss(y_test, probs_mmce)\n",
        "\n",
        "print(f\"Brier score (Cross-Entropy): {brier_ce:.4f}\")\n",
        "print(f\"Brier score (MMD Mixed Loss): {brier_mixed:.4f}\")\n",
        "print(f\"Brier score (MMCE Mixed Loss): {brier_mmce:.4f}\")"
      ],
      "metadata": {
        "colab": {
          "base_uri": "https://localhost:8080/"
        },
        "id": "yW-m18_ZnCLj",
        "outputId": "f5f32d97-b849-4542-bd4a-3643dd055e8c"
      },
      "execution_count": null,
      "outputs": [
        {
          "output_type": "stream",
          "name": "stdout",
          "text": [
            "Brier score (Cross-Entropy): 0.1162\n",
            "Brier score (MMD Mixed Loss): 0.1150\n",
            "Brier score (MMCE Mixed Loss): 0.1130\n"
          ]
        }
      ]
    },
    {
      "cell_type": "code",
      "source": [
        "from sklearn.calibration import calibration_curve  # Import calibration_curve\n",
        "\n",
        "def plot_calibration_curve(y_true, y_prob, n_bins=10):\n",
        "    prob_true, prob_pred = calibration_curve(y_true, y_prob, n_bins=n_bins)\n",
        "    plt.plot(prob_pred, prob_true, marker='o')\n",
        "    plt.plot([0, 1], [0, 1], linestyle='--')\n",
        "    plt.xlabel('Mean predicted probability')\n",
        "    plt.ylabel('Fraction of positives')\n",
        "\n",
        "plt.figure(figsize=(10, 5))\n",
        "\n",
        "plt.subplot(1, 2, 1)\n",
        "plot_calibration_curve(y_test_tensor, probs_ce)\n",
        "plt.title('Original Calibration')\n",
        "\n",
        "plt.subplot(1, 2, 2)\n",
        "plot_calibration_curve(y_test_tensor, probs_mmce)\n",
        "plt.title('Recalibrated Calibration')\n",
        "\n",
        "plt.tight_layout()\n",
        "plt.show()"
      ],
      "metadata": {
        "colab": {
          "base_uri": "https://localhost:8080/",
          "height": 488
        },
        "id": "inCFX0sXnVm3",
        "outputId": "fce36279-a8dd-4b2e-8b69-b78794e8bcf8"
      },
      "execution_count": null,
      "outputs": [
        {
          "output_type": "display_data",
          "data": {
            "text/plain": [
              "<Figure size 1000x500 with 2 Axes>"
            ],
            "image/png": "[encoded data removed]"
          },
          "metadata": {}
        }
      ]
    },
    {
      "cell_type": "code",
      "source": [
        "result_mixed_heart=ELCE2(X_test[['Age','Sex_F']].values, y_test.values ,probs_mixed, kernel_function=\"rbf\", prob_kernel_width=0.1, iterations=500, use_diffusion_distance=False, verbose=True,random_state=None, n_jobs=1,gamma=25)\n",
        "result_mmce_heart=ELCE2(X_test[['Age','Sex_F']].values, y_test.values ,probs_mmce, kernel_function=\"rbf\", prob_kernel_width=0.1, iterations=500, use_diffusion_distance=False, verbose=True,random_state=None, n_jobs=1,gamma=25)\n",
        "result_ce_heart=ELCE2(X_test[['Age','Sex_F']].values, y_test.values ,probs_ce, kernel_function=\"rbf\", prob_kernel_width=0.1, iterations=500, use_diffusion_distance=False, verbose=True,random_state=None, n_jobs=1,gamma=25)"
      ],
      "metadata": {
        "id": "GDK0il7FneHG"
      },
      "execution_count": null,
      "outputs": []
    },
    {
      "cell_type": "code",
      "source": [
        "result_mixed_heart"
      ],
      "metadata": {
        "colab": {
          "base_uri": "https://localhost:8080/"
        },
        "id": "YAHAcqaMnxF3",
        "outputId": "02849656-36ec-4c85-a8cf-3b5234d379fa"
      },
      "execution_count": null,
      "outputs": [
        {
          "output_type": "execute_result",
          "data": {
            "text/plain": [
              "(0.0028263789845994823,\n",
              " array([ 1.33331281e-03,  1.19452025e-02, -2.02983651e-03, -9.25754162e-03,\n",
              "         8.67881321e-03, -1.51780173e-03, -8.56865105e-04, -1.36028233e-03,\n",
              "        -2.31532627e-03,  8.44976001e-03, -1.16621441e-03, -5.76661767e-04,\n",
              "         9.42623352e-03, -1.16902929e-03, -2.20448427e-03, -6.60989513e-03,\n",
              "         1.26092861e-02, -1.00851638e-04, -3.14128547e-03,  2.60961533e-03,\n",
              "         4.42515168e-03,  7.77740533e-03,  7.75900814e-03,  3.90023210e-03,\n",
              "        -9.13508488e-03, -7.63676254e-03, -1.03118182e-02, -9.02183335e-04,\n",
              "         2.07883673e-03, -4.83126517e-03,  5.56891161e-03,  1.66713429e-03,\n",
              "         2.61630918e-03, -1.08239707e-02,  4.95029266e-03, -6.10558758e-04,\n",
              "        -5.34254490e-03, -1.29560036e-02, -1.08038458e-03, -4.71474642e-03,\n",
              "        -2.74215898e-03, -3.31176326e-03,  1.97542706e-03, -3.02981357e-03,\n",
              "         5.84565500e-04,  8.23264345e-03,  5.92594876e-04,  8.96063657e-04,\n",
              "         2.66321842e-03,  4.20837396e-03,  1.64912916e-03, -2.01884149e-03,\n",
              "        -3.24680234e-03, -5.54501493e-03, -6.36133303e-05, -8.43142365e-04,\n",
              "        -8.73551346e-03,  1.70608480e-03, -3.48823848e-03, -4.58890335e-03,\n",
              "        -4.06462002e-03,  2.59439732e-03, -3.35936921e-03, -9.37825679e-04,\n",
              "         6.01637155e-03,  1.29688311e-03,  4.78311459e-03, -3.89841088e-03,\n",
              "         5.38340416e-03,  4.01370327e-03, -6.67603741e-04, -3.47098738e-03,\n",
              "        -6.15542423e-03,  7.59564885e-03, -9.67803173e-03,  4.91721848e-03,\n",
              "        -1.22765067e-03, -2.79851441e-03,  2.08951491e-03, -7.26849810e-03,\n",
              "        -1.60231509e-04, -3.22202910e-03,  4.88228266e-03,  1.28593118e-04,\n",
              "         1.67604000e-04,  4.91295875e-04, -5.29964657e-03, -1.92207392e-03,\n",
              "        -8.17360752e-03,  8.27012670e-04,  5.68156313e-03, -4.14906278e-03,\n",
              "        -6.31432566e-03, -4.74150858e-03,  1.58018278e-03,  1.87644717e-03,\n",
              "         6.53702936e-04,  8.29447094e-03,  2.23218795e-03, -2.73470519e-03,\n",
              "        -3.48037176e-03, -3.02866810e-03,  7.51055177e-03,  1.17298898e-02,\n",
              "         1.04280379e-03,  2.70640499e-04,  3.72435859e-03,  6.37997378e-04,\n",
              "        -2.63815153e-03,  5.09739881e-03, -3.37392708e-03,  5.22080293e-03,\n",
              "        -7.49053455e-04, -7.24070584e-03,  5.99359752e-04, -6.25240271e-03,\n",
              "        -1.20741551e-03, -5.69565921e-03,  1.07477890e-03, -7.59468372e-03,\n",
              "        -5.31556625e-04,  2.31595794e-03, -3.92904112e-03, -2.43372865e-03,\n",
              "         6.90941206e-03,  1.14864474e-03, -7.39787722e-03, -1.50466220e-04,\n",
              "         4.80494803e-03, -1.08524677e-02,  1.98418130e-04, -1.21427858e-02,\n",
              "         6.10061462e-03, -3.48726782e-03,  4.19378815e-03, -5.51248419e-04,\n",
              "        -5.51467583e-04,  5.38306104e-03,  3.93976228e-04,  1.55295240e-03,\n",
              "         1.56005460e-03,  1.33266016e-03,  4.91642093e-03,  6.23636560e-03,\n",
              "        -2.14737077e-04, -2.36766485e-03,  2.61109377e-03, -4.28112338e-03,\n",
              "        -4.41332914e-03,  7.69864006e-03, -2.52438504e-03,  1.25384722e-03,\n",
              "         3.44003569e-03, -5.57485483e-03, -7.24390051e-03, -5.10504548e-03,\n",
              "         5.36987665e-03,  2.29338548e-03, -3.56368499e-03,  1.68928259e-03,\n",
              "         6.55128897e-04,  5.29270295e-03, -1.58371394e-03, -9.79747925e-04,\n",
              "         5.08391742e-03, -4.94359058e-04, -1.67020027e-03, -4.90862960e-03,\n",
              "         6.21810147e-04,  1.78686820e-02, -5.40318089e-05, -1.52802257e-03,\n",
              "        -1.21811948e-02,  8.86486869e-03, -2.98843165e-03, -4.52188423e-03,\n",
              "         8.08505595e-04,  5.16882733e-03, -5.52968546e-04,  2.01620335e-03,\n",
              "        -4.66859966e-03, -1.12522091e-03, -4.59459157e-03, -2.84934549e-03,\n",
              "         9.88874539e-04, -5.32918887e-03,  1.52073811e-03,  1.29404260e-02,\n",
              "        -7.69363282e-03, -9.16486538e-03, -9.16677727e-05, -8.31913829e-03,\n",
              "        -6.18588326e-03, -2.48850915e-03, -3.57548294e-03, -5.03208602e-03,\n",
              "         2.96698337e-04, -3.48584607e-03, -4.09827729e-03, -5.96882493e-03,\n",
              "        -1.66014728e-03,  3.40598596e-03,  4.78226494e-03,  3.36300709e-03,\n",
              "         1.24608118e-03,  2.96236079e-03, -4.52956703e-03,  1.46629761e-03,\n",
              "        -1.14041975e-02,  2.67040767e-03, -1.05509121e-02,  3.44500376e-03,\n",
              "        -4.54050708e-03,  1.66444698e-03,  7.03342350e-03, -1.05061072e-02,\n",
              "         1.50758392e-03, -1.11991051e-02,  3.14070305e-04, -3.06820800e-03,\n",
              "         9.21535839e-04,  1.68425528e-03, -6.42428244e-03,  5.18473917e-04,\n",
              "         7.13768559e-03, -5.13244552e-03,  6.34984479e-03, -7.51617075e-03,\n",
              "        -6.31964658e-03,  1.00270281e-02,  2.49402368e-03,  5.66329824e-03,\n",
              "        -2.32460684e-03,  4.98986037e-03, -5.64281079e-03, -2.63962291e-04,\n",
              "        -8.46498547e-03, -9.75532206e-04,  1.06172818e-02, -3.92024387e-04,\n",
              "        -4.19564388e-03, -7.64774241e-03,  3.24648743e-03,  1.26161845e-02,\n",
              "         5.48420993e-03,  5.36626184e-03,  5.49666177e-03, -4.44946983e-04,\n",
              "        -1.89082023e-04,  9.06296458e-03,  1.00524822e-02, -1.09011554e-02,\n",
              "         3.80484558e-03,  4.76387464e-03,  5.05264231e-03, -5.25936250e-04,\n",
              "         3.82071483e-03, -2.98033947e-03, -8.10638040e-03,  4.76214443e-03,\n",
              "        -5.92613304e-03, -3.24811602e-03,  4.94413318e-03, -1.98551057e-03,\n",
              "        -1.86469646e-03,  9.13958927e-03,  3.16371699e-03, -6.97684957e-03,\n",
              "        -6.34137440e-04,  1.34357653e-03, -8.00256605e-03,  1.77918986e-03,\n",
              "         1.66687523e-03, -5.12088488e-03,  3.20452603e-03, -2.85863031e-03,\n",
              "        -4.23613293e-03, -5.45586143e-03,  1.34885567e-03, -1.23856482e-02,\n",
              "        -3.53347490e-03,  9.88059413e-03,  1.49816627e-03, -6.82490790e-03,\n",
              "        -1.36394184e-04,  8.46008219e-03,  6.05078760e-03,  2.69399840e-03,\n",
              "        -2.36463140e-03,  2.56587755e-04, -2.48985899e-03, -1.89890829e-03,\n",
              "        -4.54395406e-03,  6.24347653e-03, -2.99967810e-04, -6.60040956e-03,\n",
              "        -5.28620841e-03,  1.69511815e-03, -3.96295287e-03, -8.57659075e-03,\n",
              "         9.05647485e-04,  1.02849882e-02,  2.31629699e-03,  8.64387781e-03,\n",
              "         6.00389811e-03, -3.57940676e-03, -6.07367624e-03, -8.51354191e-03,\n",
              "        -3.12446062e-03, -8.17424682e-03, -4.65153460e-03, -1.51074293e-03,\n",
              "        -1.52077684e-03, -6.77960621e-03,  6.86236620e-03, -5.59859973e-03,\n",
              "        -2.75001982e-03, -1.32988519e-03,  7.22103004e-03, -2.34517188e-03,\n",
              "         6.19118094e-03, -3.71304630e-03,  1.18953251e-03,  2.93531008e-03,\n",
              "         7.29237770e-03,  5.84852998e-04,  3.44612627e-03,  4.21924487e-03,\n",
              "         4.16356360e-03, -2.92521072e-04, -4.04815708e-03,  9.88439212e-03,\n",
              "        -5.44171338e-04, -7.06876720e-04, -2.78794274e-04, -3.58276739e-03,\n",
              "         2.56817086e-03, -1.80681729e-02, -4.61012537e-03, -7.90577500e-04,\n",
              "         2.53437662e-03,  9.96728042e-03,  2.97065067e-03,  1.94057429e-03,\n",
              "        -2.71882337e-03, -3.60121712e-03,  7.41763985e-03, -5.35587915e-03,\n",
              "         2.56105238e-03,  1.66382232e-03, -4.33361752e-03,  7.42501979e-03,\n",
              "        -8.14089635e-03,  5.01708642e-03, -7.84705626e-04, -6.94476895e-04,\n",
              "        -3.85603914e-03, -7.76784609e-03,  9.22029948e-03, -6.25084757e-03,\n",
              "         1.22649337e-02, -3.65942679e-03, -4.97486693e-03,  5.41139898e-03,\n",
              "        -6.75782070e-04, -3.28675021e-03,  1.84493642e-02,  5.09094655e-03,\n",
              "         1.47582497e-03,  2.14765143e-03, -3.82478489e-03, -2.27061853e-03,\n",
              "        -5.80192526e-04, -5.75106256e-03, -5.49970580e-03,  4.00269677e-03,\n",
              "        -5.75880122e-04, -4.90738883e-03,  3.56716314e-04,  6.33237200e-03,\n",
              "        -4.63355174e-03,  1.18880355e-04, -1.81503620e-03,  1.52307006e-03,\n",
              "        -3.47689558e-03,  1.48296390e-03, -5.85477797e-04, -4.70353300e-03,\n",
              "         4.53183555e-03,  7.91509941e-03,  7.35494801e-03,  9.52505147e-03,\n",
              "         2.33237731e-03,  2.30321433e-03,  2.57114452e-04,  3.90638257e-04,\n",
              "         4.83674361e-03, -1.42159939e-03, -7.41357608e-04,  7.43578078e-03,\n",
              "         2.40503522e-04,  2.86685518e-03,  1.52756035e-02, -6.37847942e-05,\n",
              "         8.50423912e-03,  4.54979682e-03,  2.16456918e-02, -3.33104480e-03,\n",
              "         8.44858775e-03, -6.44261782e-04, -2.07649741e-03,  8.04552976e-03,\n",
              "         3.26396131e-03, -2.32459871e-03,  5.49582647e-03,  6.76824517e-03,\n",
              "        -2.48554839e-03, -4.98467641e-03, -1.34821577e-03,  4.91996993e-04,\n",
              "        -4.01792368e-03, -1.39115652e-03,  1.65862160e-03,  4.64895437e-03,\n",
              "        -4.36061788e-03, -2.34047879e-03, -2.58874036e-03,  9.99345545e-03,\n",
              "        -1.19330645e-04, -7.89920970e-03, -5.42995757e-03, -3.30250524e-03,\n",
              "         2.47762578e-03,  1.15530170e-03, -5.21962383e-03, -3.75557780e-04,\n",
              "         1.50416516e-02,  2.41033746e-03, -1.87205062e-03,  9.97479814e-03,\n",
              "        -5.45443957e-03, -7.99088822e-04,  3.87223737e-04,  5.22218325e-04,\n",
              "         7.34251790e-04,  7.02480773e-03, -3.26084713e-03, -1.54992073e-04,\n",
              "         1.26549226e-03, -7.58654292e-04, -3.06438024e-03,  1.96462418e-03,\n",
              "         2.02831209e-04, -3.60094620e-03, -2.83380728e-03, -6.79609348e-03,\n",
              "        -3.00996252e-04, -6.54345036e-03, -1.48880548e-03,  2.40066144e-03,\n",
              "        -6.07419415e-03, -7.10059564e-03,  2.48173296e-03,  4.24276359e-03,\n",
              "        -8.56187984e-03, -1.97608954e-04,  2.67554943e-03, -1.84309389e-03,\n",
              "         5.16974689e-04, -5.67339161e-04, -9.01746025e-03,  2.11667603e-03,\n",
              "        -1.31183752e-03,  6.15728639e-03, -2.35321646e-03, -1.46867602e-03,\n",
              "        -1.25090767e-02,  2.80426101e-03,  7.72949769e-03, -3.28481279e-03,\n",
              "         5.43045987e-03, -4.38765287e-03, -2.95443335e-03,  1.94283720e-03,\n",
              "         6.33183061e-03,  2.64763752e-03, -6.00317251e-04,  4.80609321e-03,\n",
              "        -6.25485900e-03,  7.84239028e-03,  2.40623418e-03,  4.53193253e-03,\n",
              "         1.89167972e-03, -2.60294089e-03,  2.78364433e-03,  6.59402305e-03,\n",
              "         4.00852259e-03, -3.14673475e-03,  3.49540552e-03, -7.99361560e-03]),\n",
              " 0.262)"
            ]
          },
          "metadata": {},
          "execution_count": 208
        }
      ]
    },
    {
      "cell_type": "code",
      "source": [
        "result_ce_heart"
      ],
      "metadata": {
        "colab": {
          "base_uri": "https://localhost:8080/"
        },
        "id": "sux7JeBkp2na",
        "outputId": "6a228b7f-a1b8-48d6-dac5-a0e2611d9822"
      },
      "execution_count": null,
      "outputs": [
        {
          "output_type": "execute_result",
          "data": {
            "text/plain": [
              "(0.0031567078102717654,\n",
              " array([-1.04446740e-02,  3.01578173e-03, -1.00387126e-03,  2.81710598e-03,\n",
              "        -7.49300705e-04,  3.69124216e-03,  5.07575360e-03, -2.04889464e-04,\n",
              "         3.99419210e-03,  1.02074563e-03,  7.39684825e-04, -8.84904073e-03,\n",
              "         8.72374876e-05, -7.00756590e-05,  9.67748795e-04, -4.13927998e-03,\n",
              "         3.33832397e-03, -2.28969157e-03,  4.14597427e-03,  9.80836502e-03,\n",
              "        -1.14397563e-02,  9.19365994e-04,  5.46060181e-04,  3.76278138e-03,\n",
              "         3.48084626e-03, -5.84991058e-03, -9.49584477e-03, -2.77582333e-03,\n",
              "        -2.56844279e-03, -7.73248926e-03,  9.11331683e-03,  1.33914324e-02,\n",
              "        -2.37894756e-03, -2.53660707e-03,  1.04829556e-02, -8.14932474e-03,\n",
              "         1.38690063e-03,  6.78216286e-03, -2.60196798e-03,  3.99699644e-03,\n",
              "        -1.15272256e-02,  2.18362977e-03,  7.47437070e-04, -7.73338282e-03,\n",
              "        -2.59941476e-04, -3.23735411e-03, -1.03392578e-03,  2.60870122e-03,\n",
              "        -5.42827735e-03,  3.10807417e-04,  5.48007300e-03,  8.14641318e-04,\n",
              "        -4.44745262e-05,  5.74339617e-03,  2.22319595e-03,  3.21116346e-03,\n",
              "         3.62724295e-03, -6.16999071e-03,  5.37069328e-04,  2.35243451e-03,\n",
              "         2.47073039e-03,  8.17194896e-05, -7.92111793e-04,  3.42379747e-03,\n",
              "         1.08669695e-02,  7.73153483e-03,  3.24770188e-03, -3.08124614e-03,\n",
              "        -5.05962370e-04, -5.92856790e-04,  2.41702803e-03,  5.42303532e-03,\n",
              "         6.03764339e-03,  4.26233474e-03, -4.06660183e-03, -2.44397997e-04,\n",
              "         3.00364118e-03,  4.13334735e-04, -2.43385932e-03,  8.76620301e-04,\n",
              "         2.82806128e-03, -1.97730934e-03, -1.00693322e-03,  3.40394160e-03,\n",
              "         1.69449426e-03,  2.88864802e-03,  1.03505273e-02,  2.54301142e-03,\n",
              "        -2.39705682e-03,  1.32869904e-02,  9.38148812e-03,  2.00040868e-03,\n",
              "         6.09583178e-03,  1.12000206e-04,  1.34898625e-03,  1.30056846e-04,\n",
              "         5.42804266e-03, -1.90435628e-03, -4.47573179e-04, -8.87626638e-03,\n",
              "        -8.65829522e-03, -3.79689105e-03, -6.78207049e-03,  9.32223280e-04,\n",
              "        -1.52675580e-03, -1.31894767e-03, -2.90847106e-03,  3.56497266e-03,\n",
              "         1.58784923e-03,  4.91780735e-04, -1.51155330e-02,  4.74155016e-04,\n",
              "         6.27871582e-03, -2.65290946e-03,  1.13960372e-03, -3.96592207e-03,\n",
              "        -2.71337175e-03, -1.95920010e-03,  3.13387863e-04, -1.15513267e-05,\n",
              "         5.61862043e-05,  3.75332613e-03,  5.27085471e-03, -9.87188070e-04,\n",
              "         1.69486245e-03,  8.57660513e-03, -1.19872519e-03,  3.62439149e-03,\n",
              "        -4.03722122e-03, -3.98745009e-03, -4.32095191e-04, -6.54098611e-03,\n",
              "         7.21172991e-03,  8.87838473e-04,  4.58597191e-03, -1.61704626e-03,\n",
              "         2.60897693e-03,  1.63586283e-03, -6.51526750e-03, -3.55701077e-03,\n",
              "         1.33396747e-02, -2.73926456e-03, -1.76973525e-03,  1.75980807e-03,\n",
              "         6.37789039e-04, -8.15002096e-03, -4.33983881e-03,  2.83221071e-03,\n",
              "         3.83912659e-03, -3.36638781e-03, -5.93429050e-04,  9.42261967e-04,\n",
              "         1.93842397e-03,  1.57068815e-03,  1.05402337e-03, -1.35283963e-04,\n",
              "        -1.23526121e-03, -2.36200131e-03, -4.62852668e-03, -9.19589709e-03,\n",
              "        -1.31908381e-04,  5.42365910e-03, -1.35075136e-03, -1.75885069e-03,\n",
              "        -7.79633197e-03, -8.19569352e-03, -1.29562137e-03, -2.16817572e-03,\n",
              "        -3.52786669e-03,  1.26213281e-02, -6.31314035e-04, -6.11374872e-03,\n",
              "         3.20075527e-03, -3.78966663e-03,  3.25668762e-03, -4.66846839e-03,\n",
              "        -5.69076016e-03, -2.67813873e-03,  8.84479338e-03, -2.58001434e-03,\n",
              "        -5.64774372e-03, -3.19712787e-03,  3.40985070e-03, -2.03701564e-04,\n",
              "         2.68002645e-03,  4.01771356e-03, -1.48350846e-03, -7.45069847e-03,\n",
              "         4.79672293e-03, -2.34242710e-03,  6.52139821e-03, -1.42883641e-03,\n",
              "         6.61410566e-03,  2.45079923e-03, -9.80551172e-04, -1.20216881e-02,\n",
              "        -1.01048537e-02, -7.24644993e-03, -5.30092677e-03, -8.20107081e-04,\n",
              "         4.77572000e-03,  1.53364935e-03,  1.48144755e-03, -5.15892717e-03,\n",
              "        -2.99171047e-03, -1.65631040e-03, -1.66273876e-04, -2.15094473e-03,\n",
              "        -1.50686131e-03,  3.79929037e-03, -4.88185626e-03, -7.89975292e-03,\n",
              "        -6.15050890e-03,  4.48686397e-04,  2.65470906e-03, -2.19542446e-03,\n",
              "         1.11244821e-02, -4.28177115e-04,  1.19526973e-02, -1.09341320e-02,\n",
              "        -7.78795082e-04, -1.97948206e-03,  1.10376451e-02, -7.76658593e-03,\n",
              "        -5.65944307e-03,  1.57743171e-03, -9.12814860e-03,  8.11531819e-03,\n",
              "        -9.55915944e-03,  8.84164271e-03,  3.56389757e-03, -3.05838259e-03,\n",
              "         1.75898992e-03,  1.38539554e-03, -1.70663296e-03, -1.26667185e-04,\n",
              "        -3.12347381e-03, -6.83990307e-03, -3.71964342e-04,  5.57872394e-03,\n",
              "        -1.29899672e-03, -6.67319883e-03, -7.79018284e-03, -5.35240363e-03,\n",
              "         1.93783248e-03,  9.77539906e-03, -6.54092044e-04,  6.90044382e-03,\n",
              "        -2.69016066e-03,  1.56722766e-03,  3.02661344e-03,  3.37380207e-03,\n",
              "        -5.22491324e-03, -1.11525295e-03, -8.47180599e-04,  8.13582231e-03,\n",
              "        -1.60367552e-02,  2.22946120e-03,  2.32651489e-03,  2.14550014e-03,\n",
              "        -1.42204849e-03, -6.36378356e-04, -6.84457289e-03, -1.10216019e-03,\n",
              "        -4.04805851e-03,  9.59917727e-03,  4.60884017e-03, -7.46617643e-04,\n",
              "        -6.76269033e-03, -1.34687511e-03,  4.39670482e-03,  1.48949213e-03,\n",
              "        -7.81577118e-03,  1.19241095e-02, -6.63192670e-03, -3.87451752e-03,\n",
              "        -2.50742679e-03, -1.60022023e-03, -7.74418768e-04,  1.58868106e-02,\n",
              "        -5.84857083e-03,  6.20241280e-04, -3.91084634e-03,  4.80290815e-03,\n",
              "         8.17904449e-03, -2.98773651e-03,  8.39982785e-03,  1.71334901e-03,\n",
              "         7.93348951e-03, -2.79899335e-03, -4.27490211e-03, -8.30163586e-03,\n",
              "         4.29038835e-04,  9.12202411e-04,  2.32972006e-03,  1.12301518e-03,\n",
              "        -8.43089154e-04,  7.95165784e-05,  3.02601501e-03,  8.76385799e-03,\n",
              "        -6.69349535e-03, -3.82165369e-03, -6.18459277e-03,  1.64640493e-03,\n",
              "         4.35358750e-04,  2.66200024e-03,  6.49135980e-03, -4.51878738e-03,\n",
              "         2.22463118e-03, -3.07269766e-03,  3.86234147e-03, -1.58820224e-03,\n",
              "         3.64052177e-03,  3.59202153e-03, -3.29311907e-03,  4.88881685e-03,\n",
              "        -3.97713988e-03,  3.57650132e-03, -1.03810855e-03,  3.59403471e-03,\n",
              "        -7.02212558e-03,  3.94939426e-03,  7.87355046e-03, -2.58130175e-03,\n",
              "        -7.81634088e-03,  8.58318630e-03,  5.86894069e-03, -1.16573496e-02,\n",
              "        -4.99327375e-03,  1.95482279e-03,  3.37109894e-03, -5.98843018e-03,\n",
              "        -2.58521527e-03,  3.44989158e-03, -2.58278937e-03, -8.17522214e-03,\n",
              "         2.59143158e-03,  1.62479768e-04, -4.58636211e-03, -3.50685785e-03,\n",
              "        -4.62780634e-03,  6.91877523e-04, -4.97762533e-03, -1.03723118e-03,\n",
              "         6.73988048e-03,  1.31259426e-03,  1.47180161e-03, -4.94192804e-03,\n",
              "         4.77261853e-03,  4.85267558e-03,  1.45251928e-03, -1.37427450e-03,\n",
              "         5.00969762e-03,  3.85435806e-03,  9.82178426e-03,  6.62210024e-03,\n",
              "        -5.97633172e-03, -3.85809432e-03, -1.29664398e-03,  4.16151721e-03,\n",
              "         5.02395526e-03,  1.07124893e-03,  5.38545001e-03, -8.71289893e-03,\n",
              "        -2.70211773e-03,  6.03276360e-03, -9.06633844e-03, -1.53853797e-02,\n",
              "         4.92880235e-03, -1.68329717e-03, -2.63689783e-03, -9.46406504e-03,\n",
              "        -9.14408406e-03,  4.73393876e-04, -2.31594451e-03, -9.39101384e-04,\n",
              "         1.06332373e-04,  4.09338933e-04,  8.16666245e-03,  5.36480783e-03,\n",
              "        -1.59096911e-03,  2.24468490e-03,  2.67145049e-03, -5.06963694e-04,\n",
              "         1.89562501e-03,  2.64069604e-03,  4.18611766e-03,  1.32011360e-03,\n",
              "         1.17097875e-03,  7.94492286e-03,  7.92082961e-03, -4.36725088e-03,\n",
              "         9.56338147e-04, -3.89724908e-03,  3.72567378e-04,  1.59570652e-03,\n",
              "        -3.72532613e-03,  3.72052702e-03,  1.05778673e-02,  6.35056361e-04,\n",
              "         1.00252385e-03, -5.44177840e-03,  5.19043327e-03, -1.09075113e-02,\n",
              "         1.31078541e-04, -9.12633607e-03, -1.00470601e-03,  4.15159346e-03,\n",
              "        -1.27836593e-02,  9.20891639e-03,  1.00204216e-04, -4.32336509e-03,\n",
              "        -1.70138435e-03, -1.06679780e-02, -1.15879639e-03, -7.20616050e-03,\n",
              "         1.07686688e-03, -3.97622709e-03,  4.93027163e-03,  4.83730874e-03,\n",
              "         1.35329748e-03,  2.54031798e-03,  1.11300252e-03,  1.30614441e-03,\n",
              "        -1.94979372e-03,  9.54369461e-03, -4.26164576e-03,  5.94937082e-03,\n",
              "         8.18138456e-03,  6.77989625e-03,  2.09244648e-05, -7.16580929e-04,\n",
              "         8.41323359e-03, -3.93120825e-03,  2.37790241e-03, -3.21030822e-03,\n",
              "         8.23025403e-03, -9.31897166e-03,  7.79735607e-04,  2.17084471e-03,\n",
              "         1.33631865e-02,  1.07114348e-02, -4.80778070e-03, -6.63491220e-04,\n",
              "        -1.00995857e-02, -5.38786092e-03, -1.63534374e-03, -8.03715981e-03,\n",
              "         6.25060656e-03,  2.63597990e-03,  9.46419094e-04, -3.30133363e-03,\n",
              "        -2.42204842e-04, -6.67171113e-03, -4.35939002e-03, -8.92278720e-03,\n",
              "         5.14452424e-04,  1.77179238e-03, -5.59878307e-04,  5.59900531e-03,\n",
              "         2.25069117e-03, -1.10958008e-03,  6.14554758e-04,  1.64112715e-03,\n",
              "        -2.87690245e-04,  4.45314402e-03, -4.78090832e-04, -1.75399993e-03,\n",
              "         2.98141053e-03, -9.47764387e-03, -2.36649240e-05, -4.50716944e-03,\n",
              "         1.52429573e-03, -7.04022676e-03, -1.23676146e-02,  1.04840751e-02,\n",
              "         1.52390315e-03,  9.96420382e-03,  6.86230119e-03, -6.68665072e-04,\n",
              "         3.93503862e-03, -6.96696158e-03,  1.75968493e-03,  6.84365021e-03,\n",
              "         3.90857084e-03,  4.43214810e-05,  9.71847649e-03, -6.04088848e-03,\n",
              "         1.84330043e-04, -5.31040191e-03, -8.13883494e-03,  4.34384682e-03,\n",
              "        -3.35613798e-03,  1.50381382e-03,  8.93489494e-03,  1.91346849e-03,\n",
              "        -9.40733843e-03,  2.14474925e-03, -2.99718164e-03, -6.92972008e-03]),\n",
              " 0.26)"
            ]
          },
          "metadata": {},
          "execution_count": 209
        }
      ]
    },
    {
      "cell_type": "code",
      "source": [
        "result_mmce_heart"
      ],
      "metadata": {
        "colab": {
          "base_uri": "https://localhost:8080/"
        },
        "id": "fC7Eb0lLp5XP",
        "outputId": "120dd80f-7149-4415-de77-2b183dfd2f8d"
      },
      "execution_count": null,
      "outputs": [
        {
          "output_type": "execute_result",
          "data": {
            "text/plain": [
              "(0.003851798698990523,\n",
              " array([-1.00896208e-02,  3.89986739e-03, -1.89447042e-03, -1.26000466e-03,\n",
              "         3.07922143e-03, -7.52985540e-03, -8.72647599e-04,  4.52101020e-03,\n",
              "        -1.44658331e-03,  6.54975767e-03, -9.58496995e-03,  6.23956241e-04,\n",
              "         2.10445720e-03,  9.01086687e-03, -2.53632560e-03, -1.07817314e-02,\n",
              "         7.04570803e-04, -3.84597710e-03,  1.27874993e-03,  1.37502562e-02,\n",
              "        -3.35850882e-03, -1.46052868e-03,  1.54679002e-04, -1.32571804e-02,\n",
              "         9.37671955e-03, -5.75166603e-03, -8.05105191e-03, -5.21126433e-03,\n",
              "        -9.12213263e-03, -9.72607903e-04,  2.63691103e-03, -8.66303132e-04,\n",
              "         7.62701432e-03,  4.06993395e-03,  5.41213893e-03, -9.40576131e-03,\n",
              "         9.77427300e-03, -1.16619013e-03,  8.30530801e-03, -4.56934651e-04,\n",
              "        -2.57188135e-03, -3.95603941e-03,  1.23469664e-02, -4.86075614e-03,\n",
              "        -8.55525982e-03,  2.55167995e-03, -6.79313816e-03, -3.61779889e-03,\n",
              "        -2.92666699e-03,  1.03739835e-02, -2.05552942e-03, -2.30441916e-03,\n",
              "         3.33298956e-03, -3.96583127e-03,  5.79811995e-03, -3.04263034e-03,\n",
              "        -6.57868704e-03,  7.49503052e-04,  4.89074626e-03,  1.31445804e-02,\n",
              "         7.34298023e-04, -4.99969929e-05, -1.01855528e-02,  4.41070488e-03,\n",
              "         7.37427274e-03, -4.66082286e-03,  2.16862521e-03, -2.80758186e-03,\n",
              "         1.52470429e-03,  7.16414336e-03,  8.95506694e-03, -9.12177707e-03,\n",
              "         2.40225018e-03,  1.76099154e-03,  5.02943216e-04, -1.47163535e-02,\n",
              "        -1.60840574e-03,  8.44288600e-03, -5.41054217e-03,  3.48440693e-03,\n",
              "         2.23726679e-03, -3.56036643e-03,  1.82603125e-03, -7.67696965e-03,\n",
              "        -4.89804935e-03, -3.78043817e-03,  7.49232874e-03,  7.62110959e-03,\n",
              "         3.40579743e-04, -9.69099725e-03, -5.74057775e-05,  3.51594081e-03,\n",
              "        -2.82284510e-04,  5.69992404e-03,  4.12790821e-03, -3.54745429e-03,\n",
              "        -3.18452035e-03, -2.65773989e-03, -2.95208086e-03,  1.94441063e-03,\n",
              "         8.18941082e-04,  7.01391428e-04, -2.64640075e-04,  3.47882554e-03,\n",
              "        -5.44054193e-03,  5.52544876e-03,  8.72627805e-03, -3.47314877e-03,\n",
              "        -1.37254756e-03,  2.05799433e-03, -1.85175888e-03, -8.00356294e-03,\n",
              "        -9.28510558e-04,  3.35676531e-03,  1.10370640e-02, -2.28272215e-03,\n",
              "         2.78528915e-04, -5.55983125e-03, -3.20054464e-03, -5.41172145e-03,\n",
              "        -5.85670571e-03, -2.53564742e-03,  1.67434545e-03, -3.71299123e-03,\n",
              "         4.72439652e-03,  5.99248242e-03, -1.65005607e-03, -5.14594196e-03,\n",
              "         1.68575130e-03, -4.31013010e-03, -4.60965153e-03, -3.05151629e-03,\n",
              "        -4.41418279e-03,  2.90046954e-03, -5.95979287e-03,  1.84341941e-03,\n",
              "        -3.43526691e-03,  2.81126244e-03, -3.44569051e-03, -3.00636843e-03,\n",
              "         5.82848422e-03,  3.69065149e-03, -6.04059977e-03,  7.37814633e-03,\n",
              "         6.36406681e-03,  9.70138305e-03, -1.65959206e-03, -3.69819009e-03,\n",
              "         6.00211851e-03,  2.34489077e-03,  8.99362105e-03,  3.55245716e-03,\n",
              "         6.62755245e-03, -2.62309179e-03, -1.84565630e-03, -4.16707892e-03,\n",
              "        -3.15161761e-03,  3.52186238e-03,  2.69711522e-03,  1.27651037e-03,\n",
              "        -2.19480329e-04, -1.50023499e-03,  7.77023298e-03,  5.23390121e-03,\n",
              "         1.27842033e-02,  4.51488598e-03, -1.87599937e-04, -1.22344599e-03,\n",
              "         8.24335648e-03,  1.06739195e-03,  8.59929406e-03,  1.25150191e-02,\n",
              "        -3.02213184e-04,  1.37854945e-02, -5.91654359e-03,  2.07696432e-02,\n",
              "        -2.41333357e-03,  3.28758391e-03,  4.11912077e-03, -7.18290395e-03,\n",
              "         4.79035863e-03, -6.27917764e-03,  4.14574896e-03, -5.66945016e-03,\n",
              "        -7.09185698e-03, -2.63274951e-03,  5.62296705e-03,  2.72010909e-03,\n",
              "        -1.42254024e-04,  1.06364266e-03, -7.04446070e-03,  3.31922054e-03,\n",
              "        -1.66663824e-03, -1.99017393e-03,  5.75372699e-03, -1.69303111e-03,\n",
              "        -1.31404652e-03, -2.86804516e-04,  6.05448096e-03,  2.48942251e-03,\n",
              "        -6.10989445e-03,  1.94294657e-03, -1.18904248e-02, -1.47011864e-03,\n",
              "         5.03149623e-03,  3.76906268e-03, -5.63785464e-03, -4.38459838e-03,\n",
              "         1.03544627e-03, -3.73618443e-03, -3.28122212e-03,  6.79832077e-03,\n",
              "        -3.15206056e-03, -5.05843583e-03,  2.48843499e-03, -6.71676581e-04,\n",
              "         7.96290980e-04, -5.29160599e-03,  3.69746602e-04,  1.58088968e-03,\n",
              "        -6.01772938e-03,  3.95567158e-03, -1.58518341e-03,  4.38957525e-03,\n",
              "        -3.98495504e-03,  5.09396907e-03, -1.33985353e-03,  3.19839741e-03,\n",
              "         7.73017649e-03, -8.47792022e-04, -3.98561271e-03, -1.44879300e-03,\n",
              "        -8.21103226e-03, -1.07090231e-04,  1.06608464e-06,  4.39463186e-03,\n",
              "         4.51332514e-03,  2.31215960e-03,  2.80415414e-03, -1.85846938e-04,\n",
              "        -3.80407316e-03, -3.90406260e-03, -3.12682771e-03, -2.36660071e-03,\n",
              "         1.83090068e-03,  7.70173132e-03,  1.28515967e-03,  3.19125035e-03,\n",
              "        -6.04658916e-03,  1.70849329e-05,  2.04108952e-03, -3.83266051e-03,\n",
              "         2.31690836e-03, -2.41850614e-03, -3.86270319e-04,  4.05313917e-03,\n",
              "        -4.06482125e-03, -1.06015800e-02,  2.83108793e-03,  4.42264477e-03,\n",
              "         5.18526710e-04, -1.58242373e-03, -3.03776652e-03,  4.55995876e-03,\n",
              "        -2.13995842e-03, -4.89645861e-03, -8.45304565e-03, -7.42336662e-04,\n",
              "        -4.85359808e-04,  5.65459769e-04, -2.28096525e-03,  6.04078829e-04,\n",
              "         5.16970929e-04, -1.99026702e-03, -7.51374095e-03,  7.64541785e-03,\n",
              "        -4.77892308e-03,  8.54712338e-03, -5.24711513e-03,  5.77096870e-03,\n",
              "         5.54502398e-03,  6.21153551e-03, -1.14673447e-03, -8.14660037e-03,\n",
              "        -2.51715554e-03,  8.54662753e-03, -9.92321082e-03, -5.10521540e-03,\n",
              "        -5.31999426e-03,  1.26485126e-02,  3.40145073e-03, -3.00338623e-03,\n",
              "        -5.70212115e-04,  2.02806076e-03, -2.17645657e-03, -5.20354064e-03,\n",
              "         3.08263052e-03, -3.75246683e-03, -4.59179125e-03,  4.28054327e-03,\n",
              "        -3.79624917e-03,  2.17228059e-03, -4.55971637e-03, -6.99858671e-03,\n",
              "         1.47553495e-03,  9.42497359e-03,  1.90586935e-03, -8.83419790e-03,\n",
              "         8.64297137e-03, -5.87421243e-03,  3.55980574e-03,  2.11097052e-03,\n",
              "        -1.02184882e-02,  3.00065539e-03,  1.09282438e-03,  5.87237780e-04,\n",
              "         8.65726011e-03,  2.83382558e-03, -6.03572607e-03,  1.02060353e-03,\n",
              "         8.55135546e-03,  2.58081778e-03, -6.43871586e-03, -6.56287996e-03,\n",
              "        -4.30676561e-03,  6.48600527e-04, -3.09513800e-04,  6.54119694e-03,\n",
              "        -1.08303604e-03, -6.88990554e-03, -3.79512283e-03, -1.54743491e-04,\n",
              "         7.76118892e-04,  6.30632215e-03, -4.31338455e-03, -9.74062049e-03,\n",
              "         2.02029721e-04, -4.73973210e-04, -8.58286802e-03,  6.31625444e-03,\n",
              "        -1.70521120e-03, -5.83387606e-03,  5.04572258e-03,  1.88054146e-03,\n",
              "        -9.65141929e-03, -8.80066644e-03,  7.48722925e-03,  5.85605316e-04,\n",
              "        -2.73363542e-03, -8.74159205e-06,  9.57987224e-03, -8.39163900e-03,\n",
              "        -1.44458334e-03,  1.41705983e-03, -5.26462713e-03, -1.32530144e-03,\n",
              "         2.17628303e-03, -3.33647604e-03, -3.68252844e-03,  1.35008028e-02,\n",
              "        -1.64216542e-03, -5.45742550e-03, -2.14454222e-03, -5.47705782e-04,\n",
              "        -1.40826396e-03, -3.73761852e-03, -6.05039915e-03,  4.42536163e-03,\n",
              "         7.86039780e-04, -5.75695055e-03,  2.03953760e-04,  2.01656881e-04,\n",
              "        -3.98751420e-03, -1.84375433e-03, -3.33438324e-03,  4.65818359e-03,\n",
              "        -4.20614432e-03,  1.88197685e-03, -7.85769060e-06,  8.59414309e-03,\n",
              "         2.33958771e-03, -5.14575729e-03,  1.66103067e-03,  6.72122438e-03,\n",
              "        -1.17150918e-04,  6.59833828e-04, -3.56728199e-03,  6.78494509e-04,\n",
              "         9.48594445e-04,  2.73011687e-03, -8.13728094e-03, -8.44714965e-04,\n",
              "         5.53402699e-03, -9.50698447e-04,  2.93373078e-03, -8.75142928e-03,\n",
              "         3.98170731e-03,  1.87724573e-03, -4.65501121e-03,  3.31749573e-03,\n",
              "         7.44386252e-03, -3.91711357e-03, -1.78774899e-04,  4.34776693e-03,\n",
              "        -4.48705935e-03, -1.45293670e-03, -9.00946157e-04, -3.07311724e-03,\n",
              "        -2.04274059e-03, -1.74137566e-03, -7.63572520e-03, -9.58071343e-04,\n",
              "        -6.31903069e-03, -6.95012620e-03,  6.34731912e-03, -3.56760648e-03,\n",
              "         2.79863963e-04,  1.03675882e-02, -1.20299371e-03, -1.39537911e-03,\n",
              "         7.27328957e-04,  6.83810325e-03,  3.41835077e-03, -3.78264112e-03,\n",
              "         1.02010972e-03, -6.68283205e-03, -1.00826235e-02,  9.42405487e-03,\n",
              "         2.78893672e-03, -4.30578654e-03,  4.92499235e-03,  7.46918298e-03,\n",
              "         3.14606690e-03, -3.20023522e-03, -3.42215566e-03,  7.01965645e-03,\n",
              "        -5.00239905e-03,  8.12467127e-03,  6.61158759e-03,  1.20783930e-03,\n",
              "        -3.34490129e-04,  1.52636090e-04, -5.78533157e-03, -4.65666614e-04,\n",
              "        -2.53247815e-03,  6.60326032e-03, -1.04491078e-03, -9.54607424e-05,\n",
              "        -5.30845883e-03, -2.91236908e-03,  2.28713241e-03,  1.90018451e-03,\n",
              "         7.52900717e-03,  5.02009604e-03, -1.05885223e-02, -7.09396963e-03,\n",
              "        -9.22550636e-05,  2.79659198e-03, -6.62477140e-03, -4.47060145e-04,\n",
              "         3.63497499e-04,  7.21779810e-04, -2.23895162e-03, -6.11746044e-04,\n",
              "        -4.87875370e-03, -3.68261758e-03,  1.39945943e-02, -1.27874018e-03,\n",
              "        -8.23191882e-05,  5.95259927e-03, -8.84424932e-04,  1.49761153e-03,\n",
              "        -3.40487437e-04, -9.64834396e-04, -3.55971811e-03,  1.96079357e-03,\n",
              "         2.01249830e-03,  3.75433881e-03, -1.74369341e-03,  5.41451015e-03,\n",
              "        -1.19476543e-02, -2.22376030e-03,  2.57198773e-03, -2.54647352e-03,\n",
              "        -2.95802266e-03,  7.22856278e-03, -2.97016428e-03,  6.89109643e-04,\n",
              "        -2.88558937e-03, -2.96222421e-03,  8.36957811e-03, -1.53508697e-03,\n",
              "         7.58300186e-03,  9.83722358e-03,  3.47508502e-03,  6.17945663e-03,\n",
              "        -3.32034625e-04, -5.38092852e-03,  1.41588657e-03,  1.05410818e-03]),\n",
              " 0.222)"
            ]
          },
          "metadata": {},
          "execution_count": 210
        }
      ]
    }
  ]
}