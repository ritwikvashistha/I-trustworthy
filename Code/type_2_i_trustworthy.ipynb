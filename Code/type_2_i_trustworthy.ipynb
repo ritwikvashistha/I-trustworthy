{
  "nbformat": 4,
  "nbformat_minor": 0,
  "metadata": {
    "colab": {
      "provenance": [],
      "machine_shape": "hm",
      "gpuType": "V28"
    },
    "kernelspec": {
      "name": "python3",
      "display_name": "Python 3"
    },
    "language_info": {
      "name": "python"
    },
    "accelerator": "TPU"
  },
  "cells": [
    {
      "cell_type": "code",
      "execution_count": null,
      "metadata": {
        "id": "UXvXKlm5PFDb"
      },
      "outputs": [],
      "source": [
        "import jax.numpy as jnp\n",
        "from sklearn.metrics import pairwise_kernels\n",
        "import jax.random as random\n",
        "from jax import vmap, jit\n",
        "from functools import partial"
      ]
    },
    {
      "cell_type": "code",
      "source": [
        "import jax.numpy as jnp\n",
        "from jax import random, jit, vmap\n",
        "from functools import partial\n",
        "import jax\n",
        "\n",
        "@jit\n",
        "def rbf_kernel(X, Y, gamma):\n",
        "    \"\"\"\n",
        "    Compute the RBF (Gaussian) kernel between X and Y.\n",
        "    \"\"\"\n",
        "    squared_diff = jnp.sum(X**2, axis=1)[:, None] + jnp.sum(Y**2, axis=1)[None, :] - 2 * jnp.dot(X, Y.T)\n",
        "    return jnp.exp(-gamma * squared_diff)\n",
        "\n",
        "@jit\n",
        "def create_kernel(X, p, prob_kernel_width, x_kernel_width):\n",
        "    K_pp_gamma = 1.0 / (prob_kernel_width**2)\n",
        "    K_xx_gamma = 1.0 / (x_kernel_width**2)\n",
        "    K_pp = rbf_kernel(p[:, None], p[:, None], K_pp_gamma)\n",
        "    K_xx = rbf_kernel(X, X, K_xx_gamma)\n",
        "    return K_pp * K_xx\n",
        "\n",
        "@jit\n",
        "def ELCE2_estimator(K, err):\n",
        "    err_expanded = err[:, None]\n",
        "    K_1 = err_expanded * K * err_expanded.T\n",
        "    return jnp.sum(K_1) - jnp.sum(jnp.diag(K_1))\n",
        "\n",
        "@jit\n",
        "def ELCE2(X, Y, p, prob_kernel_width, x_kernel_width):\n",
        "    K = create_kernel(X, p, prob_kernel_width, x_kernel_width)\n",
        "    p_err = Y - p\n",
        "    return ELCE2_estimator(K, p_err)\n",
        "\n",
        "\n",
        "def generate_data(key, N, d):\n",
        "    key, subkey1, subkey2, subkey3 = random.split(key, 4)\n",
        "    X = random.normal(subkey1, shape=(N, d))\n",
        "    beta = jnp.ones(d)\n",
        "    linear_combination = X @ beta\n",
        "    p = jax.nn.sigmoid(linear_combination)\n",
        "    Y = random.bernoulli(subkey2, p)\n",
        "\n",
        "    miscal_beta = jnp.ones(d-1)\n",
        "    miscal_linear_combination = X[:, :-1] @ miscal_beta\n",
        "    miscal_p = jax.nn.sigmoid(miscal_linear_combination)\n",
        "    miscal_Y = random.bernoulli(subkey3, miscal_p)\n",
        "\n",
        "    return X, Y, p, miscal_Y, miscal_p\n",
        "\n",
        "\n",
        "def single_bootstrap(key, N, d, prob_kernel_width, x_kernel_width):\n",
        "    X, Y, p, miscal_Y, miscal_p = generate_data(key, N, d)\n",
        "    test_value = ELCE2(X, Y, miscal_p, prob_kernel_width, x_kernel_width)\n",
        "    null_value = ELCE2(X, Y, p, prob_kernel_width, x_kernel_width)\n",
        "    return test_value, null_value\n",
        "\n",
        "\n",
        "def test_p_value_type2(key, N, d, bootstrap_runs, prob_kernel_width, x_kernel_width):\n",
        "    keys = random.split(key, bootstrap_runs)\n",
        "    test_values, null_values = vmap(single_bootstrap, (0, None, None, None, None))(\n",
        "        keys, N, d, prob_kernel_width, x_kernel_width\n",
        "    )\n",
        "    return jnp.mean(null_values > test_values)"
      ],
      "metadata": {
        "id": "ZcEhwdJwjRXI"
      },
      "execution_count": null,
      "outputs": []
    },
    {
      "cell_type": "code",
      "source": [
        "N = 1000\n",
        "d = 50\n",
        "bootstrap_runs = 500\n",
        "prob_kernel_width = 0.01\n",
        "x_kernel_width = 0.01\n",
        "key = random.PRNGKey(0)\n",
        "\n",
        "p_value = test_p_value_type2(key, N, d, bootstrap_runs, prob_kernel_width, x_kernel_width)\n",
        "print(f\"p-value: {p_value}\")"
      ],
      "metadata": {
        "colab": {
          "base_uri": "https://localhost:8080/"
        },
        "id": "_U2yVRgGovo2",
        "outputId": "d3f61797-c118-4d49-ce69-490b2eeaaa99"
      },
      "execution_count": null,
      "outputs": [
        {
          "output_type": "stream",
          "name": "stdout",
          "text": [
            "p-value: 0.0\n"
          ]
        }
      ]
    },
    {
      "cell_type": "code",
      "source": [
        "key = random.PRNGKey(0)\n",
        "bootstrap_runs=100\n",
        "N = 1000\n",
        "d= 10\n",
        "keys = random.split(key, 2)\n",
        "X, Y, p, miscal_Y, miscal_p = vmapped_data(N, d, random.split(keys[0],bootstrap_runs))"
      ],
      "metadata": {
        "id": "aX36I9fbjZXk"
      },
      "execution_count": null,
      "outputs": []
    },
    {
      "cell_type": "code",
      "source": [
        "X[:,:,:-1].shape"
      ],
      "metadata": {
        "colab": {
          "base_uri": "https://localhost:8080/"
        },
        "id": "MIMQZ-GbmMdn",
        "outputId": "ad2987de-73ae-4509-b1c5-3bbf5d5bce81"
      },
      "execution_count": null,
      "outputs": [
        {
          "output_type": "execute_result",
          "data": {
            "text/plain": [
              "(100, 1000, 9)"
            ]
          },
          "metadata": {},
          "execution_count": 33
        }
      ]
    },
    {
      "cell_type": "code",
      "source": [
        "test_value=vmapped_elce(X[:,:,:-1],Y,miscal_p,0.002,0.002)\n",
        "null_value=vmapped_elce(X[:,:,:-1],Y,p,0.002,0.002)"
      ],
      "metadata": {
        "id": "MCBuSaqwjepV"
      },
      "execution_count": null,
      "outputs": []
    },
    {
      "cell_type": "code",
      "source": [
        "jnp.mean(null_value > test_value)"
      ],
      "metadata": {
        "colab": {
          "base_uri": "https://localhost:8080/"
        },
        "id": "4pNJWKDjl_Po",
        "outputId": "7b5398d6-6362-4aa6-c092-6aebd42a7605"
      },
      "execution_count": null,
      "outputs": [
        {
          "output_type": "execute_result",
          "data": {
            "text/plain": [
              "Array(0.45, dtype=float32)"
            ]
          },
          "metadata": {},
          "execution_count": 41
        }
      ]
    },
    {
      "cell_type": "code",
      "source": [
        "test_value.shape"
      ],
      "metadata": {
        "colab": {
          "base_uri": "https://localhost:8080/"
        },
        "id": "hfYywBSaltJp",
        "outputId": "89f67206-a67a-4f66-fa89-cf01e75d3873"
      },
      "execution_count": null,
      "outputs": [
        {
          "output_type": "execute_result",
          "data": {
            "text/plain": [
              "(100,)"
            ]
          },
          "metadata": {},
          "execution_count": 25
        }
      ]
    },
    {
      "cell_type": "markdown",
      "source": [
        "# New Section"
      ],
      "metadata": {
        "id": "h9CT8KCJt1h8"
      }
    },
    {
      "cell_type": "code",
      "source": [
        "def create_kernel(X, p, prob_kernel_width):\n",
        "\n",
        "    K_pp_gamma = 1.0 / (prob_kernel_width**2)\n",
        "    K_pp_data = p[:, jnp.newaxis]\n",
        "    K_pp = pairwise_kernels(K_pp_data, K_pp_data, metric=\"rbf\", gamma=K_pp_gamma)\n",
        "    K_xx = pairwise_kernels(X, X, metric=\"rbf\", gamma=K_pp_gamma)\n",
        "    K = K_pp * K_xx\n",
        "    return jnp.array(K)\n",
        "\n",
        "def ELCE2_estimator(K_xx, err):\n",
        "\n",
        "    K = (err.flatten() * K_xx.T).T * err.flatten()\n",
        "    return K.sum() - K.diagonal().sum()\n",
        "\n",
        "def ELCE2_normalization(K):\n",
        "\n",
        "    size = K.shape[0]\n",
        "    return (size - 1.0) * K.sum() / size\n",
        "\n",
        "def ELCE2_null_estimator(err, K, key):\n",
        "\n",
        "    idx = random.permutation(key, len(err))\n",
        "    return ELCE2_estimator(K, err[idx])\n",
        "\n",
        "vmapped_ELCE2_null_estimator = jit(vmap(ELCE2_null_estimator, (None, None, 0)))\n",
        "\n",
        "def compute_null_distribution(p_err, K, key, iterations):\n",
        "\n",
        "    keys = random.split(key, iterations)\n",
        "    test_null = vmapped_ELCE2_null_estimator(p_err, K, keys)\n",
        "    return test_null\n",
        "\n",
        "def ELCE2(X, Y, p, prob_kernel_width, iterations, key):\n",
        "\n",
        "    K = create_kernel(X, p, prob_kernel_width=prob_kernel_width)\n",
        "    p_err = Y - p\n",
        "\n",
        "    test_value = ELCE2_estimator(K, p_err)\n",
        "\n",
        "    resolution = 1.0 / iterations\n",
        "\n",
        "    test_null = compute_null_distribution(p_err, K, key, iterations)\n",
        "\n",
        "    p_value = jnp.max(jnp.array([resolution, resolution * jnp.sum(test_null > test_value)]))\n",
        "\n",
        "    return p_value\n",
        "\n",
        "def test_p_value(N, d, iterations, key, prob_kernel_width):\n",
        "    keys = random.split(key, 2)\n",
        "    X, Y, p = generate_data(keys[0], N, d)\n",
        "    p_value = ELCE2(X, Y, p, prob_kernel_width, iterations, keys[1])\n",
        "    return p_value\n",
        "\n",
        "\n",
        "def generate_data(key, N, d):\n",
        "    key, subkey1, subkey2, subkey3 = random.split(key, 4)\n",
        "    X = random.normal(subkey1, shape=(N, d))\n",
        "    beta = jnp.ones(d)\n",
        "    linear_combination = X @ beta\n",
        "    p = jax.nn.sigmoid(linear_combination)\n",
        "    Y = random.bernoulli(subkey2, p)\n",
        "\n",
        "    miscal_beta = jnp.ones(d-1)\n",
        "    miscal_linear_combination = X[:, :-1] @ miscal_beta\n",
        "    miscal_p = jax.nn.sigmoid(miscal_linear_combination)\n",
        "    miscal_Y = random.bernoulli(subkey3, miscal_p)\n",
        "\n",
        "    return X, Y, miscal_p\n"
      ],
      "metadata": {
        "id": "0nwrR38at086"
      },
      "execution_count": null,
      "outputs": []
    },
    {
      "cell_type": "code",
      "source": [
        "def vectorize_test_p_value(N, d, iterations, key, prob_kernel_width):\n",
        "\n",
        "    # Generate 1000 keys\n",
        "    keys = random.split(key, 1000)\n",
        "\n",
        "    # Compute p-values for 4000 realizations\n",
        "    p_values = [test_p_value(N, d, iterations, key_, prob_kernel_width) for key_ in keys]\n",
        "\n",
        "    # Convert to a standard JAX array\n",
        "    p_values = jnp.array(p_values)\n",
        "\n",
        "    # Compute the number of times p_value < 0.05\n",
        "    rate = jnp.sum(p_values > 0.05) / 1000.0\n",
        "\n",
        "    return rate"
      ],
      "metadata": {
        "id": "VOiSv6tzwJIk"
      },
      "execution_count": null,
      "outputs": []
    },
    {
      "cell_type": "code",
      "source": [
        "N = 1000\n",
        "iterations = 1000\n",
        "random_state = 6733\n",
        "d_values = [10, 20, 30, 40,50]\n",
        "prob_kernel_width = 5\n",
        "key = random.PRNGKey(random_state)\n",
        "\n",
        "rate = [vectorize_test_p_value(N,d, iterations, key, prob_kernel_width) for d in d_values]\n",
        "print(\"Number of p-values > 0.05:\", rate)"
      ],
      "metadata": {
        "colab": {
          "base_uri": "https://localhost:8080/"
        },
        "id": "X1D1aHU5wVxy",
        "outputId": "c2f1ede2-f9fb-4762-aa22-b335e58206a8"
      },
      "execution_count": null,
      "outputs": [
        {
          "output_type": "stream",
          "name": "stdout",
          "text": [
            "Number of p-values > 0.05: [Array(0., dtype=float32, weak_type=True), Array(0.001, dtype=float32, weak_type=True), Array(0.012, dtype=float32, weak_type=True), Array(0.051, dtype=float32, weak_type=True), Array(0.15, dtype=float32, weak_type=True)]\n"
          ]
        }
      ]
    },
    {
      "cell_type": "code",
      "source": [
        "N = 500\n",
        "iterations = 1000\n",
        "random_state = 6733\n",
        "d_values = [10, 20, 30, 40,50]\n",
        "prob_kernel_width = 5\n",
        "key = random.PRNGKey(random_state)\n",
        "\n",
        "rate2 = [vectorize_test_p_value(N,d, iterations, key, prob_kernel_width) for d in d_values]\n",
        "print(\"Number of p-values > 0.05:\", rate2)"
      ],
      "metadata": {
        "colab": {
          "base_uri": "https://localhost:8080/"
        },
        "id": "RnbdoUPJPuVh",
        "outputId": "4bf8fcd5-5b06-42f4-e29a-ad5cd461899c"
      },
      "execution_count": null,
      "outputs": [
        {
          "output_type": "stream",
          "name": "stdout",
          "text": [
            "Number of p-values > 0.05: [Array(0.006, dtype=float32, weak_type=True), Array(0.06900001, dtype=float32, weak_type=True), Array(0.24200001, dtype=float32, weak_type=True), Array(0.42600003, dtype=float32, weak_type=True), Array(0.53400004, dtype=float32, weak_type=True)]\n"
          ]
        }
      ]
    },
    {
      "cell_type": "code",
      "source": [],
      "metadata": {
        "colab": {
          "base_uri": "https://localhost:8080/"
        },
        "id": "CkrN0IXyRPvV",
        "outputId": "098ee33c-db9e-46f3-8182-a3b26f171878"
      },
      "execution_count": null,
      "outputs": [
        {
          "output_type": "stream",
          "name": "stdout",
          "text": [
            "Number of p-values > 0.05: [Array(0.595, dtype=float32, weak_type=True), Array(0.77000004, dtype=float32, weak_type=True), Array(0.851, dtype=float32, weak_type=True), Array(0.87700003, dtype=float32, weak_type=True), Array(0.896, dtype=float32, weak_type=True)]\n"
          ]
        }
      ]
    },
    {
      "cell_type": "code",
      "source": [
        "# prompt: plot a graph of rate against d_values\n",
        "\n",
        "rate_ = jnp.array(rate)\n",
        "# Calculate confidence interval\n",
        "confidence_interval = jnp.sqrt(rate_ * (1.0-rate_) / 1000)\n",
        "\n",
        "rate_2 = jnp.array(rate2)\n",
        "# Calculate confidence interval\n",
        "confidence_interval2 = jnp.sqrt(rate_2 * (1.0-rate_2) / 1000)\n",
        "\n",
        "\n",
        "import matplotlib.pyplot as plt\n",
        "# Plotting\n",
        "\n",
        "plt.figure(figsize=(10, 6))\n",
        "plt.plot(d_values, rate,label =\"N=1000\")\n",
        "\n",
        "plt.fill_between(d_values, rate_ - confidence_interval, rate_ + confidence_interval,\n",
        "                 color='b', alpha=0.2)\n",
        "\n",
        "plt.plot(d_values, rate2,label =\"N=500\",color='g')\n",
        "plt.fill_between(d_values, rate_2 - confidence_interval2, rate_2 + confidence_interval2,\n",
        "                 color='g', alpha=0.2)\n",
        "\n",
        "# Add legend\n",
        "plt.legend(fontsize=17)\n",
        "# Show plot\n",
        "plt.grid(True)\n",
        "# Increase font size for tick labels\n",
        "plt.xticks(fontsize=15)\n",
        "plt.yticks(fontsize=15)\n",
        "\n",
        "plt.xlabel(\"Dimension of $X$\",fontsize=20)\n",
        "plt.ylabel(\"Type- 2 Error\",fontsize=20)\n",
        "plt.title(\"Type-2 Error vs. Dimension of $X$\",fontsize=20)\n",
        "plt.show()\n"
      ],
      "metadata": {
        "colab": {
          "base_uri": "https://localhost:8080/",
          "height": 594
        },
        "id": "SK-7lkFKLzJQ",
        "outputId": "18132010-9549-4183-fd38-06bc7f3c6e6e"
      },
      "execution_count": null,
      "outputs": [
        {
          "output_type": "display_data",
          "data": {
            "text/plain": [
              "<Figure size 1000x600 with 1 Axes>"
            ],
            "image/png": "[encoded data removed]"
          },
          "metadata": {}
        }
      ]
    },
    {
      "cell_type": "code",
      "source": [
        "vectorize_test_p_value(100,10, iterations, key, 5)"
      ],
      "metadata": {
        "colab": {
          "base_uri": "https://localhost:8080/"
        },
        "id": "mjcs1g2hyUlB",
        "outputId": "220fbbb6-d02b-4b3e-823a-8b8b637713fa"
      },
      "execution_count": null,
      "outputs": [
        {
          "output_type": "execute_result",
          "data": {
            "text/plain": [
              "Array(0.595, dtype=float32, weak_type=True)"
            ]
          },
          "metadata": {},
          "execution_count": 74
        }
      ]
    },
    {
      "cell_type": "code",
      "source": [
        "key = random.PRNGKey(0)\n",
        "bootstrap_runs=100\n",
        "N = 1000\n",
        "d= 10\n",
        "X, Y, p, miscal_Y, miscal_p = generate_data(key, N, d)"
      ],
      "metadata": {
        "id": "1-olmRktuoGX"
      },
      "execution_count": null,
      "outputs": []
    },
    {
      "cell_type": "code",
      "source": [
        "random_state = 6733\n",
        "key = random.PRNGKey(random_state)\n",
        "ELCE2(X, Y, miscal_p, 1, 1000, key)"
      ],
      "metadata": {
        "colab": {
          "base_uri": "https://localhost:8080/"
        },
        "id": "e-GoYpC1u1V_",
        "outputId": "c972a6b3-e8bc-42f3-b409-3e8863eea2fb"
      },
      "execution_count": null,
      "outputs": [
        {
          "output_type": "execute_result",
          "data": {
            "text/plain": [
              "Array(0.001, dtype=float32)"
            ]
          },
          "metadata": {},
          "execution_count": 36
        }
      ]
    }
  ]
}